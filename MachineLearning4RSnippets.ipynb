{
 "cells": [
  {
   "cell_type": "markdown",
   "metadata": {},
   "source": [
    "# 회귀분석"
   ]
  },
  {
   "cell_type": "markdown",
   "metadata": {},
   "source": [
    "## Linear Discriminant Analysis\n",
    "## Logistic Regression"
   ]
  },
  {
   "cell_type": "code",
   "execution_count": 6,
   "metadata": {},
   "outputs": [
    {
     "name": "stdout",
     "output_type": "stream",
     "text": [
      "Linear discriminant: 0.3201349 0.004171742 \n",
      "Logistic regression: 0.3415502 0.004689805 \n"
     ]
    }
   ],
   "source": [
    "suppressMessages({\n",
    "    library(MASS)\n",
    "    library(mlbench)\n",
    "})\n",
    "data(Sonar) #데이터\n",
    "set.seed(1)\n",
    "maxiter=100\n",
    "n=nrow(Sonar)\n",
    "err.lda=err.log=rep(0,maxiter)\n",
    "for(i in 1:maxiter) {\n",
    "    suppressWarnings(\n",
    "        {\n",
    "            idx=sample(1:n,size=floor(2*n/3),replace=TRUE)\n",
    "            Sonar.tr=Sonar[idx,] #학습 데이터\n",
    "            Sonar.te=Sonar[-idx,] #검증 데이터\n",
    "            #LDA\n",
    "            fit1=lda(Class~.,Sonar.tr)\n",
    "            pred=predict(fit1,Sonar.te)$class\n",
    "            err.lda[i]=mean(Sonar.te$Class != pred) #test error rate\n",
    "            #logit\n",
    "            fit2=glm(Class~.,Sonar.tr,family=binomial())\n",
    "            prob=predict(fit2,Sonar.te,type='response')\n",
    "            p.class=ifelse(prob>0.5,'R','M')\n",
    "            err.log[i]=mean(Sonar.te$Class!=p.class) #test error rate\n",
    "        }\n",
    "    )\n",
    "\n",
    "}\n",
    "cat(\"Linear discriminant:\",mean(err.lda),sd(err.lda)/sqrt(maxiter),'\\n')\n",
    "cat(\"Logistic regression:\",mean(err.log),sd(err.log)/sqrt(maxiter),\"\\n\")"
   ]
  },
  {
   "cell_type": "markdown",
   "metadata": {},
   "source": [
    "# 의사결정 나무"
   ]
  },
  {
   "cell_type": "code",
   "execution_count": 65,
   "metadata": {},
   "outputs": [
    {
     "data": {
      "text/plain": [
       "\n",
       "Classification tree:\n",
       "tree(formula = Species ~ ., data = iris)\n",
       "Variables actually used in tree construction:\n",
       "[1] \"Petal.Length\" \"Petal.Width\"  \"Sepal.Length\"\n",
       "Number of terminal nodes:  6 \n",
       "Residual mean deviance:  0.1253 = 18.05 / 144 \n",
       "Misclassification error rate: 0.02667 = 4 / 150 "
      ]
     },
     "metadata": {},
     "output_type": "display_data"
    }
   ],
   "source": [
    "library(MASS)\n",
    "suppressWarnings(library(tree))\n",
    "data(iris)\n",
    "ir.tr=tree(Species~.,iris)\n",
    "summary(ir.tr)"
   ]
  },
  {
   "cell_type": "code",
   "execution_count": 66,
   "metadata": {},
   "outputs": [
    {
     "data": {
      "text/plain": [
       "node), split, n, deviance, yval, (yprob)\n",
       "      * denotes terminal node\n",
       "\n",
       " 1) root 150 329.600 setosa ( 0.33333 0.33333 0.33333 )  \n",
       "   2) Petal.Length < 2.45 50   0.000 setosa ( 1.00000 0.00000 0.00000 ) *\n",
       "   3) Petal.Length > 2.45 100 138.600 versicolor ( 0.00000 0.50000 0.50000 )  \n",
       "     6) Petal.Width < 1.75 54  33.320 versicolor ( 0.00000 0.90741 0.09259 )  \n",
       "      12) Petal.Length < 4.95 48   9.721 versicolor ( 0.00000 0.97917 0.02083 )  \n",
       "        24) Sepal.Length < 5.15 5   5.004 versicolor ( 0.00000 0.80000 0.20000 ) *\n",
       "        25) Sepal.Length > 5.15 43   0.000 versicolor ( 0.00000 1.00000 0.00000 ) *\n",
       "      13) Petal.Length > 4.95 6   7.638 virginica ( 0.00000 0.33333 0.66667 ) *\n",
       "     7) Petal.Width > 1.75 46   9.635 virginica ( 0.00000 0.02174 0.97826 )  \n",
       "      14) Petal.Length < 4.95 6   5.407 virginica ( 0.00000 0.16667 0.83333 ) *\n",
       "      15) Petal.Length > 4.95 40   0.000 virginica ( 0.00000 0.00000 1.00000 ) *"
      ]
     },
     "metadata": {},
     "output_type": "display_data"
    }
   ],
   "source": [
    "ir.tr"
   ]
  },
  {
   "cell_type": "code",
   "execution_count": 68,
   "metadata": {
    "scrolled": false
   },
   "outputs": [
    {
     "data": {
      "image/png": "[encoded data removed]",
      "text/plain": [
       "plot without title"
      ]
     },
     "metadata": {},
     "output_type": "display_data"
    }
   ],
   "source": [
    "plot(ir.tr)\n",
    "text(ir.tr,all=TRUE)"
   ]
  },
  {
   "cell_type": "code",
   "execution_count": 69,
   "metadata": {},
   "outputs": [
    {
     "data": {
      "image/png": "[encoded data removed]",
      "text/plain": [
       "plot without title"
      ]
     },
     "metadata": {},
     "output_type": "display_data"
    }
   ],
   "source": [
    "ir.tr1=snip.tree(ir.tr,nodes=c(12,7))\n",
    "plot(ir.tr1); text(ir.tr1,all=TRUE)"
   ]
  },
  {
   "cell_type": "markdown",
   "metadata": {},
   "source": [
    "# 신경망"
   ]
  },
  {
   "cell_type": "code",
   "execution_count": 71,
   "metadata": {},
   "outputs": [
    {
     "name": "stderr",
     "output_type": "stream",
     "text": [
      "Warning message:\n",
      "\"package 'nnet' was built under R version 3.6.3\""
     ]
    },
    {
     "name": "stdout",
     "output_type": "stream",
     "text": [
      "# weights:  19\n",
      "initial  value 82.495138 \n",
      "iter  10 value 34.941507\n",
      "iter  20 value 34.686433\n",
      "iter  30 value 34.685651\n",
      "iter  40 value 34.682109\n",
      "iter  50 value 34.680797\n",
      "iter  60 value 34.615480\n",
      "iter  70 value 21.570455\n",
      "iter  80 value 7.830205\n",
      "iter  90 value 4.842510\n",
      "iter 100 value 4.826724\n",
      "final  value 4.826724 \n",
      "stopped after 100 iterations\n"
     ]
    }
   ],
   "source": [
    "data(iris)\n",
    "library(nnet)\n",
    "samp=c(sample(1:50,25),sample(51:100,25),sample(101:150,25))\n",
    "iris.tr=iris[samp,]\n",
    "iris.te=iris[-samp,]\n",
    "ir1=nnet(Species~.,data=iris.tr,size=2,decay=0.00004)\n"
   ]
  },
  {
   "cell_type": "code",
   "execution_count": 72,
   "metadata": {},
   "outputs": [
    {
     "data": {
      "text/plain": [
       "a 4-2-3 network with 19 weights\n",
       "options were - softmax modelling  decay=4e-05\n",
       " b->h1 i1->h1 i2->h1 i3->h1 i4->h1 \n",
       " -0.09  -1.90  -0.41  -3.47  -0.93 \n",
       " b->h2 i1->h2 i2->h2 i3->h2 i4->h2 \n",
       " -2.76  -0.14  -1.06   0.94   1.90 \n",
       " b->o1 h1->o1 h2->o1 \n",
       " 14.42  -4.52 -39.53 \n",
       " b->o2 h1->o2 h2->o2 \n",
       "  6.98   2.03   0.45 \n",
       " b->o3 h1->o3 h2->o3 \n",
       "-22.04   2.75  38.74 "
      ]
     },
     "metadata": {},
     "output_type": "display_data"
    }
   ],
   "source": [
    "summary(ir1)"
   ]
  },
  {
   "cell_type": "code",
   "execution_count": 77,
   "metadata": {},
   "outputs": [],
   "source": [
    "y=iris.te$Species\n",
    "p=predict(ir1,iris.te,type='class')"
   ]
  },
  {
   "cell_type": "code",
   "execution_count": 78,
   "metadata": {},
   "outputs": [
    {
     "data": {
      "text/plain": [
       "            p\n",
       "y            setosa versicolor virginica\n",
       "  setosa         25          0         0\n",
       "  versicolor      0         23         2\n",
       "  virginica       0          0        25"
      ]
     },
     "metadata": {},
     "output_type": "display_data"
    }
   ],
   "source": [
    "table(y,p)"
   ]
  },
  {
   "cell_type": "markdown",
   "metadata": {},
   "source": [
    "# Naive Bayes"
   ]
  },
  {
   "cell_type": "code",
   "execution_count": 82,
   "metadata": {},
   "outputs": [
    {
     "name": "stdout",
     "output_type": "stream",
     "text": [
      "'data.frame':\t435 obs. of  17 variables:\n",
      " $ Class: Factor w/ 2 levels \"democrat\",\"republican\": 2 2 1 1 1 1 1 2 2 1 ...\n",
      " $ V1   : Factor w/ 2 levels \"n\",\"y\": 1 1 NA 1 2 1 1 1 1 2 ...\n",
      " $ V2   : Factor w/ 2 levels \"n\",\"y\": 2 2 2 2 2 2 2 2 2 2 ...\n",
      " $ V3   : Factor w/ 2 levels \"n\",\"y\": 1 1 2 2 2 2 1 1 1 2 ...\n",
      " $ V4   : Factor w/ 2 levels \"n\",\"y\": 2 2 NA 1 1 1 2 2 2 1 ...\n",
      " $ V5   : Factor w/ 2 levels \"n\",\"y\": 2 2 2 NA 2 2 2 2 2 1 ...\n",
      " $ V6   : Factor w/ 2 levels \"n\",\"y\": 2 2 2 2 2 2 2 2 2 1 ...\n",
      " $ V7   : Factor w/ 2 levels \"n\",\"y\": 1 1 1 1 1 1 1 1 1 2 ...\n",
      " $ V8   : Factor w/ 2 levels \"n\",\"y\": 1 1 1 1 1 1 1 1 1 2 ...\n",
      " $ V9   : Factor w/ 2 levels \"n\",\"y\": 1 1 1 1 1 1 1 1 1 2 ...\n",
      " $ V10  : Factor w/ 2 levels \"n\",\"y\": 2 1 1 1 1 1 1 1 1 1 ...\n",
      " $ V11  : Factor w/ 2 levels \"n\",\"y\": NA 1 2 2 2 1 1 1 1 1 ...\n",
      " $ V12  : Factor w/ 2 levels \"n\",\"y\": 2 2 1 1 NA 1 1 1 2 1 ...\n",
      " $ V13  : Factor w/ 2 levels \"n\",\"y\": 2 2 2 2 2 2 NA 2 2 1 ...\n",
      " $ V14  : Factor w/ 2 levels \"n\",\"y\": 2 2 2 1 2 2 2 2 2 1 ...\n",
      " $ V15  : Factor w/ 2 levels \"n\",\"y\": 1 1 1 1 2 2 2 NA 1 NA ...\n",
      " $ V16  : Factor w/ 2 levels \"n\",\"y\": 2 NA 1 2 2 2 2 2 2 NA ...\n"
     ]
    }
   ],
   "source": [
    "suppressWarnings({\n",
    "    library(e1071)\n",
    "    library(mlbench)\n",
    "})\n",
    "data(HouseVotes84)\n",
    "str(HouseVotes84)"
   ]
  },
  {
   "cell_type": "code",
   "execution_count": 83,
   "metadata": {},
   "outputs": [
    {
     "data": {
      "text/html": [
       "<ol class=list-inline>\n",
       "\t<li>republican</li>\n",
       "\t<li>republican</li>\n",
       "\t<li>republican</li>\n",
       "\t<li>democrat</li>\n",
       "\t<li>democrat</li>\n",
       "\t<li>democrat</li>\n",
       "\t<li>republican</li>\n",
       "\t<li>republican</li>\n",
       "\t<li>republican</li>\n",
       "\t<li>democrat</li>\n",
       "</ol>\n",
       "\n",
       "<details>\n",
       "\t<summary style=display:list-item;cursor:pointer>\n",
       "\t\t<strong>Levels</strong>:\n",
       "\t</summary>\n",
       "\t<ol class=list-inline>\n",
       "\t\t<li>'democrat'</li>\n",
       "\t\t<li>'republican'</li>\n",
       "\t</ol>\n",
       "</details>"
      ],
      "text/latex": [
       "\\begin{enumerate*}\n",
       "\\item republican\n",
       "\\item republican\n",
       "\\item republican\n",
       "\\item democrat\n",
       "\\item democrat\n",
       "\\item democrat\n",
       "\\item republican\n",
       "\\item republican\n",
       "\\item republican\n",
       "\\item democrat\n",
       "\\end{enumerate*}\n",
       "\n",
       "\\emph{Levels}: \\begin{enumerate*}\n",
       "\\item 'democrat'\n",
       "\\item 'republican'\n",
       "\\end{enumerate*}\n"
      ],
      "text/markdown": [
       "1. republican\n",
       "2. republican\n",
       "3. republican\n",
       "4. democrat\n",
       "5. democrat\n",
       "6. democrat\n",
       "7. republican\n",
       "8. republican\n",
       "9. republican\n",
       "10. democrat\n",
       "\n",
       "\n",
       "\n",
       "**Levels**: 1. 'democrat'\n",
       "2. 'republican'\n",
       "\n",
       "\n"
      ],
      "text/plain": [
       " [1] republican republican republican democrat   democrat   democrat  \n",
       " [7] republican republican republican democrat  \n",
       "Levels: democrat republican"
      ]
     },
     "metadata": {},
     "output_type": "display_data"
    }
   ],
   "source": [
    "fit=naiveBayes(Class~.,data=HouseVotes84)\n",
    "predict(fit,HouseVotes84[1:10,-1])"
   ]
  },
  {
   "cell_type": "code",
   "execution_count": 85,
   "metadata": {},
   "outputs": [
    {
     "data": {
      "text/html": [
       "<table>\n",
       "<thead><tr><th scope=col>democrat</th><th scope=col>republican</th></tr></thead>\n",
       "<tbody>\n",
       "\t<tr><td>0.0000</td><td>1.0000</td></tr>\n",
       "\t<tr><td>0.0000</td><td>1.0000</td></tr>\n",
       "\t<tr><td>0.0057</td><td>0.9943</td></tr>\n",
       "\t<tr><td>0.9986</td><td>0.0014</td></tr>\n",
       "\t<tr><td>0.9667</td><td>0.0333</td></tr>\n",
       "\t<tr><td>0.8121</td><td>0.1879</td></tr>\n",
       "\t<tr><td>0.0002</td><td>0.9998</td></tr>\n",
       "\t<tr><td>0.0000</td><td>1.0000</td></tr>\n",
       "\t<tr><td>0.0000</td><td>1.0000</td></tr>\n",
       "\t<tr><td>1.0000</td><td>0.0000</td></tr>\n",
       "</tbody>\n",
       "</table>\n"
      ],
      "text/latex": [
       "\\begin{tabular}{ll}\n",
       " democrat & republican\\\\\n",
       "\\hline\n",
       "\t 0.0000 & 1.0000\\\\\n",
       "\t 0.0000 & 1.0000\\\\\n",
       "\t 0.0057 & 0.9943\\\\\n",
       "\t 0.9986 & 0.0014\\\\\n",
       "\t 0.9667 & 0.0333\\\\\n",
       "\t 0.8121 & 0.1879\\\\\n",
       "\t 0.0002 & 0.9998\\\\\n",
       "\t 0.0000 & 1.0000\\\\\n",
       "\t 0.0000 & 1.0000\\\\\n",
       "\t 1.0000 & 0.0000\\\\\n",
       "\\end{tabular}\n"
      ],
      "text/markdown": [
       "\n",
       "| democrat | republican |\n",
       "|---|---|\n",
       "| 0.0000 | 1.0000 |\n",
       "| 0.0000 | 1.0000 |\n",
       "| 0.0057 | 0.9943 |\n",
       "| 0.9986 | 0.0014 |\n",
       "| 0.9667 | 0.0333 |\n",
       "| 0.8121 | 0.1879 |\n",
       "| 0.0002 | 0.9998 |\n",
       "| 0.0000 | 1.0000 |\n",
       "| 0.0000 | 1.0000 |\n",
       "| 1.0000 | 0.0000 |\n",
       "\n"
      ],
      "text/plain": [
       "      democrat republican\n",
       " [1,] 0.0000   1.0000    \n",
       " [2,] 0.0000   1.0000    \n",
       " [3,] 0.0057   0.9943    \n",
       " [4,] 0.9986   0.0014    \n",
       " [5,] 0.9667   0.0333    \n",
       " [6,] 0.8121   0.1879    \n",
       " [7,] 0.0002   0.9998    \n",
       " [8,] 0.0000   1.0000    \n",
       " [9,] 0.0000   1.0000    \n",
       "[10,] 1.0000   0.0000    "
      ]
     },
     "metadata": {},
     "output_type": "display_data"
    }
   ],
   "source": [
    "round(predict(fit,HouseVotes84[1:10,-1],type='raw'),4)"
   ]
  },
  {
   "cell_type": "code",
   "execution_count": 88,
   "metadata": {},
   "outputs": [
    {
     "data": {
      "text/plain": [
       "            \n",
       "pred         democrat republican\n",
       "  democrat        238         13\n",
       "  republican       29        155"
      ]
     },
     "metadata": {},
     "output_type": "display_data"
    }
   ],
   "source": [
    "pred=predict(fit,HouseVotes84[,-1])\n",
    "table(pred,HouseVotes84[,1])"
   ]
  },
  {
   "cell_type": "code",
   "execution_count": 89,
   "metadata": {},
   "outputs": [],
   "source": [
    "suppressWarnings({\n",
    "    library(naivebayes)\n",
    "})"
   ]
  },
  {
   "cell_type": "code",
   "execution_count": 90,
   "metadata": {},
   "outputs": [],
   "source": [
    "fit=naive_bayes(Class~.,data=HouseVotes84)"
   ]
  },
  {
   "cell_type": "code",
   "execution_count": 91,
   "metadata": {},
   "outputs": [
    {
     "name": "stdout",
     "output_type": "stream",
     "text": [
      "\n",
      "================================== Naive Bayes ================================== \n",
      " \n",
      "- Call: naive_bayes.formula(formula = Class ~ ., data = HouseVotes84) \n",
      "- Laplace: 0 \n",
      "- Classes: 2 \n",
      "- Samples: 435 \n",
      "- Features: 16 \n",
      "- Conditional distributions: \n",
      "    - Bernoulli: 16\n",
      "- Prior probabilities: \n",
      "    - democrat: 0.6138\n",
      "    - republican: 0.3862\n",
      "\n",
      "--------------------------------------------------------------------------------- \n"
     ]
    }
   ],
   "source": [
    "summary(fit)"
   ]
  },
  {
   "cell_type": "code",
   "execution_count": 92,
   "metadata": {},
   "outputs": [],
   "source": [
    "pred=predict(fit,HouseVotes84[,-1])"
   ]
  },
  {
   "cell_type": "code",
   "execution_count": 93,
   "metadata": {
    "scrolled": true
   },
   "outputs": [
    {
     "data": {
      "text/plain": [
       "            \n",
       "pred         democrat republican\n",
       "  democrat        238         13\n",
       "  republican       29        155"
      ]
     },
     "metadata": {},
     "output_type": "display_data"
    }
   ],
   "source": [
    "table(pred,HouseVotes84[,1])"
   ]
  },
  {
   "cell_type": "code",
   "execution_count": 96,
   "metadata": {},
   "outputs": [
    {
     "data": {
      "text/html": [
       "<table>\n",
       "<thead><tr><th scope=col>democrat</th><th scope=col>republican</th></tr></thead>\n",
       "<tbody>\n",
       "\t<tr><td>1.029209e-07</td><td>9.999999e-01</td></tr>\n",
       "\t<tr><td>5.820415e-08</td><td>9.999999e-01</td></tr>\n",
       "\t<tr><td>5.684937e-03</td><td>9.943151e-01</td></tr>\n",
       "\t<tr><td>9.985798e-01</td><td>1.420152e-03</td></tr>\n",
       "\t<tr><td>9.666720e-01</td><td>3.332802e-02</td></tr>\n",
       "\t<tr><td>8.121430e-01</td><td>1.878570e-01</td></tr>\n",
       "\t<tr><td>1.751512e-04</td><td>9.998248e-01</td></tr>\n",
       "\t<tr><td>8.300100e-06</td><td>9.999917e-01</td></tr>\n",
       "\t<tr><td>8.277705e-08</td><td>9.999999e-01</td></tr>\n",
       "\t<tr><td>1.000000e+00</td><td>5.029425e-11</td></tr>\n",
       "</tbody>\n",
       "</table>\n"
      ],
      "text/latex": [
       "\\begin{tabular}{ll}\n",
       " democrat & republican\\\\\n",
       "\\hline\n",
       "\t 1.029209e-07 & 9.999999e-01\\\\\n",
       "\t 5.820415e-08 & 9.999999e-01\\\\\n",
       "\t 5.684937e-03 & 9.943151e-01\\\\\n",
       "\t 9.985798e-01 & 1.420152e-03\\\\\n",
       "\t 9.666720e-01 & 3.332802e-02\\\\\n",
       "\t 8.121430e-01 & 1.878570e-01\\\\\n",
       "\t 1.751512e-04 & 9.998248e-01\\\\\n",
       "\t 8.300100e-06 & 9.999917e-01\\\\\n",
       "\t 8.277705e-08 & 9.999999e-01\\\\\n",
       "\t 1.000000e+00 & 5.029425e-11\\\\\n",
       "\\end{tabular}\n"
      ],
      "text/markdown": [
       "\n",
       "| democrat | republican |\n",
       "|---|---|\n",
       "| 1.029209e-07 | 9.999999e-01 |\n",
       "| 5.820415e-08 | 9.999999e-01 |\n",
       "| 5.684937e-03 | 9.943151e-01 |\n",
       "| 9.985798e-01 | 1.420152e-03 |\n",
       "| 9.666720e-01 | 3.332802e-02 |\n",
       "| 8.121430e-01 | 1.878570e-01 |\n",
       "| 1.751512e-04 | 9.998248e-01 |\n",
       "| 8.300100e-06 | 9.999917e-01 |\n",
       "| 8.277705e-08 | 9.999999e-01 |\n",
       "| 1.000000e+00 | 5.029425e-11 |\n",
       "\n"
      ],
      "text/plain": [
       "      democrat     republican  \n",
       " [1,] 1.029209e-07 9.999999e-01\n",
       " [2,] 5.820415e-08 9.999999e-01\n",
       " [3,] 5.684937e-03 9.943151e-01\n",
       " [4,] 9.985798e-01 1.420152e-03\n",
       " [5,] 9.666720e-01 3.332802e-02\n",
       " [6,] 8.121430e-01 1.878570e-01\n",
       " [7,] 1.751512e-04 9.998248e-01\n",
       " [8,] 8.300100e-06 9.999917e-01\n",
       " [9,] 8.277705e-08 9.999999e-01\n",
       "[10,] 1.000000e+00 5.029425e-11"
      ]
     },
     "metadata": {},
     "output_type": "display_data"
    }
   ],
   "source": [
    "predict(fit,HouseVotes84[1:10,-1],type='prob')"
   ]
  },
  {
   "cell_type": "markdown",
   "metadata": {},
   "source": [
    "# KNN"
   ]
  },
  {
   "cell_type": "code",
   "execution_count": 97,
   "metadata": {},
   "outputs": [],
   "source": [
    "library(class)"
   ]
  },
  {
   "cell_type": "code",
   "execution_count": 98,
   "metadata": {},
   "outputs": [
    {
     "name": "stdout",
     "output_type": "stream",
     "text": [
      "'data.frame':\t150 obs. of  5 variables:\n",
      " $ Sepal.Length: num  5.1 4.9 4.7 4.6 5 5.4 4.6 5 4.4 4.9 ...\n",
      " $ Sepal.Width : num  3.5 3 3.2 3.1 3.6 3.9 3.4 3.4 2.9 3.1 ...\n",
      " $ Petal.Length: num  1.4 1.4 1.3 1.5 1.4 1.7 1.4 1.5 1.4 1.5 ...\n",
      " $ Petal.Width : num  0.2 0.2 0.2 0.2 0.2 0.4 0.3 0.2 0.2 0.1 ...\n",
      " $ Species     : Factor w/ 3 levels \"setosa\",\"versicolor\",..: 1 1 1 1 1 1 1 1 1 1 ...\n"
     ]
    }
   ],
   "source": [
    "data(iris)\n",
    "str(iris)"
   ]
  },
  {
   "cell_type": "code",
   "execution_count": 99,
   "metadata": {},
   "outputs": [],
   "source": [
    "set.seed(1)\n",
    "y=iris[,5]\n",
    "idx=sample(nrow(iris),75,replace=FALSE)"
   ]
  },
  {
   "cell_type": "code",
   "execution_count": 100,
   "metadata": {},
   "outputs": [],
   "source": [
    "tr=iris[idx,]\n",
    "te=iris[-idx,]"
   ]
  },
  {
   "cell_type": "code",
   "execution_count": 101,
   "metadata": {},
   "outputs": [],
   "source": [
    "x.tr=tr[,-5]\n",
    "y.tr=tr[,5]\n",
    "x.te=te[,-5]\n",
    "y.te=te[,5]"
   ]
  },
  {
   "cell_type": "code",
   "execution_count": 102,
   "metadata": {},
   "outputs": [],
   "source": [
    "fit=knn(x.tr,#train data\n",
    "        x.te, #test data(neighbors)\n",
    "        y.tr, #train label\n",
    "        k=3) #k=3, output=test label"
   ]
  },
  {
   "cell_type": "code",
   "execution_count": 103,
   "metadata": {
    "scrolled": true
   },
   "outputs": [
    {
     "data": {
      "text/html": [
       "<ol class=list-inline>\n",
       "\t<li>setosa</li>\n",
       "\t<li>setosa</li>\n",
       "\t<li>setosa</li>\n",
       "\t<li>setosa</li>\n",
       "\t<li>setosa</li>\n",
       "\t<li>setosa</li>\n",
       "\t<li>setosa</li>\n",
       "\t<li>setosa</li>\n",
       "\t<li>setosa</li>\n",
       "\t<li>setosa</li>\n",
       "\t<li>setosa</li>\n",
       "\t<li>setosa</li>\n",
       "\t<li>setosa</li>\n",
       "\t<li>setosa</li>\n",
       "\t<li>setosa</li>\n",
       "\t<li>setosa</li>\n",
       "\t<li>setosa</li>\n",
       "\t<li>setosa</li>\n",
       "\t<li>setosa</li>\n",
       "\t<li>setosa</li>\n",
       "\t<li>setosa</li>\n",
       "\t<li>setosa</li>\n",
       "\t<li>versicolor</li>\n",
       "\t<li>versicolor</li>\n",
       "\t<li>versicolor</li>\n",
       "\t<li>versicolor</li>\n",
       "\t<li>versicolor</li>\n",
       "\t<li>versicolor</li>\n",
       "\t<li>versicolor</li>\n",
       "\t<li>versicolor</li>\n",
       "\t<li>versicolor</li>\n",
       "\t<li>versicolor</li>\n",
       "\t<li>versicolor</li>\n",
       "\t<li>versicolor</li>\n",
       "\t<li>versicolor</li>\n",
       "\t<li>versicolor</li>\n",
       "\t<li>versicolor</li>\n",
       "\t<li>versicolor</li>\n",
       "\t<li>versicolor</li>\n",
       "\t<li>versicolor</li>\n",
       "\t<li>versicolor</li>\n",
       "\t<li>versicolor</li>\n",
       "\t<li>versicolor</li>\n",
       "\t<li>versicolor</li>\n",
       "\t<li>versicolor</li>\n",
       "\t<li>versicolor</li>\n",
       "\t<li>versicolor</li>\n",
       "\t<li>versicolor</li>\n",
       "\t<li>versicolor</li>\n",
       "\t<li>versicolor</li>\n",
       "\t<li>versicolor</li>\n",
       "\t<li>versicolor</li>\n",
       "\t<li>virginica</li>\n",
       "\t<li>virginica</li>\n",
       "\t<li>versicolor</li>\n",
       "\t<li>virginica</li>\n",
       "\t<li>virginica</li>\n",
       "\t<li>virginica</li>\n",
       "\t<li>virginica</li>\n",
       "\t<li>virginica</li>\n",
       "\t<li>virginica</li>\n",
       "\t<li>virginica</li>\n",
       "\t<li>virginica</li>\n",
       "\t<li>virginica</li>\n",
       "\t<li>virginica</li>\n",
       "\t<li>virginica</li>\n",
       "\t<li>virginica</li>\n",
       "\t<li>virginica</li>\n",
       "\t<li>virginica</li>\n",
       "\t<li>virginica</li>\n",
       "\t<li>versicolor</li>\n",
       "\t<li>virginica</li>\n",
       "\t<li>virginica</li>\n",
       "\t<li>virginica</li>\n",
       "\t<li>virginica</li>\n",
       "</ol>\n",
       "\n",
       "<details>\n",
       "\t<summary style=display:list-item;cursor:pointer>\n",
       "\t\t<strong>Levels</strong>:\n",
       "\t</summary>\n",
       "\t<ol class=list-inline>\n",
       "\t\t<li>'setosa'</li>\n",
       "\t\t<li>'versicolor'</li>\n",
       "\t\t<li>'virginica'</li>\n",
       "\t</ol>\n",
       "</details>"
      ],
      "text/latex": [
       "\\begin{enumerate*}\n",
       "\\item setosa\n",
       "\\item setosa\n",
       "\\item setosa\n",
       "\\item setosa\n",
       "\\item setosa\n",
       "\\item setosa\n",
       "\\item setosa\n",
       "\\item setosa\n",
       "\\item setosa\n",
       "\\item setosa\n",
       "\\item setosa\n",
       "\\item setosa\n",
       "\\item setosa\n",
       "\\item setosa\n",
       "\\item setosa\n",
       "\\item setosa\n",
       "\\item setosa\n",
       "\\item setosa\n",
       "\\item setosa\n",
       "\\item setosa\n",
       "\\item setosa\n",
       "\\item setosa\n",
       "\\item versicolor\n",
       "\\item versicolor\n",
       "\\item versicolor\n",
       "\\item versicolor\n",
       "\\item versicolor\n",
       "\\item versicolor\n",
       "\\item versicolor\n",
       "\\item versicolor\n",
       "\\item versicolor\n",
       "\\item versicolor\n",
       "\\item versicolor\n",
       "\\item versicolor\n",
       "\\item versicolor\n",
       "\\item versicolor\n",
       "\\item versicolor\n",
       "\\item versicolor\n",
       "\\item versicolor\n",
       "\\item versicolor\n",
       "\\item versicolor\n",
       "\\item versicolor\n",
       "\\item versicolor\n",
       "\\item versicolor\n",
       "\\item versicolor\n",
       "\\item versicolor\n",
       "\\item versicolor\n",
       "\\item versicolor\n",
       "\\item versicolor\n",
       "\\item versicolor\n",
       "\\item versicolor\n",
       "\\item versicolor\n",
       "\\item virginica\n",
       "\\item virginica\n",
       "\\item versicolor\n",
       "\\item virginica\n",
       "\\item virginica\n",
       "\\item virginica\n",
       "\\item virginica\n",
       "\\item virginica\n",
       "\\item virginica\n",
       "\\item virginica\n",
       "\\item virginica\n",
       "\\item virginica\n",
       "\\item virginica\n",
       "\\item virginica\n",
       "\\item virginica\n",
       "\\item virginica\n",
       "\\item virginica\n",
       "\\item virginica\n",
       "\\item versicolor\n",
       "\\item virginica\n",
       "\\item virginica\n",
       "\\item virginica\n",
       "\\item virginica\n",
       "\\end{enumerate*}\n",
       "\n",
       "\\emph{Levels}: \\begin{enumerate*}\n",
       "\\item 'setosa'\n",
       "\\item 'versicolor'\n",
       "\\item 'virginica'\n",
       "\\end{enumerate*}\n"
      ],
      "text/markdown": [
       "1. setosa\n",
       "2. setosa\n",
       "3. setosa\n",
       "4. setosa\n",
       "5. setosa\n",
       "6. setosa\n",
       "7. setosa\n",
       "8. setosa\n",
       "9. setosa\n",
       "10. setosa\n",
       "11. setosa\n",
       "12. setosa\n",
       "13. setosa\n",
       "14. setosa\n",
       "15. setosa\n",
       "16. setosa\n",
       "17. setosa\n",
       "18. setosa\n",
       "19. setosa\n",
       "20. setosa\n",
       "21. setosa\n",
       "22. setosa\n",
       "23. versicolor\n",
       "24. versicolor\n",
       "25. versicolor\n",
       "26. versicolor\n",
       "27. versicolor\n",
       "28. versicolor\n",
       "29. versicolor\n",
       "30. versicolor\n",
       "31. versicolor\n",
       "32. versicolor\n",
       "33. versicolor\n",
       "34. versicolor\n",
       "35. versicolor\n",
       "36. versicolor\n",
       "37. versicolor\n",
       "38. versicolor\n",
       "39. versicolor\n",
       "40. versicolor\n",
       "41. versicolor\n",
       "42. versicolor\n",
       "43. versicolor\n",
       "44. versicolor\n",
       "45. versicolor\n",
       "46. versicolor\n",
       "47. versicolor\n",
       "48. versicolor\n",
       "49. versicolor\n",
       "50. versicolor\n",
       "51. versicolor\n",
       "52. versicolor\n",
       "53. virginica\n",
       "54. virginica\n",
       "55. versicolor\n",
       "56. virginica\n",
       "57. virginica\n",
       "58. virginica\n",
       "59. virginica\n",
       "60. virginica\n",
       "61. virginica\n",
       "62. virginica\n",
       "63. virginica\n",
       "64. virginica\n",
       "65. virginica\n",
       "66. virginica\n",
       "67. virginica\n",
       "68. virginica\n",
       "69. virginica\n",
       "70. virginica\n",
       "71. versicolor\n",
       "72. virginica\n",
       "73. virginica\n",
       "74. virginica\n",
       "75. virginica\n",
       "\n",
       "\n",
       "\n",
       "**Levels**: 1. 'setosa'\n",
       "2. 'versicolor'\n",
       "3. 'virginica'\n",
       "\n",
       "\n"
      ],
      "text/plain": [
       " [1] setosa     setosa     setosa     setosa     setosa     setosa    \n",
       " [7] setosa     setosa     setosa     setosa     setosa     setosa    \n",
       "[13] setosa     setosa     setosa     setosa     setosa     setosa    \n",
       "[19] setosa     setosa     setosa     setosa     versicolor versicolor\n",
       "[25] versicolor versicolor versicolor versicolor versicolor versicolor\n",
       "[31] versicolor versicolor versicolor versicolor versicolor versicolor\n",
       "[37] versicolor versicolor versicolor versicolor versicolor versicolor\n",
       "[43] versicolor versicolor versicolor versicolor versicolor versicolor\n",
       "[49] versicolor versicolor versicolor versicolor virginica  virginica \n",
       "[55] versicolor virginica  virginica  virginica  virginica  virginica \n",
       "[61] virginica  virginica  virginica  virginica  virginica  virginica \n",
       "[67] virginica  virginica  virginica  virginica  versicolor virginica \n",
       "[73] virginica  virginica  virginica \n",
       "Levels: setosa versicolor virginica"
      ]
     },
     "metadata": {},
     "output_type": "display_data"
    }
   ],
   "source": [
    "fit"
   ]
  },
  {
   "cell_type": "code",
   "execution_count": 104,
   "metadata": {},
   "outputs": [
    {
     "data": {
      "text/plain": [
       "            y.te\n",
       "fit          setosa versicolor virginica\n",
       "  setosa         22          0         0\n",
       "  versicolor      0         30         2\n",
       "  virginica       0          0        21"
      ]
     },
     "metadata": {},
     "output_type": "display_data"
    }
   ],
   "source": [
    "table(fit,y.te)"
   ]
  },
  {
   "cell_type": "markdown",
   "metadata": {},
   "source": [
    "# ARULES"
   ]
  },
  {
   "cell_type": "code",
   "execution_count": 105,
   "metadata": {},
   "outputs": [],
   "source": [
    "suppressMessages(suppressWarnings({\n",
    "    library(arules)\n",
    "}))"
   ]
  },
  {
   "cell_type": "code",
   "execution_count": 106,
   "metadata": {},
   "outputs": [],
   "source": [
    "#convert transaction into a list\n",
    "a_list=list(\n",
    "    c('a','b','c'),\n",
    "    c('a','b'),\n",
    "    c('a','b','d'),\n",
    "    c('c','e'),\n",
    "    c('a','b','d','e')\n",
    ")"
   ]
  },
  {
   "cell_type": "code",
   "execution_count": 107,
   "metadata": {},
   "outputs": [
    {
     "name": "stdout",
     "output_type": "stream",
     "text": [
      "List of 5\n",
      " $ : chr [1:3] \"a\" \"b\" \"c\"\n",
      " $ : chr [1:2] \"a\" \"b\"\n",
      " $ : chr [1:3] \"a\" \"b\" \"d\"\n",
      " $ : chr [1:2] \"c\" \"e\"\n",
      " $ : chr [1:4] \"a\" \"b\" \"d\" \"e\"\n"
     ]
    }
   ],
   "source": [
    "str(a_list)"
   ]
  },
  {
   "cell_type": "code",
   "execution_count": 108,
   "metadata": {},
   "outputs": [],
   "source": [
    "#set transaction name\n",
    "names(a_list)=paste(\"Tr\",c(1:5),sep=\"\")"
   ]
  },
  {
   "cell_type": "code",
   "execution_count": 109,
   "metadata": {},
   "outputs": [
    {
     "name": "stdout",
     "output_type": "stream",
     "text": [
      "List of 5\n",
      " $ Tr1: chr [1:3] \"a\" \"b\" \"c\"\n",
      " $ Tr2: chr [1:2] \"a\" \"b\"\n",
      " $ Tr3: chr [1:3] \"a\" \"b\" \"d\"\n",
      " $ Tr4: chr [1:2] \"c\" \"e\"\n",
      " $ Tr5: chr [1:4] \"a\" \"b\" \"d\" \"e\"\n"
     ]
    }
   ],
   "source": [
    "str(a_list)"
   ]
  },
  {
   "cell_type": "code",
   "execution_count": 110,
   "metadata": {},
   "outputs": [],
   "source": [
    "#coerce into transactions\n",
    "trans=as(a_list,\"transactions\")"
   ]
  },
  {
   "cell_type": "code",
   "execution_count": 111,
   "metadata": {
    "scrolled": false
   },
   "outputs": [
    {
     "data": {
      "text/plain": [
       "transactions as itemMatrix in sparse format with\n",
       " 5 rows (elements/itemsets/transactions) and\n",
       " 5 columns (items) and a density of 0.56 \n",
       "\n",
       "most frequent items:\n",
       "      a       b       c       d       e (Other) \n",
       "      4       4       2       2       2       0 \n",
       "\n",
       "element (itemset/transaction) length distribution:\n",
       "sizes\n",
       "2 3 4 \n",
       "2 2 1 \n",
       "\n",
       "   Min. 1st Qu.  Median    Mean 3rd Qu.    Max. \n",
       "    2.0     2.0     3.0     2.8     3.0     4.0 \n",
       "\n",
       "includes extended item information - examples:\n",
       "  labels\n",
       "1      a\n",
       "2      b\n",
       "3      c\n",
       "\n",
       "includes extended transaction information - examples:\n",
       "  transactionID\n",
       "1           Tr1\n",
       "2           Tr2\n",
       "3           Tr3"
      ]
     },
     "metadata": {},
     "output_type": "display_data"
    }
   ],
   "source": [
    "#analyze\n",
    "summary(trans)"
   ]
  },
  {
   "cell_type": "code",
   "execution_count": 112,
   "metadata": {},
   "outputs": [
    {
     "data": {
      "image/png": "[encoded data removed]",
      "text/plain": [
       "plot without title"
      ]
     },
     "metadata": {},
     "output_type": "display_data"
    }
   ],
   "source": [
    "image(trans)"
   ]
  },
  {
   "cell_type": "code",
   "execution_count": 116,
   "metadata": {},
   "outputs": [],
   "source": [
    "#create a transaction from a matrix\n",
    "a_matrix=matrix(c(\n",
    "    1,1,1,0,0,\n",
    "    1,1,0,0,0,\n",
    "    1,1,0,1,0,\n",
    "    0,0,1,0,1,\n",
    "    1,1,0,1,1),ncol=5\n",
    ")"
   ]
  },
  {
   "cell_type": "code",
   "execution_count": 117,
   "metadata": {},
   "outputs": [],
   "source": [
    "dimnames(a_matrix)=list(c('a','b','c','d','e'),paste(\"Tr\",c(1:5),sep=\"\"))"
   ]
  },
  {
   "cell_type": "code",
   "execution_count": 118,
   "metadata": {},
   "outputs": [
    {
     "data": {
      "text/html": [
       "<table>\n",
       "<thead><tr><th></th><th scope=col>Tr1</th><th scope=col>Tr2</th><th scope=col>Tr3</th><th scope=col>Tr4</th><th scope=col>Tr5</th></tr></thead>\n",
       "<tbody>\n",
       "\t<tr><th scope=row>a</th><td>1</td><td>1</td><td>1</td><td>0</td><td>1</td></tr>\n",
       "\t<tr><th scope=row>b</th><td>1</td><td>1</td><td>1</td><td>0</td><td>1</td></tr>\n",
       "\t<tr><th scope=row>c</th><td>1</td><td>0</td><td>0</td><td>1</td><td>0</td></tr>\n",
       "\t<tr><th scope=row>d</th><td>0</td><td>0</td><td>1</td><td>0</td><td>1</td></tr>\n",
       "\t<tr><th scope=row>e</th><td>0</td><td>0</td><td>0</td><td>1</td><td>1</td></tr>\n",
       "</tbody>\n",
       "</table>\n"
      ],
      "text/latex": [
       "\\begin{tabular}{r|lllll}\n",
       "  & Tr1 & Tr2 & Tr3 & Tr4 & Tr5\\\\\n",
       "\\hline\n",
       "\ta & 1 & 1 & 1 & 0 & 1\\\\\n",
       "\tb & 1 & 1 & 1 & 0 & 1\\\\\n",
       "\tc & 1 & 0 & 0 & 1 & 0\\\\\n",
       "\td & 0 & 0 & 1 & 0 & 1\\\\\n",
       "\te & 0 & 0 & 0 & 1 & 1\\\\\n",
       "\\end{tabular}\n"
      ],
      "text/markdown": [
       "\n",
       "| <!--/--> | Tr1 | Tr2 | Tr3 | Tr4 | Tr5 |\n",
       "|---|---|---|---|---|---|\n",
       "| a | 1 | 1 | 1 | 0 | 1 |\n",
       "| b | 1 | 1 | 1 | 0 | 1 |\n",
       "| c | 1 | 0 | 0 | 1 | 0 |\n",
       "| d | 0 | 0 | 1 | 0 | 1 |\n",
       "| e | 0 | 0 | 0 | 1 | 1 |\n",
       "\n"
      ],
      "text/plain": [
       "  Tr1 Tr2 Tr3 Tr4 Tr5\n",
       "a 1   1   1   0   1  \n",
       "b 1   1   1   0   1  \n",
       "c 1   0   0   1   0  \n",
       "d 0   0   1   0   1  \n",
       "e 0   0   0   1   1  "
      ]
     },
     "metadata": {},
     "output_type": "display_data"
    }
   ],
   "source": [
    "a_matrix"
   ]
  },
  {
   "cell_type": "code",
   "execution_count": 119,
   "metadata": {},
   "outputs": [],
   "source": [
    "trans2=as(a_matrix,\"transactions\")"
   ]
  },
  {
   "cell_type": "code",
   "execution_count": 121,
   "metadata": {},
   "outputs": [],
   "source": [
    "#create transactions from data.frame\n",
    "a_data.frame=data.frame(\n",
    "    age=as.factor(c(6,8,7,6,9,5)),\n",
    "    grade=as.factor(c(1,3,1,1,4,1))\n",
    ")"
   ]
  },
  {
   "cell_type": "code",
   "execution_count": 122,
   "metadata": {},
   "outputs": [
    {
     "name": "stdout",
     "output_type": "stream",
     "text": [
      "'data.frame':\t6 obs. of  2 variables:\n",
      " $ age  : Factor w/ 5 levels \"5\",\"6\",\"7\",\"8\",..: 2 4 3 2 5 1\n",
      " $ grade: Factor w/ 3 levels \"1\",\"3\",\"4\": 1 2 1 1 3 1\n"
     ]
    }
   ],
   "source": [
    "str(a_data.frame)"
   ]
  },
  {
   "cell_type": "code",
   "execution_count": 123,
   "metadata": {},
   "outputs": [],
   "source": [
    "trans3=as(a_data.frame,'transactions')"
   ]
  },
  {
   "cell_type": "code",
   "execution_count": 125,
   "metadata": {},
   "outputs": [
    {
     "data": {
      "text/plain": [
       "transactions as itemMatrix in sparse format with\n",
       " 6 rows (elements/itemsets/transactions) and\n",
       " 8 columns (items) and a density of 0.25 \n",
       "\n",
       "most frequent items:\n",
       "grade=1   age=6   age=5   age=7   age=8 (Other) \n",
       "      4       2       1       1       1       3 \n",
       "\n",
       "element (itemset/transaction) length distribution:\n",
       "sizes\n",
       "2 \n",
       "6 \n",
       "\n",
       "   Min. 1st Qu.  Median    Mean 3rd Qu.    Max. \n",
       "      2       2       2       2       2       2 \n",
       "\n",
       "includes extended item information - examples:\n",
       "  labels variables levels\n",
       "1  age=5       age      5\n",
       "2  age=6       age      6\n",
       "3  age=7       age      7\n",
       "\n",
       "includes extended transaction information - examples:\n",
       "  transactionID\n",
       "1             1\n",
       "2             2\n",
       "3             3"
      ]
     },
     "metadata": {},
     "output_type": "display_data"
    }
   ],
   "source": [
    "summary(trans3)"
   ]
  },
  {
   "cell_type": "code",
   "execution_count": 126,
   "metadata": {},
   "outputs": [
    {
     "data": {
      "text/html": [
       "<table>\n",
       "<thead><tr><th scope=col>items</th><th scope=col>transactionID</th></tr></thead>\n",
       "<tbody>\n",
       "\t<tr><td>{age=6,grade=1}</td><td>1              </td></tr>\n",
       "\t<tr><td>{age=8,grade=3}</td><td>2              </td></tr>\n",
       "\t<tr><td>{age=7,grade=1}</td><td>3              </td></tr>\n",
       "\t<tr><td>{age=6,grade=1}</td><td>4              </td></tr>\n",
       "\t<tr><td>{age=9,grade=4}</td><td>5              </td></tr>\n",
       "\t<tr><td>{age=5,grade=1}</td><td>6              </td></tr>\n",
       "</tbody>\n",
       "</table>\n"
      ],
      "text/latex": [
       "\\begin{tabular}{r|ll}\n",
       " items & transactionID\\\\\n",
       "\\hline\n",
       "\t \\{age=6,grade=1\\} & 1                  \\\\\n",
       "\t \\{age=8,grade=3\\} & 2                  \\\\\n",
       "\t \\{age=7,grade=1\\} & 3                  \\\\\n",
       "\t \\{age=6,grade=1\\} & 4                  \\\\\n",
       "\t \\{age=9,grade=4\\} & 5                  \\\\\n",
       "\t \\{age=5,grade=1\\} & 6                  \\\\\n",
       "\\end{tabular}\n"
      ],
      "text/markdown": [
       "\n",
       "| items | transactionID |\n",
       "|---|---|\n",
       "| {age=6,grade=1} | 1               |\n",
       "| {age=8,grade=3} | 2               |\n",
       "| {age=7,grade=1} | 3               |\n",
       "| {age=6,grade=1} | 4               |\n",
       "| {age=9,grade=4} | 5               |\n",
       "| {age=5,grade=1} | 6               |\n",
       "\n"
      ],
      "text/plain": [
       "  items           transactionID\n",
       "1 {age=6,grade=1} 1            \n",
       "2 {age=8,grade=3} 2            \n",
       "3 {age=7,grade=1} 3            \n",
       "4 {age=6,grade=1} 4            \n",
       "5 {age=9,grade=4} 5            \n",
       "6 {age=5,grade=1} 6            "
      ]
     },
     "metadata": {},
     "output_type": "display_data"
    }
   ],
   "source": [
    "as(trans3,\"data.frame\")"
   ]
  },
  {
   "cell_type": "code",
   "execution_count": 127,
   "metadata": {},
   "outputs": [],
   "source": [
    "data(Adult)"
   ]
  },
  {
   "cell_type": "code",
   "execution_count": 128,
   "metadata": {},
   "outputs": [
    {
     "name": "stdout",
     "output_type": "stream",
     "text": [
      "Formal class 'transactions' [package \"arules\"] with 3 slots\n",
      "  ..@ data       :Formal class 'ngCMatrix' [package \"Matrix\"] with 5 slots\n",
      "  .. .. ..@ i       : int [1:612200] 1 10 25 32 35 50 59 61 63 65 ...\n",
      "  .. .. ..@ p       : int [1:48843] 0 13 26 39 52 65 78 91 104 117 ...\n",
      "  .. .. ..@ Dim     : int [1:2] 115 48842\n",
      "  .. .. ..@ Dimnames:List of 2\n",
      "  .. .. .. ..$ : NULL\n",
      "  .. .. .. ..$ : NULL\n",
      "  .. .. ..@ factors : list()\n",
      "  ..@ itemInfo   :'data.frame':\t115 obs. of  3 variables:\n",
      "  .. ..$ labels   : chr [1:115] \"age=Young\" \"age=Middle-aged\" \"age=Senior\" \"age=Old\" ...\n",
      "  .. ..$ variables: Factor w/ 13 levels \"age\",\"capital-gain\",..: 1 1 1 1 13 13 13 13 13 13 ...\n",
      "  .. ..$ levels   : Factor w/ 112 levels \"10th\",\"11th\",..: 111 63 92 69 30 54 65 82 90 91 ...\n",
      "  ..@ itemsetInfo:'data.frame':\t48842 obs. of  1 variable:\n",
      "  .. ..$ transactionID: chr [1:48842] \"1\" \"2\" \"3\" \"4\" ...\n"
     ]
    }
   ],
   "source": [
    "str(Adult)"
   ]
  },
  {
   "cell_type": "code",
   "execution_count": 130,
   "metadata": {},
   "outputs": [
    {
     "name": "stdout",
     "output_type": "stream",
     "text": [
      "Apriori\n",
      "\n",
      "Parameter specification:\n",
      " confidence minval smax arem  aval originalSupport maxtime support minlen\n",
      "        0.9    0.1    1 none FALSE            TRUE       5     0.5      1\n",
      " maxlen target   ext\n",
      "     10  rules FALSE\n",
      "\n",
      "Algorithmic control:\n",
      " filter tree heap memopt load sort verbose\n",
      "    0.1 TRUE TRUE  FALSE TRUE    2    TRUE\n",
      "\n",
      "Absolute minimum support count: 24421 \n",
      "\n",
      "set item appearances ...[0 item(s)] done [0.00s].\n",
      "set transactions ...[115 item(s), 48842 transaction(s)] done [0.06s].\n",
      "sorting and recoding items ... [9 item(s)] done [0.01s].\n",
      "creating transaction tree ... done [0.03s].\n",
      "checking subsets of size 1 2 3 4 done [0.00s].\n",
      "writing ... [52 rule(s)] done [0.00s].\n",
      "creating S4 object  ... done [0.00s].\n"
     ]
    }
   ],
   "source": [
    "rules=apriori(Adult,\n",
    "             parameter=list(\n",
    "                     supp=0.5,\n",
    "                     conf=0.9,\n",
    "                     target='rules'\n",
    "                 )\n",
    "             )"
   ]
  },
  {
   "cell_type": "code",
   "execution_count": 131,
   "metadata": {},
   "outputs": [
    {
     "data": {
      "text/plain": [
       "set of 52 rules\n",
       "\n",
       "rule length distribution (lhs + rhs):sizes\n",
       " 1  2  3  4 \n",
       " 2 13 24 13 \n",
       "\n",
       "   Min. 1st Qu.  Median    Mean 3rd Qu.    Max. \n",
       "  1.000   2.000   3.000   2.923   3.250   4.000 \n",
       "\n",
       "summary of quality measures:\n",
       "    support         confidence          lift            count      \n",
       " Min.   :0.5084   Min.   :0.9031   Min.   :0.9844   Min.   :24832  \n",
       " 1st Qu.:0.5415   1st Qu.:0.9155   1st Qu.:0.9937   1st Qu.:26447  \n",
       " Median :0.5974   Median :0.9229   Median :0.9997   Median :29178  \n",
       " Mean   :0.6436   Mean   :0.9308   Mean   :1.0036   Mean   :31433  \n",
       " 3rd Qu.:0.7426   3rd Qu.:0.9494   3rd Qu.:1.0057   3rd Qu.:36269  \n",
       " Max.   :0.9533   Max.   :0.9583   Max.   :1.0586   Max.   :46560  \n",
       "\n",
       "mining info:\n",
       "  data ntransactions support confidence\n",
       " Adult         48842     0.5        0.9"
      ]
     },
     "metadata": {},
     "output_type": "display_data"
    }
   ],
   "source": [
    "summary(rules)"
   ]
  },
  {
   "cell_type": "code",
   "execution_count": 136,
   "metadata": {},
   "outputs": [
    {
     "name": "stdout",
     "output_type": "stream",
     "text": [
      "Apriori\n",
      "\n",
      "Parameter specification:\n",
      " confidence minval smax arem  aval originalSupport maxtime support minlen\n",
      "        0.8    0.1    1 none FALSE            TRUE       5     0.4      1\n",
      " maxlen target   ext\n",
      "     10  rules FALSE\n",
      "\n",
      "Algorithmic control:\n",
      " filter tree heap memopt load sort verbose\n",
      "    0.1 TRUE TRUE  FALSE TRUE    2    TRUE\n",
      "\n",
      "Absolute minimum support count: 19536 \n",
      "\n",
      "set item appearances ...[0 item(s)] done [0.00s].\n",
      "set transactions ...[115 item(s), 48842 transaction(s)] done [0.06s].\n",
      "sorting and recoding items ... [11 item(s)] done [0.01s].\n",
      "creating transaction tree ... done [0.03s].\n",
      "checking subsets of size 1 2 3 4 5 done [0.00s].\n",
      "writing ... [169 rule(s)] done [0.00s].\n",
      "creating S4 object  ... done [0.00s].\n"
     ]
    }
   ],
   "source": [
    "rules=apriori(Adult,parameter=list(support=0.4))"
   ]
  },
  {
   "cell_type": "code",
   "execution_count": 137,
   "metadata": {},
   "outputs": [],
   "source": [
    "rules.sub=subset(rules,subset=rhs %pin% \"sex\" & lift > 1.3)\n",
    "#pin any\n",
    "#oin only\n",
    "#ain all\n",
    "#lhs rhs both items"
   ]
  },
  {
   "cell_type": "code",
   "execution_count": 138,
   "metadata": {},
   "outputs": [
    {
     "data": {
      "text/plain": [
       "set of 3 rules "
      ]
     },
     "metadata": {},
     "output_type": "display_data"
    }
   ],
   "source": [
    "rules.sub"
   ]
  },
  {
   "cell_type": "code",
   "execution_count": 139,
   "metadata": {
    "scrolled": true
   },
   "outputs": [
    {
     "name": "stdout",
     "output_type": "stream",
     "text": [
      "    lhs                                    rhs          support confidence     lift count\n",
      "[1] {relationship=Husband}              => {sex=Male} 0.4036485  0.9999493 1.495851 19715\n",
      "[2] {marital-status=Married-civ-spouse} => {sex=Male} 0.4074157  0.8891818 1.330151 19899\n",
      "[3] {marital-status=Married-civ-spouse,                                                  \n",
      "     relationship=Husband}              => {sex=Male} 0.4034028  0.9999492 1.495851 19703\n"
     ]
    }
   ],
   "source": [
    "inspect(rules.sub)"
   ]
  },
  {
   "cell_type": "code",
   "execution_count": 168,
   "metadata": {},
   "outputs": [],
   "source": [
    "rules.sub=subset(rules,subset=items %pin% \"Husband\" & rhs %pin% \"sex\")"
   ]
  },
  {
   "cell_type": "code",
   "execution_count": 169,
   "metadata": {},
   "outputs": [
    {
     "name": "stdout",
     "output_type": "stream",
     "text": [
      "    lhs                                    rhs          support confidence     lift count\n",
      "[1] {relationship=Husband}              => {sex=Male} 0.4036485  0.9999493 1.495851 19715\n",
      "[2] {marital-status=Married-civ-spouse,                                                  \n",
      "     relationship=Husband}              => {sex=Male} 0.4034028  0.9999492 1.495851 19703\n"
     ]
    }
   ],
   "source": [
    "inspect(rules.sub)"
   ]
  },
  {
   "cell_type": "markdown",
   "metadata": {},
   "source": [
    "# 군집분석"
   ]
  },
  {
   "cell_type": "markdown",
   "metadata": {},
   "source": [
    "## Distances"
   ]
  },
  {
   "cell_type": "code",
   "execution_count": 173,
   "metadata": {},
   "outputs": [],
   "source": [
    "x=matrix(rnorm(100),nrow=5)"
   ]
  },
  {
   "cell_type": "code",
   "execution_count": 174,
   "metadata": {},
   "outputs": [
    {
     "data": {
      "text/plain": [
       "         1        2        3        4\n",
       "2 7.469565                           \n",
       "3 5.717330 6.407709                  \n",
       "4 5.371346 6.106838 5.057519         \n",
       "5 6.029762 6.256703 4.685266 5.452838"
      ]
     },
     "metadata": {},
     "output_type": "display_data"
    }
   ],
   "source": [
    "dist(x) #euclidean"
   ]
  },
  {
   "cell_type": "code",
   "execution_count": 175,
   "metadata": {},
   "outputs": [
    {
     "data": {
      "text/plain": [
       "         1        2        3        4\n",
       "2 28.00886                           \n",
       "3 18.96064 23.54549                  \n",
       "4 20.15608 20.63371 19.23071         \n",
       "5 21.64728 21.24013 16.27446 18.51150"
      ]
     },
     "metadata": {},
     "output_type": "display_data"
    }
   ],
   "source": [
    "dist(x,method='manhattan')"
   ]
  },
  {
   "cell_type": "code",
   "execution_count": 176,
   "metadata": {
    "scrolled": true
   },
   "outputs": [
    {
     "data": {
      "text/plain": [
       "    x\n",
       "y 0.4"
      ]
     },
     "metadata": {},
     "output_type": "display_data"
    }
   ],
   "source": [
    "x=c(0,0,1,1,1,1)\n",
    "y=c(1,0,1,1,0,1)\n",
    "dist(rbind(x,y),method='binary')"
   ]
  },
  {
   "cell_type": "markdown",
   "metadata": {},
   "source": [
    "## 계층적 군집분석"
   ]
  },
  {
   "cell_type": "code",
   "execution_count": 177,
   "metadata": {},
   "outputs": [
    {
     "data": {
      "text/plain": [
       "         1        2        3        4\n",
       "2 7.164656                           \n",
       "3 6.373832 6.207892                  \n",
       "4 6.576780 6.786923 6.820595         \n",
       "5 6.543814 7.328360 6.377718 6.520681"
      ]
     },
     "metadata": {},
     "output_type": "display_data"
    }
   ],
   "source": [
    "x=matrix(rnorm(100),nrow=5)\n",
    "dist(x)"
   ]
  },
  {
   "cell_type": "code",
   "execution_count": 179,
   "metadata": {},
   "outputs": [],
   "source": [
    "h<-hclust(dist(x),method='single')\n",
    "#plot(h)"
   ]
  },
  {
   "cell_type": "code",
   "execution_count": 181,
   "metadata": {},
   "outputs": [],
   "source": [
    "h<-hclust(dist(x),method='complete')"
   ]
  },
  {
   "cell_type": "code",
   "execution_count": 182,
   "metadata": {},
   "outputs": [],
   "source": [
    "h<-hclust(dist(x),method='average')"
   ]
  },
  {
   "cell_type": "code",
   "execution_count": 185,
   "metadata": {},
   "outputs": [],
   "source": [
    "h<-hclust(dist(x),method='centroid')\n",
    "#plot(h,hang=-1)"
   ]
  },
  {
   "cell_type": "markdown",
   "metadata": {},
   "source": [
    "## K-means "
   ]
  },
  {
   "cell_type": "code",
   "execution_count": 186,
   "metadata": {},
   "outputs": [],
   "source": [
    "x<-rbind(matrix(rnorm(100,sd=0.3),ncol=2),\n",
    "        matrix(rnorm(100,mean=1,sd=0.3),ncol=2))"
   ]
  },
  {
   "cell_type": "code",
   "execution_count": 187,
   "metadata": {},
   "outputs": [],
   "source": [
    "colnames(x)=c('x','y')"
   ]
  },
  {
   "cell_type": "code",
   "execution_count": 188,
   "metadata": {},
   "outputs": [],
   "source": [
    "cl=kmeans(x,2)"
   ]
  },
  {
   "cell_type": "code",
   "execution_count": 189,
   "metadata": {},
   "outputs": [
    {
     "data": {
      "text/plain": [
       "K-means clustering with 2 clusters of sizes 51, 49\n",
       "\n",
       "Cluster means:\n",
       "           x          y\n",
       "1 0.03411006 0.01124226\n",
       "2 0.98126964 1.01997649\n",
       "\n",
       "Clustering vector:\n",
       "  [1] 1 1 1 1 1 1 1 1 1 1 1 1 1 1 1 1 1 1 1 1 1 1 1 1 1 1 1 1 1 1 1 1 1 1 1 1 1\n",
       " [38] 1 1 1 1 1 1 1 1 1 1 1 1 1 2 2 2 2 2 2 2 2 2 2 2 2 2 2 2 2 2 2 2 2 2 2 2 2\n",
       " [75] 2 2 2 2 2 2 2 2 2 2 2 2 2 2 2 2 2 2 2 2 2 1 2 2 2 2\n",
       "\n",
       "Within cluster sum of squares by cluster:\n",
       "[1]  9.175297 11.240831\n",
       " (between_SS / total_SS =  70.1 %)\n",
       "\n",
       "Available components:\n",
       "\n",
       "[1] \"cluster\"      \"centers\"      \"totss\"        \"withinss\"     \"tot.withinss\"\n",
       "[6] \"betweenss\"    \"size\"         \"iter\"         \"ifault\"      "
      ]
     },
     "metadata": {},
     "output_type": "display_data"
    }
   ],
   "source": [
    "cl"
   ]
  },
  {
   "cell_type": "code",
   "execution_count": 190,
   "metadata": {},
   "outputs": [
    {
     "name": "stdout",
     "output_type": "stream",
     "text": [
      "List of 9\n",
      " $ cluster     : int [1:100] 1 1 1 1 1 1 1 1 1 1 ...\n",
      " $ centers     : num [1:2, 1:2] 0.0341 0.9813 0.0112 1.02\n",
      "  ..- attr(*, \"dimnames\")=List of 2\n",
      "  .. ..$ : chr [1:2] \"1\" \"2\"\n",
      "  .. ..$ : chr [1:2] \"x\" \"y\"\n",
      " $ totss       : num 68.3\n",
      " $ withinss    : num [1:2] 9.18 11.24\n",
      " $ tot.withinss: num 20.4\n",
      " $ betweenss   : num 47.8\n",
      " $ size        : int [1:2] 51 49\n",
      " $ iter        : int 1\n",
      " $ ifault      : int 0\n",
      " - attr(*, \"class\")= chr \"kmeans\"\n"
     ]
    }
   ],
   "source": [
    "str(cl)"
   ]
  },
  {
   "cell_type": "code",
   "execution_count": 192,
   "metadata": {},
   "outputs": [
    {
     "data": {
      "image/png": "[encoded data removed]",
      "text/plain": [
       "plot without title"
      ]
     },
     "metadata": {},
     "output_type": "display_data"
    }
   ],
   "source": [
    "plot(x,col=cl$cluster)\n",
    "points(cl$centers,col=1:2,pch=8,cex=2)"
   ]
  },
  {
   "cell_type": "markdown",
   "metadata": {},
   "source": [
    "## DBSCAN"
   ]
  },
  {
   "cell_type": "code",
   "execution_count": 194,
   "metadata": {},
   "outputs": [
    {
     "name": "stderr",
     "output_type": "stream",
     "text": [
      "Warning message:\n",
      "\"package 'factoextra' was built under R version 3.6.3\"Loading required package: ggplot2\n",
      "Warning message:\n",
      "\"package 'ggplot2' was built under R version 3.6.3\"Welcome! Want to learn more? See two factoextra-related books at https://goo.gl/ve3WBa\n"
     ]
    }
   ],
   "source": [
    "library(factoextra)"
   ]
  },
  {
   "cell_type": "code",
   "execution_count": 195,
   "metadata": {},
   "outputs": [],
   "source": [
    "#data multishape in factoextra, fviz_cluster"
   ]
  },
  {
   "cell_type": "code",
   "execution_count": 196,
   "metadata": {},
   "outputs": [
    {
     "name": "stdout",
     "output_type": "stream",
     "text": [
      "'data.frame':\t1100 obs. of  3 variables:\n",
      " $ x    : num  -0.804 0.853 0.927 -0.753 0.707 ...\n",
      " $ y    : num  -0.853 0.368 -0.275 -0.512 0.811 ...\n",
      " $ shape: num  1 1 1 1 1 1 1 1 1 1 ...\n"
     ]
    }
   ],
   "source": [
    "data(\"multishapes\")\n",
    "str(multishapes)"
   ]
  },
  {
   "cell_type": "code",
   "execution_count": 198,
   "metadata": {},
   "outputs": [],
   "source": [
    "df<-multishapes[,1:2]"
   ]
  },
  {
   "cell_type": "code",
   "execution_count": 199,
   "metadata": {},
   "outputs": [],
   "source": [
    "set.seed(123)"
   ]
  },
  {
   "cell_type": "code",
   "execution_count": 208,
   "metadata": {},
   "outputs": [],
   "source": [
    "km.res<-kmeans(df,5,nstart=25)"
   ]
  },
  {
   "cell_type": "code",
   "execution_count": 210,
   "metadata": {},
   "outputs": [
    {
     "data": {
      "image/png": "[encoded data removed]",
      "text/plain": [
       "plot without title"
      ]
     },
     "metadata": {},
     "output_type": "display_data"
    }
   ],
   "source": [
    "fviz_cluster(km.res,df,ellipse=FALSE,geom='point')+ylab(\"Y\")"
   ]
  },
  {
   "cell_type": "code",
   "execution_count": 211,
   "metadata": {},
   "outputs": [
    {
     "name": "stderr",
     "output_type": "stream",
     "text": [
      "Warning message:\n",
      "\"package 'fpc' was built under R version 3.6.3\"\n",
      "Attaching package: 'fpc'\n",
      "\n",
      "The following object is masked from 'package:mda':\n",
      "\n",
      "    confusion\n",
      "\n",
      "Warning message:\n",
      "\"package 'dbscan' was built under R version 3.6.3\"\n",
      "Attaching package: 'dbscan'\n",
      "\n",
      "The following object is masked from 'package:fpc':\n",
      "\n",
      "    dbscan\n",
      "\n"
     ]
    }
   ],
   "source": [
    "library(fpc)\n",
    "library(dbscan)"
   ]
  },
  {
   "cell_type": "code",
   "execution_count": 212,
   "metadata": {},
   "outputs": [],
   "source": [
    "db<-fpc::dbscan(df,eps=0.15,MinPts=5)"
   ]
  },
  {
   "cell_type": "code",
   "execution_count": 214,
   "metadata": {},
   "outputs": [
    {
     "data": {
      "image/png": "[encoded data removed]",
      "text/plain": [
       "Plot with title \"DBSCAN\""
      ]
     },
     "metadata": {},
     "output_type": "display_data"
    }
   ],
   "source": [
    "plot(db,df,main=\"DBSCAN\",frame=FALSE)"
   ]
  },
  {
   "cell_type": "code",
   "execution_count": 215,
   "metadata": {},
   "outputs": [
    {
     "data": {
      "image/png": "[encoded data removed]",
      "text/plain": [
       "plot without title"
      ]
     },
     "metadata": {},
     "output_type": "display_data"
    }
   ],
   "source": [
    "fviz_cluster(db,df,stand=FALSE,ellipse=FALSE,geom='point')"
   ]
  },
  {
   "cell_type": "code",
   "execution_count": 216,
   "metadata": {},
   "outputs": [
    {
     "name": "stdout",
     "output_type": "stream",
     "text": [
      "List of 4\n",
      " $ cluster: num [1:1100] 1 1 1 1 1 1 1 1 1 1 ...\n",
      " $ eps    : num 0.15\n",
      " $ MinPts : num 5\n",
      " $ isseed : logi [1:1100] TRUE TRUE TRUE TRUE TRUE TRUE ...\n",
      " - attr(*, \"class\")= chr \"dbscan\"\n"
     ]
    }
   ],
   "source": [
    "str(db)"
   ]
  },
  {
   "cell_type": "code",
   "execution_count": 217,
   "metadata": {},
   "outputs": [],
   "source": [
    "## optimal eps value"
   ]
  },
  {
   "cell_type": "code",
   "execution_count": 219,
   "metadata": {},
   "outputs": [
    {
     "data": {
      "image/png": "[encoded data removed]",
      "text/plain": [
       "plot without title"
      ]
     },
     "metadata": {},
     "output_type": "display_data"
    }
   ],
   "source": [
    "dbscan::kNNdistplot(df,k=5)\n",
    "abline(h=0.15,lty=2) #eps around 0.15"
   ]
  },
  {
   "cell_type": "code",
   "execution_count": 220,
   "metadata": {},
   "outputs": [],
   "source": [
    "#cluster prediction"
   ]
  },
  {
   "cell_type": "code",
   "execution_count": 222,
   "metadata": {},
   "outputs": [
    {
     "data": {
      "image/png": "[encoded data removed]",
      "text/plain": [
       "plot without title"
      ]
     },
     "metadata": {},
     "output_type": "display_data"
    }
   ],
   "source": [
    "data('iris')\n",
    "iris <- as.matrix(iris[,1:4])\n",
    "dbscan::kNNdistplot(iris,k=4)\n",
    "abline(h=0.4,lty=2,col='red')"
   ]
  },
  {
   "cell_type": "code",
   "execution_count": 225,
   "metadata": {},
   "outputs": [],
   "source": [
    "set.seed(123)\n",
    "res.fpc=fpc::dbscan(iris,eps=0.4,MinPts=4)\n",
    "res.db <- dbscan::dbscan(iris,0.4,4)"
   ]
  },
  {
   "cell_type": "code",
   "execution_count": 227,
   "metadata": {},
   "outputs": [
    {
     "name": "stdout",
     "output_type": "stream",
     "text": [
      "List of 3\n",
      " $ cluster: int [1:150] 1 1 1 1 1 1 1 1 1 1 ...\n",
      " $ eps    : num 0.4\n",
      " $ minPts : num 4\n",
      " - attr(*, \"class\")= chr [1:2] \"dbscan_fast\" \"dbscan\"\n"
     ]
    }
   ],
   "source": [
    "str(res.db)"
   ]
  },
  {
   "cell_type": "code",
   "execution_count": 228,
   "metadata": {},
   "outputs": [
    {
     "data": {
      "text/html": [
       "TRUE"
      ],
      "text/latex": [
       "TRUE"
      ],
      "text/markdown": [
       "TRUE"
      ],
      "text/plain": [
       "[1] TRUE"
      ]
     },
     "metadata": {},
     "output_type": "display_data"
    }
   ],
   "source": [
    "all(res.fpc$cluster==res.db$cluster)"
   ]
  },
  {
   "cell_type": "code",
   "execution_count": 229,
   "metadata": {
    "scrolled": true
   },
   "outputs": [
    {
     "data": {
      "image/png": "[encoded data removed]",
      "text/plain": [
       "plot without title"
      ]
     },
     "metadata": {},
     "output_type": "display_data"
    }
   ],
   "source": [
    "fviz_cluster(res.db,iris,geom='point')"
   ]
  },
  {
   "cell_type": "markdown",
   "metadata": {},
   "source": [
    "# Random Forest (Ensemble)"
   ]
  },
  {
   "cell_type": "code",
   "execution_count": 231,
   "metadata": {},
   "outputs": [
    {
     "name": "stderr",
     "output_type": "stream",
     "text": [
      "Warning message:\n",
      "\"package 'gbm' was built under R version 3.6.3\"Loaded gbm 2.1.5\n"
     ]
    }
   ],
   "source": [
    "# Biomarker data\n",
    "library(randomForest)\n",
    "library(MASS)\n",
    "library(gbm) #generalized boosted model"
   ]
  },
  {
   "cell_type": "code",
   "execution_count": 232,
   "metadata": {},
   "outputs": [],
   "source": [
    "data(iris)"
   ]
  },
  {
   "cell_type": "code",
   "execution_count": 233,
   "metadata": {},
   "outputs": [],
   "source": [
    "iris.rf <- randomForest(Species~.,data=iris,importance=T,proximity=T)"
   ]
  },
  {
   "cell_type": "code",
   "execution_count": 234,
   "metadata": {
    "scrolled": true
   },
   "outputs": [
    {
     "name": "stdout",
     "output_type": "stream",
     "text": [
      "\n",
      "Call:\n",
      " randomForest(formula = Species ~ ., data = iris, importance = T,      proximity = T) \n",
      "               Type of random forest: classification\n",
      "                     Number of trees: 500\n",
      "No. of variables tried at each split: 2\n",
      "\n",
      "        OOB estimate of  error rate: 4.67%\n",
      "Confusion matrix:\n",
      "           setosa versicolor virginica class.error\n",
      "setosa         50          0         0        0.00\n",
      "versicolor      0         47         3        0.06\n",
      "virginica       0          4        46        0.08\n"
     ]
    }
   ],
   "source": [
    "print(iris.rf)"
   ]
  },
  {
   "cell_type": "code",
   "execution_count": 235,
   "metadata": {
    "scrolled": true
   },
   "outputs": [
    {
     "name": "stdout",
     "output_type": "stream",
     "text": [
      "List of 19\n",
      " $ call           : language randomForest(formula = Species ~ ., data = iris, importance = T, proximity = T)\n",
      " $ type           : chr \"classification\"\n",
      " $ predicted      : Factor w/ 3 levels \"setosa\",\"versicolor\",..: 1 1 1 1 1 1 1 1 1 1 ...\n",
      "  ..- attr(*, \"names\")= chr [1:150] \"1\" \"2\" \"3\" \"4\" ...\n",
      " $ err.rate       : num [1:500, 1:4] 0.0556 0.075 0.049 0.0496 0.0444 ...\n",
      "  ..- attr(*, \"dimnames\")=List of 2\n",
      "  .. ..$ : NULL\n",
      "  .. ..$ : chr [1:4] \"OOB\" \"setosa\" \"versicolor\" \"virginica\"\n",
      " $ confusion      : num [1:3, 1:4] 50 0 0 0 47 4 0 3 46 0 ...\n",
      "  ..- attr(*, \"dimnames\")=List of 2\n",
      "  .. ..$ : chr [1:3] \"setosa\" \"versicolor\" \"virginica\"\n",
      "  .. ..$ : chr [1:4] \"setosa\" \"versicolor\" \"virginica\" \"class.error\"\n",
      " $ votes          : 'matrix' num [1:150, 1:3] 1 0.995 1 1 1 ...\n",
      "  ..- attr(*, \"dimnames\")=List of 2\n",
      "  .. ..$ : chr [1:150] \"1\" \"2\" \"3\" \"4\" ...\n",
      "  .. ..$ : chr [1:3] \"setosa\" \"versicolor\" \"virginica\"\n",
      " $ oob.times      : num [1:150] 203 198 168 186 174 177 188 192 188 178 ...\n",
      " $ classes        : chr [1:3] \"setosa\" \"versicolor\" \"virginica\"\n",
      " $ importance     : num [1:4, 1:5] 0.03613 0.00831 0.32873 0.3376 0.02377 ...\n",
      "  ..- attr(*, \"dimnames\")=List of 2\n",
      "  .. ..$ : chr [1:4] \"Sepal.Length\" \"Sepal.Width\" \"Petal.Length\" \"Petal.Width\"\n",
      "  .. ..$ : chr [1:5] \"setosa\" \"versicolor\" \"virginica\" \"MeanDecreaseAccuracy\" ...\n",
      " $ importanceSD   : num [1:4, 1:4] 0.00556 0.0019 0.01484 0.01502 0.00313 ...\n",
      "  ..- attr(*, \"dimnames\")=List of 2\n",
      "  .. ..$ : chr [1:4] \"Sepal.Length\" \"Sepal.Width\" \"Petal.Length\" \"Petal.Width\"\n",
      "  .. ..$ : chr [1:4] \"setosa\" \"versicolor\" \"virginica\" \"MeanDecreaseAccuracy\"\n",
      " $ localImportance: NULL\n",
      " $ proximity      : num [1:150, 1:150] 1 0.975 0.97 0.986 1 ...\n",
      "  ..- attr(*, \"dimnames\")=List of 2\n",
      "  .. ..$ : chr [1:150] \"1\" \"2\" \"3\" \"4\" ...\n",
      "  .. ..$ : chr [1:150] \"1\" \"2\" \"3\" \"4\" ...\n",
      " $ ntree          : num 500\n",
      " $ mtry           : num 2\n",
      " $ forest         :List of 14\n",
      "  ..$ ndbigtree : int [1:500] 15 19 11 19 15 13 17 21 21 17 ...\n",
      "  ..$ nodestatus: int [1:31, 1:500] 1 -1 1 1 1 -1 1 1 -1 -1 ...\n",
      "  ..$ bestvar   : int [1:31, 1:500] 4 0 4 4 1 0 3 3 0 0 ...\n",
      "  ..$ treemap   : int [1:31, 1:2, 1:500] 2 0 4 6 8 0 10 12 0 0 ...\n",
      "  ..$ nodepred  : int [1:31, 1:500] 0 1 0 0 0 2 0 0 3 2 ...\n",
      "  ..$ xbestsplit: num [1:31, 1:500] 0.8 0 1.65 1.35 6.05 0 4.95 4.85 0 0 ...\n",
      "  ..$ pid       : num [1:3] 1 1 1\n",
      "  ..$ cutoff    : num [1:3] 0.333 0.333 0.333\n",
      "  ..$ ncat      : Named int [1:4] 1 1 1 1\n",
      "  .. ..- attr(*, \"names\")= chr [1:4] \"Sepal.Length\" \"Sepal.Width\" \"Petal.Length\" \"Petal.Width\"\n",
      "  ..$ maxcat    : int 1\n",
      "  ..$ nrnodes   : int 31\n",
      "  ..$ ntree     : num 500\n",
      "  ..$ nclass    : int 3\n",
      "  ..$ xlevels   :List of 4\n",
      "  .. ..$ Sepal.Length: num 0\n",
      "  .. ..$ Sepal.Width : num 0\n",
      "  .. ..$ Petal.Length: num 0\n",
      "  .. ..$ Petal.Width : num 0\n",
      " $ y              : Factor w/ 3 levels \"setosa\",\"versicolor\",..: 1 1 1 1 1 1 1 1 1 1 ...\n",
      "  ..- attr(*, \"names\")= chr [1:150] \"1\" \"2\" \"3\" \"4\" ...\n",
      " $ test           : NULL\n",
      " $ inbag          : NULL\n",
      " $ terms          :Classes 'terms', 'formula'  language Species ~ Sepal.Length + Sepal.Width + Petal.Length + Petal.Width\n",
      "  .. ..- attr(*, \"variables\")= language list(Species, Sepal.Length, Sepal.Width, Petal.Length, Petal.Width)\n",
      "  .. ..- attr(*, \"factors\")= int [1:5, 1:4] 0 1 0 0 0 0 0 1 0 0 ...\n",
      "  .. .. ..- attr(*, \"dimnames\")=List of 2\n",
      "  .. .. .. ..$ : chr [1:5] \"Species\" \"Sepal.Length\" \"Sepal.Width\" \"Petal.Length\" ...\n",
      "  .. .. .. ..$ : chr [1:4] \"Sepal.Length\" \"Sepal.Width\" \"Petal.Length\" \"Petal.Width\"\n",
      "  .. ..- attr(*, \"term.labels\")= chr [1:4] \"Sepal.Length\" \"Sepal.Width\" \"Petal.Length\" \"Petal.Width\"\n",
      "  .. ..- attr(*, \"order\")= int [1:4] 1 1 1 1\n",
      "  .. ..- attr(*, \"intercept\")= num 0\n",
      "  .. ..- attr(*, \"response\")= int 1\n",
      "  .. ..- attr(*, \".Environment\")=<environment: R_GlobalEnv> \n",
      "  .. ..- attr(*, \"predvars\")= language list(Species, Sepal.Length, Sepal.Width, Petal.Length, Petal.Width)\n",
      "  .. ..- attr(*, \"dataClasses\")= Named chr [1:5] \"factor\" \"numeric\" \"numeric\" \"numeric\" ...\n",
      "  .. .. ..- attr(*, \"names\")= chr [1:5] \"Species\" \"Sepal.Length\" \"Sepal.Width\" \"Petal.Length\" ...\n",
      " - attr(*, \"class\")= chr [1:2] \"randomForest.formula\" \"randomForest\"\n"
     ]
    }
   ],
   "source": [
    "str(iris.rf)"
   ]
  },
  {
   "cell_type": "code",
   "execution_count": 244,
   "metadata": {
    "scrolled": true
   },
   "outputs": [
    {
     "data": {
      "image/png": "[encoded data removed]",
      "text/plain": [
       "Plot with title \"Histogram of treesize(iris.rf)\""
      ]
     },
     "metadata": {},
     "output_type": "display_data"
    }
   ],
   "source": [
    "hist(treesize(iris.rf))"
   ]
  },
  {
   "cell_type": "code",
   "execution_count": 245,
   "metadata": {},
   "outputs": [
    {
     "data": {
      "image/png": "[encoded data removed]",
      "text/plain": [
       "plot without title"
      ]
     },
     "metadata": {},
     "output_type": "display_data"
    }
   ],
   "source": [
    "varImpPlot(iris.rf)"
   ]
  },
  {
   "cell_type": "code",
   "execution_count": 237,
   "metadata": {},
   "outputs": [
    {
     "data": {
      "image/png": "[encoded data removed]",
      "text/plain": [
       "plot without title"
      ]
     },
     "metadata": {},
     "output_type": "display_data"
    }
   ],
   "source": [
    "# Random forest cross validation for feature selection\n",
    "myiris <- cbind(iris[1:4], matrix(runif(96 * nrow(iris)), nrow(iris), 96))\n",
    "result <- rfcv(myiris, iris$Species, cv.fold=3)\n",
    "with(result, plot(n.var, error.cv, log=\"x\", type=\"o\", lwd=2))"
   ]
  },
  {
   "cell_type": "code",
   "execution_count": 240,
   "metadata": {},
   "outputs": [],
   "source": [
    "#Missing value imputation by randomForest\n",
    "#Impute missing values in predictor data using proximity from randomForest\n",
    "data(iris)\n",
    "iris.na <- iris\n",
    "set.seed(111)\n",
    "## artificially drop some data values.\n",
    "for (i in 1:4) iris.na[sample(150, sample(20)), i] <- NA"
   ]
  },
  {
   "cell_type": "code",
   "execution_count": 241,
   "metadata": {},
   "outputs": [
    {
     "data": {
      "text/html": [
       "<table>\n",
       "<thead><tr><th scope=col>Sepal.Length</th><th scope=col>Sepal.Width</th><th scope=col>Petal.Length</th><th scope=col>Petal.Width</th><th scope=col>Species</th></tr></thead>\n",
       "<tbody>\n",
       "\t<tr><td> NA   </td><td>3.5   </td><td>1.4   </td><td>0.2   </td><td>setosa</td></tr>\n",
       "\t<tr><td>4.9   </td><td>3.0   </td><td>1.4   </td><td> NA   </td><td>setosa</td></tr>\n",
       "\t<tr><td>4.7   </td><td>3.2   </td><td>1.3   </td><td>0.2   </td><td>setosa</td></tr>\n",
       "\t<tr><td>4.6   </td><td>3.1   </td><td>1.5   </td><td>0.2   </td><td>setosa</td></tr>\n",
       "\t<tr><td>5.0   </td><td>3.6   </td><td>1.4   </td><td>0.2   </td><td>setosa</td></tr>\n",
       "\t<tr><td>5.4   </td><td>3.9   </td><td> NA   </td><td>0.4   </td><td>setosa</td></tr>\n",
       "\t<tr><td>4.6   </td><td>3.4   </td><td>1.4   </td><td>0.3   </td><td>setosa</td></tr>\n",
       "\t<tr><td>5.0   </td><td>3.4   </td><td>1.5   </td><td>0.2   </td><td>setosa</td></tr>\n",
       "\t<tr><td>4.4   </td><td>2.9   </td><td>1.4   </td><td>0.2   </td><td>setosa</td></tr>\n",
       "\t<tr><td>4.9   </td><td>3.1   </td><td>1.5   </td><td>0.1   </td><td>setosa</td></tr>\n",
       "\t<tr><td>5.4   </td><td>3.7   </td><td>1.5   </td><td>0.2   </td><td>setosa</td></tr>\n",
       "\t<tr><td>4.8   </td><td>3.4   </td><td>1.6   </td><td>0.2   </td><td>setosa</td></tr>\n",
       "\t<tr><td>4.8   </td><td>3.0   </td><td> NA   </td><td>0.1   </td><td>setosa</td></tr>\n",
       "\t<tr><td>4.3   </td><td>3.0   </td><td>1.1   </td><td>0.1   </td><td>setosa</td></tr>\n",
       "\t<tr><td>5.8   </td><td>4.0   </td><td>1.2   </td><td>0.2   </td><td>setosa</td></tr>\n",
       "\t<tr><td>5.7   </td><td>4.4   </td><td>1.5   </td><td>0.4   </td><td>setosa</td></tr>\n",
       "\t<tr><td>5.4   </td><td>3.9   </td><td>1.3   </td><td>0.4   </td><td>setosa</td></tr>\n",
       "\t<tr><td>5.1   </td><td>3.5   </td><td> NA   </td><td>0.3   </td><td>setosa</td></tr>\n",
       "\t<tr><td>5.7   </td><td>3.8   </td><td>1.7   </td><td>0.3   </td><td>setosa</td></tr>\n",
       "\t<tr><td>5.1   </td><td>3.8   </td><td>1.5   </td><td>0.3   </td><td>setosa</td></tr>\n",
       "\t<tr><td>5.4   </td><td>3.4   </td><td>1.7   </td><td>0.2   </td><td>setosa</td></tr>\n",
       "\t<tr><td>5.1   </td><td>3.7   </td><td> NA   </td><td>0.4   </td><td>setosa</td></tr>\n",
       "\t<tr><td>4.6   </td><td>3.6   </td><td>1.0   </td><td>0.2   </td><td>setosa</td></tr>\n",
       "\t<tr><td>5.1   </td><td>3.3   </td><td>1.7   </td><td>0.5   </td><td>setosa</td></tr>\n",
       "\t<tr><td> NA   </td><td>3.4   </td><td>1.9   </td><td>0.2   </td><td>setosa</td></tr>\n",
       "\t<tr><td>5.0   </td><td>3.0   </td><td>1.6   </td><td>0.2   </td><td>setosa</td></tr>\n",
       "\t<tr><td>5.0   </td><td>3.4   </td><td>1.6   </td><td>0.4   </td><td>setosa</td></tr>\n",
       "\t<tr><td> NA   </td><td>3.5   </td><td>1.5   </td><td>0.2   </td><td>setosa</td></tr>\n",
       "\t<tr><td>5.2   </td><td>3.4   </td><td>1.4   </td><td>0.2   </td><td>setosa</td></tr>\n",
       "\t<tr><td> NA   </td><td>3.2   </td><td>1.6   </td><td>0.2   </td><td>setosa</td></tr>\n",
       "\t<tr><td>...</td><td>...</td><td>...</td><td>...</td><td>...</td></tr>\n",
       "\t<tr><td>6.9      </td><td>3.2      </td><td>5.7      </td><td>2.3      </td><td>virginica</td></tr>\n",
       "\t<tr><td>5.6      </td><td>2.8      </td><td>4.9      </td><td>2.0      </td><td>virginica</td></tr>\n",
       "\t<tr><td>7.7      </td><td>2.8      </td><td>6.7      </td><td>2.0      </td><td>virginica</td></tr>\n",
       "\t<tr><td>6.3      </td><td>2.7      </td><td>4.9      </td><td>1.8      </td><td>virginica</td></tr>\n",
       "\t<tr><td>6.7      </td><td>3.3      </td><td>5.7      </td><td>2.1      </td><td>virginica</td></tr>\n",
       "\t<tr><td>7.2      </td><td>3.2      </td><td>6.0      </td><td>1.8      </td><td>virginica</td></tr>\n",
       "\t<tr><td>6.2      </td><td>2.8      </td><td>4.8      </td><td>1.8      </td><td>virginica</td></tr>\n",
       "\t<tr><td>6.1      </td><td>3.0      </td><td>4.9      </td><td>1.8      </td><td>virginica</td></tr>\n",
       "\t<tr><td>6.4      </td><td>2.8      </td><td>5.6      </td><td>2.1      </td><td>virginica</td></tr>\n",
       "\t<tr><td>7.2      </td><td>3.0      </td><td>5.8      </td><td>1.6      </td><td>virginica</td></tr>\n",
       "\t<tr><td>7.4      </td><td>2.8      </td><td>6.1      </td><td>1.9      </td><td>virginica</td></tr>\n",
       "\t<tr><td>7.9      </td><td>3.8      </td><td>6.4      </td><td>2.0      </td><td>virginica</td></tr>\n",
       "\t<tr><td>6.4      </td><td>2.8      </td><td> NA      </td><td>2.2      </td><td>virginica</td></tr>\n",
       "\t<tr><td>6.3      </td><td>2.8      </td><td> NA      </td><td>1.5      </td><td>virginica</td></tr>\n",
       "\t<tr><td>6.1      </td><td>2.6      </td><td>5.6      </td><td>1.4      </td><td>virginica</td></tr>\n",
       "\t<tr><td>7.7      </td><td>3.0      </td><td>6.1      </td><td>2.3      </td><td>virginica</td></tr>\n",
       "\t<tr><td> NA      </td><td>3.4      </td><td>5.6      </td><td>2.4      </td><td>virginica</td></tr>\n",
       "\t<tr><td>6.4      </td><td>3.1      </td><td>5.5      </td><td>1.8      </td><td>virginica</td></tr>\n",
       "\t<tr><td>6.0      </td><td>3.0      </td><td>4.8      </td><td>1.8      </td><td>virginica</td></tr>\n",
       "\t<tr><td>6.9      </td><td>3.1      </td><td>5.4      </td><td>2.1      </td><td>virginica</td></tr>\n",
       "\t<tr><td>6.7      </td><td>3.1      </td><td>5.6      </td><td>2.4      </td><td>virginica</td></tr>\n",
       "\t<tr><td>6.9      </td><td>3.1      </td><td>5.1      </td><td>2.3      </td><td>virginica</td></tr>\n",
       "\t<tr><td> NA      </td><td>2.7      </td><td>5.1      </td><td>1.9      </td><td>virginica</td></tr>\n",
       "\t<tr><td> NA      </td><td> NA      </td><td>5.9      </td><td>2.3      </td><td>virginica</td></tr>\n",
       "\t<tr><td>6.7      </td><td>3.3      </td><td>5.7      </td><td>2.5      </td><td>virginica</td></tr>\n",
       "\t<tr><td>6.7      </td><td>3.0      </td><td> NA      </td><td>2.3      </td><td>virginica</td></tr>\n",
       "\t<tr><td>6.3      </td><td>2.5      </td><td>5.0      </td><td>1.9      </td><td>virginica</td></tr>\n",
       "\t<tr><td>6.5      </td><td>3.0      </td><td>5.2      </td><td>2.0      </td><td>virginica</td></tr>\n",
       "\t<tr><td> NA      </td><td>3.4      </td><td>5.4      </td><td>2.3      </td><td>virginica</td></tr>\n",
       "\t<tr><td>5.9      </td><td>3.0      </td><td>5.1      </td><td>1.8      </td><td>virginica</td></tr>\n",
       "</tbody>\n",
       "</table>\n"
      ],
      "text/latex": [
       "\\begin{tabular}{r|lllll}\n",
       " Sepal.Length & Sepal.Width & Petal.Length & Petal.Width & Species\\\\\n",
       "\\hline\n",
       "\t  NA    & 3.5    & 1.4    & 0.2    & setosa\\\\\n",
       "\t 4.9    & 3.0    & 1.4    &  NA    & setosa\\\\\n",
       "\t 4.7    & 3.2    & 1.3    & 0.2    & setosa\\\\\n",
       "\t 4.6    & 3.1    & 1.5    & 0.2    & setosa\\\\\n",
       "\t 5.0    & 3.6    & 1.4    & 0.2    & setosa\\\\\n",
       "\t 5.4    & 3.9    &  NA    & 0.4    & setosa\\\\\n",
       "\t 4.6    & 3.4    & 1.4    & 0.3    & setosa\\\\\n",
       "\t 5.0    & 3.4    & 1.5    & 0.2    & setosa\\\\\n",
       "\t 4.4    & 2.9    & 1.4    & 0.2    & setosa\\\\\n",
       "\t 4.9    & 3.1    & 1.5    & 0.1    & setosa\\\\\n",
       "\t 5.4    & 3.7    & 1.5    & 0.2    & setosa\\\\\n",
       "\t 4.8    & 3.4    & 1.6    & 0.2    & setosa\\\\\n",
       "\t 4.8    & 3.0    &  NA    & 0.1    & setosa\\\\\n",
       "\t 4.3    & 3.0    & 1.1    & 0.1    & setosa\\\\\n",
       "\t 5.8    & 4.0    & 1.2    & 0.2    & setosa\\\\\n",
       "\t 5.7    & 4.4    & 1.5    & 0.4    & setosa\\\\\n",
       "\t 5.4    & 3.9    & 1.3    & 0.4    & setosa\\\\\n",
       "\t 5.1    & 3.5    &  NA    & 0.3    & setosa\\\\\n",
       "\t 5.7    & 3.8    & 1.7    & 0.3    & setosa\\\\\n",
       "\t 5.1    & 3.8    & 1.5    & 0.3    & setosa\\\\\n",
       "\t 5.4    & 3.4    & 1.7    & 0.2    & setosa\\\\\n",
       "\t 5.1    & 3.7    &  NA    & 0.4    & setosa\\\\\n",
       "\t 4.6    & 3.6    & 1.0    & 0.2    & setosa\\\\\n",
       "\t 5.1    & 3.3    & 1.7    & 0.5    & setosa\\\\\n",
       "\t  NA    & 3.4    & 1.9    & 0.2    & setosa\\\\\n",
       "\t 5.0    & 3.0    & 1.6    & 0.2    & setosa\\\\\n",
       "\t 5.0    & 3.4    & 1.6    & 0.4    & setosa\\\\\n",
       "\t  NA    & 3.5    & 1.5    & 0.2    & setosa\\\\\n",
       "\t 5.2    & 3.4    & 1.4    & 0.2    & setosa\\\\\n",
       "\t  NA    & 3.2    & 1.6    & 0.2    & setosa\\\\\n",
       "\t ... & ... & ... & ... & ...\\\\\n",
       "\t 6.9       & 3.2       & 5.7       & 2.3       & virginica\\\\\n",
       "\t 5.6       & 2.8       & 4.9       & 2.0       & virginica\\\\\n",
       "\t 7.7       & 2.8       & 6.7       & 2.0       & virginica\\\\\n",
       "\t 6.3       & 2.7       & 4.9       & 1.8       & virginica\\\\\n",
       "\t 6.7       & 3.3       & 5.7       & 2.1       & virginica\\\\\n",
       "\t 7.2       & 3.2       & 6.0       & 1.8       & virginica\\\\\n",
       "\t 6.2       & 2.8       & 4.8       & 1.8       & virginica\\\\\n",
       "\t 6.1       & 3.0       & 4.9       & 1.8       & virginica\\\\\n",
       "\t 6.4       & 2.8       & 5.6       & 2.1       & virginica\\\\\n",
       "\t 7.2       & 3.0       & 5.8       & 1.6       & virginica\\\\\n",
       "\t 7.4       & 2.8       & 6.1       & 1.9       & virginica\\\\\n",
       "\t 7.9       & 3.8       & 6.4       & 2.0       & virginica\\\\\n",
       "\t 6.4       & 2.8       &  NA       & 2.2       & virginica\\\\\n",
       "\t 6.3       & 2.8       &  NA       & 1.5       & virginica\\\\\n",
       "\t 6.1       & 2.6       & 5.6       & 1.4       & virginica\\\\\n",
       "\t 7.7       & 3.0       & 6.1       & 2.3       & virginica\\\\\n",
       "\t  NA       & 3.4       & 5.6       & 2.4       & virginica\\\\\n",
       "\t 6.4       & 3.1       & 5.5       & 1.8       & virginica\\\\\n",
       "\t 6.0       & 3.0       & 4.8       & 1.8       & virginica\\\\\n",
       "\t 6.9       & 3.1       & 5.4       & 2.1       & virginica\\\\\n",
       "\t 6.7       & 3.1       & 5.6       & 2.4       & virginica\\\\\n",
       "\t 6.9       & 3.1       & 5.1       & 2.3       & virginica\\\\\n",
       "\t  NA       & 2.7       & 5.1       & 1.9       & virginica\\\\\n",
       "\t  NA       &  NA       & 5.9       & 2.3       & virginica\\\\\n",
       "\t 6.7       & 3.3       & 5.7       & 2.5       & virginica\\\\\n",
       "\t 6.7       & 3.0       &  NA       & 2.3       & virginica\\\\\n",
       "\t 6.3       & 2.5       & 5.0       & 1.9       & virginica\\\\\n",
       "\t 6.5       & 3.0       & 5.2       & 2.0       & virginica\\\\\n",
       "\t  NA       & 3.4       & 5.4       & 2.3       & virginica\\\\\n",
       "\t 5.9       & 3.0       & 5.1       & 1.8       & virginica\\\\\n",
       "\\end{tabular}\n"
      ],
      "text/markdown": [
       "\n",
       "| Sepal.Length | Sepal.Width | Petal.Length | Petal.Width | Species |\n",
       "|---|---|---|---|---|\n",
       "|  NA    | 3.5    | 1.4    | 0.2    | setosa |\n",
       "| 4.9    | 3.0    | 1.4    |  NA    | setosa |\n",
       "| 4.7    | 3.2    | 1.3    | 0.2    | setosa |\n",
       "| 4.6    | 3.1    | 1.5    | 0.2    | setosa |\n",
       "| 5.0    | 3.6    | 1.4    | 0.2    | setosa |\n",
       "| 5.4    | 3.9    |  NA    | 0.4    | setosa |\n",
       "| 4.6    | 3.4    | 1.4    | 0.3    | setosa |\n",
       "| 5.0    | 3.4    | 1.5    | 0.2    | setosa |\n",
       "| 4.4    | 2.9    | 1.4    | 0.2    | setosa |\n",
       "| 4.9    | 3.1    | 1.5    | 0.1    | setosa |\n",
       "| 5.4    | 3.7    | 1.5    | 0.2    | setosa |\n",
       "| 4.8    | 3.4    | 1.6    | 0.2    | setosa |\n",
       "| 4.8    | 3.0    |  NA    | 0.1    | setosa |\n",
       "| 4.3    | 3.0    | 1.1    | 0.1    | setosa |\n",
       "| 5.8    | 4.0    | 1.2    | 0.2    | setosa |\n",
       "| 5.7    | 4.4    | 1.5    | 0.4    | setosa |\n",
       "| 5.4    | 3.9    | 1.3    | 0.4    | setosa |\n",
       "| 5.1    | 3.5    |  NA    | 0.3    | setosa |\n",
       "| 5.7    | 3.8    | 1.7    | 0.3    | setosa |\n",
       "| 5.1    | 3.8    | 1.5    | 0.3    | setosa |\n",
       "| 5.4    | 3.4    | 1.7    | 0.2    | setosa |\n",
       "| 5.1    | 3.7    |  NA    | 0.4    | setosa |\n",
       "| 4.6    | 3.6    | 1.0    | 0.2    | setosa |\n",
       "| 5.1    | 3.3    | 1.7    | 0.5    | setosa |\n",
       "|  NA    | 3.4    | 1.9    | 0.2    | setosa |\n",
       "| 5.0    | 3.0    | 1.6    | 0.2    | setosa |\n",
       "| 5.0    | 3.4    | 1.6    | 0.4    | setosa |\n",
       "|  NA    | 3.5    | 1.5    | 0.2    | setosa |\n",
       "| 5.2    | 3.4    | 1.4    | 0.2    | setosa |\n",
       "|  NA    | 3.2    | 1.6    | 0.2    | setosa |\n",
       "| ... | ... | ... | ... | ... |\n",
       "| 6.9       | 3.2       | 5.7       | 2.3       | virginica |\n",
       "| 5.6       | 2.8       | 4.9       | 2.0       | virginica |\n",
       "| 7.7       | 2.8       | 6.7       | 2.0       | virginica |\n",
       "| 6.3       | 2.7       | 4.9       | 1.8       | virginica |\n",
       "| 6.7       | 3.3       | 5.7       | 2.1       | virginica |\n",
       "| 7.2       | 3.2       | 6.0       | 1.8       | virginica |\n",
       "| 6.2       | 2.8       | 4.8       | 1.8       | virginica |\n",
       "| 6.1       | 3.0       | 4.9       | 1.8       | virginica |\n",
       "| 6.4       | 2.8       | 5.6       | 2.1       | virginica |\n",
       "| 7.2       | 3.0       | 5.8       | 1.6       | virginica |\n",
       "| 7.4       | 2.8       | 6.1       | 1.9       | virginica |\n",
       "| 7.9       | 3.8       | 6.4       | 2.0       | virginica |\n",
       "| 6.4       | 2.8       |  NA       | 2.2       | virginica |\n",
       "| 6.3       | 2.8       |  NA       | 1.5       | virginica |\n",
       "| 6.1       | 2.6       | 5.6       | 1.4       | virginica |\n",
       "| 7.7       | 3.0       | 6.1       | 2.3       | virginica |\n",
       "|  NA       | 3.4       | 5.6       | 2.4       | virginica |\n",
       "| 6.4       | 3.1       | 5.5       | 1.8       | virginica |\n",
       "| 6.0       | 3.0       | 4.8       | 1.8       | virginica |\n",
       "| 6.9       | 3.1       | 5.4       | 2.1       | virginica |\n",
       "| 6.7       | 3.1       | 5.6       | 2.4       | virginica |\n",
       "| 6.9       | 3.1       | 5.1       | 2.3       | virginica |\n",
       "|  NA       | 2.7       | 5.1       | 1.9       | virginica |\n",
       "|  NA       |  NA       | 5.9       | 2.3       | virginica |\n",
       "| 6.7       | 3.3       | 5.7       | 2.5       | virginica |\n",
       "| 6.7       | 3.0       |  NA       | 2.3       | virginica |\n",
       "| 6.3       | 2.5       | 5.0       | 1.9       | virginica |\n",
       "| 6.5       | 3.0       | 5.2       | 2.0       | virginica |\n",
       "|  NA       | 3.4       | 5.4       | 2.3       | virginica |\n",
       "| 5.9       | 3.0       | 5.1       | 1.8       | virginica |\n",
       "\n"
      ],
      "text/plain": [
       "    Sepal.Length Sepal.Width Petal.Length Petal.Width Species  \n",
       "1    NA          3.5         1.4          0.2         setosa   \n",
       "2   4.9          3.0         1.4           NA         setosa   \n",
       "3   4.7          3.2         1.3          0.2         setosa   \n",
       "4   4.6          3.1         1.5          0.2         setosa   \n",
       "5   5.0          3.6         1.4          0.2         setosa   \n",
       "6   5.4          3.9          NA          0.4         setosa   \n",
       "7   4.6          3.4         1.4          0.3         setosa   \n",
       "8   5.0          3.4         1.5          0.2         setosa   \n",
       "9   4.4          2.9         1.4          0.2         setosa   \n",
       "10  4.9          3.1         1.5          0.1         setosa   \n",
       "11  5.4          3.7         1.5          0.2         setosa   \n",
       "12  4.8          3.4         1.6          0.2         setosa   \n",
       "13  4.8          3.0          NA          0.1         setosa   \n",
       "14  4.3          3.0         1.1          0.1         setosa   \n",
       "15  5.8          4.0         1.2          0.2         setosa   \n",
       "16  5.7          4.4         1.5          0.4         setosa   \n",
       "17  5.4          3.9         1.3          0.4         setosa   \n",
       "18  5.1          3.5          NA          0.3         setosa   \n",
       "19  5.7          3.8         1.7          0.3         setosa   \n",
       "20  5.1          3.8         1.5          0.3         setosa   \n",
       "21  5.4          3.4         1.7          0.2         setosa   \n",
       "22  5.1          3.7          NA          0.4         setosa   \n",
       "23  4.6          3.6         1.0          0.2         setosa   \n",
       "24  5.1          3.3         1.7          0.5         setosa   \n",
       "25   NA          3.4         1.9          0.2         setosa   \n",
       "26  5.0          3.0         1.6          0.2         setosa   \n",
       "27  5.0          3.4         1.6          0.4         setosa   \n",
       "28   NA          3.5         1.5          0.2         setosa   \n",
       "29  5.2          3.4         1.4          0.2         setosa   \n",
       "30   NA          3.2         1.6          0.2         setosa   \n",
       "... ...          ...         ...          ...         ...      \n",
       "121 6.9          3.2         5.7          2.3         virginica\n",
       "122 5.6          2.8         4.9          2.0         virginica\n",
       "123 7.7          2.8         6.7          2.0         virginica\n",
       "124 6.3          2.7         4.9          1.8         virginica\n",
       "125 6.7          3.3         5.7          2.1         virginica\n",
       "126 7.2          3.2         6.0          1.8         virginica\n",
       "127 6.2          2.8         4.8          1.8         virginica\n",
       "128 6.1          3.0         4.9          1.8         virginica\n",
       "129 6.4          2.8         5.6          2.1         virginica\n",
       "130 7.2          3.0         5.8          1.6         virginica\n",
       "131 7.4          2.8         6.1          1.9         virginica\n",
       "132 7.9          3.8         6.4          2.0         virginica\n",
       "133 6.4          2.8          NA          2.2         virginica\n",
       "134 6.3          2.8          NA          1.5         virginica\n",
       "135 6.1          2.6         5.6          1.4         virginica\n",
       "136 7.7          3.0         6.1          2.3         virginica\n",
       "137  NA          3.4         5.6          2.4         virginica\n",
       "138 6.4          3.1         5.5          1.8         virginica\n",
       "139 6.0          3.0         4.8          1.8         virginica\n",
       "140 6.9          3.1         5.4          2.1         virginica\n",
       "141 6.7          3.1         5.6          2.4         virginica\n",
       "142 6.9          3.1         5.1          2.3         virginica\n",
       "143  NA          2.7         5.1          1.9         virginica\n",
       "144  NA           NA         5.9          2.3         virginica\n",
       "145 6.7          3.3         5.7          2.5         virginica\n",
       "146 6.7          3.0          NA          2.3         virginica\n",
       "147 6.3          2.5         5.0          1.9         virginica\n",
       "148 6.5          3.0         5.2          2.0         virginica\n",
       "149  NA          3.4         5.4          2.3         virginica\n",
       "150 5.9          3.0         5.1          1.8         virginica"
      ]
     },
     "metadata": {},
     "output_type": "display_data"
    }
   ],
   "source": [
    "iris.na"
   ]
  },
  {
   "cell_type": "code",
   "execution_count": 242,
   "metadata": {},
   "outputs": [
    {
     "name": "stdout",
     "output_type": "stream",
     "text": [
      "ntree      OOB      1      2      3\n",
      "  300:   6.00%  0.00%  8.00% 10.00%\n",
      "ntree      OOB      1      2      3\n",
      "  300:   4.67%  0.00%  6.00%  8.00%\n",
      "ntree      OOB      1      2      3\n",
      "  300:   5.33%  0.00%  6.00% 10.00%\n",
      "ntree      OOB      1      2      3\n",
      "  300:   5.33%  0.00%  6.00% 10.00%\n",
      "ntree      OOB      1      2      3\n",
      "  300:   6.00%  0.00%  8.00% 10.00%\n"
     ]
    }
   ],
   "source": [
    "set.seed(222)\n",
    "iris.imputed <- rfImpute(Species ~ ., iris.na)"
   ]
  },
  {
   "cell_type": "code",
   "execution_count": 243,
   "metadata": {},
   "outputs": [
    {
     "data": {
      "text/html": [
       "<table>\n",
       "<thead><tr><th scope=col>Species</th><th scope=col>Sepal.Length</th><th scope=col>Sepal.Width</th><th scope=col>Petal.Length</th><th scope=col>Petal.Width</th></tr></thead>\n",
       "<tbody>\n",
       "\t<tr><td>setosa   </td><td>5.001232 </td><td>3.5      </td><td>1.400000 </td><td>0.2000000</td></tr>\n",
       "\t<tr><td>setosa   </td><td>4.900000 </td><td>3.0      </td><td>1.400000 </td><td>0.2477916</td></tr>\n",
       "\t<tr><td>setosa   </td><td>4.700000 </td><td>3.2      </td><td>1.300000 </td><td>0.2000000</td></tr>\n",
       "\t<tr><td>setosa   </td><td>4.600000 </td><td>3.1      </td><td>1.500000 </td><td>0.2000000</td></tr>\n",
       "\t<tr><td>setosa   </td><td>5.000000 </td><td>3.6      </td><td>1.400000 </td><td>0.2000000</td></tr>\n",
       "\t<tr><td>setosa   </td><td>5.400000 </td><td>3.9      </td><td>1.464408 </td><td>0.4000000</td></tr>\n",
       "\t<tr><td>setosa   </td><td>4.600000 </td><td>3.4      </td><td>1.400000 </td><td>0.3000000</td></tr>\n",
       "\t<tr><td>setosa   </td><td>5.000000 </td><td>3.4      </td><td>1.500000 </td><td>0.2000000</td></tr>\n",
       "\t<tr><td>setosa   </td><td>4.400000 </td><td>2.9      </td><td>1.400000 </td><td>0.2000000</td></tr>\n",
       "\t<tr><td>setosa   </td><td>4.900000 </td><td>3.1      </td><td>1.500000 </td><td>0.1000000</td></tr>\n",
       "\t<tr><td>setosa   </td><td>5.400000 </td><td>3.7      </td><td>1.500000 </td><td>0.2000000</td></tr>\n",
       "\t<tr><td>setosa   </td><td>4.800000 </td><td>3.4      </td><td>1.600000 </td><td>0.2000000</td></tr>\n",
       "\t<tr><td>setosa   </td><td>4.800000 </td><td>3.0      </td><td>1.462965 </td><td>0.1000000</td></tr>\n",
       "\t<tr><td>setosa   </td><td>4.300000 </td><td>3.0      </td><td>1.100000 </td><td>0.1000000</td></tr>\n",
       "\t<tr><td>setosa   </td><td>5.800000 </td><td>4.0      </td><td>1.200000 </td><td>0.2000000</td></tr>\n",
       "\t<tr><td>setosa   </td><td>5.700000 </td><td>4.4      </td><td>1.500000 </td><td>0.4000000</td></tr>\n",
       "\t<tr><td>setosa   </td><td>5.400000 </td><td>3.9      </td><td>1.300000 </td><td>0.4000000</td></tr>\n",
       "\t<tr><td>setosa   </td><td>5.100000 </td><td>3.5      </td><td>1.464480 </td><td>0.3000000</td></tr>\n",
       "\t<tr><td>setosa   </td><td>5.700000 </td><td>3.8      </td><td>1.700000 </td><td>0.3000000</td></tr>\n",
       "\t<tr><td>setosa   </td><td>5.100000 </td><td>3.8      </td><td>1.500000 </td><td>0.3000000</td></tr>\n",
       "\t<tr><td>setosa   </td><td>5.400000 </td><td>3.4      </td><td>1.700000 </td><td>0.2000000</td></tr>\n",
       "\t<tr><td>setosa   </td><td>5.100000 </td><td>3.7      </td><td>1.461255 </td><td>0.4000000</td></tr>\n",
       "\t<tr><td>setosa   </td><td>4.600000 </td><td>3.6      </td><td>1.000000 </td><td>0.2000000</td></tr>\n",
       "\t<tr><td>setosa   </td><td>5.100000 </td><td>3.3      </td><td>1.700000 </td><td>0.5000000</td></tr>\n",
       "\t<tr><td>setosa   </td><td>5.000903 </td><td>3.4      </td><td>1.900000 </td><td>0.2000000</td></tr>\n",
       "\t<tr><td>setosa   </td><td>5.000000 </td><td>3.0      </td><td>1.600000 </td><td>0.2000000</td></tr>\n",
       "\t<tr><td>setosa   </td><td>5.000000 </td><td>3.4      </td><td>1.600000 </td><td>0.4000000</td></tr>\n",
       "\t<tr><td>setosa   </td><td>5.001585 </td><td>3.5      </td><td>1.500000 </td><td>0.2000000</td></tr>\n",
       "\t<tr><td>setosa   </td><td>5.200000 </td><td>3.4      </td><td>1.400000 </td><td>0.2000000</td></tr>\n",
       "\t<tr><td>setosa   </td><td>5.000562 </td><td>3.2      </td><td>1.600000 </td><td>0.2000000</td></tr>\n",
       "\t<tr><td>...</td><td>...</td><td>...</td><td>...</td><td>...</td></tr>\n",
       "\t<tr><td>virginica</td><td>6.900000 </td><td>3.200000 </td><td>5.700000 </td><td>2.3      </td></tr>\n",
       "\t<tr><td>virginica</td><td>5.600000 </td><td>2.800000 </td><td>4.900000 </td><td>2.0      </td></tr>\n",
       "\t<tr><td>virginica</td><td>7.700000 </td><td>2.800000 </td><td>6.700000 </td><td>2.0      </td></tr>\n",
       "\t<tr><td>virginica</td><td>6.300000 </td><td>2.700000 </td><td>4.900000 </td><td>1.8      </td></tr>\n",
       "\t<tr><td>virginica</td><td>6.700000 </td><td>3.300000 </td><td>5.700000 </td><td>2.1      </td></tr>\n",
       "\t<tr><td>virginica</td><td>7.200000 </td><td>3.200000 </td><td>6.000000 </td><td>1.8      </td></tr>\n",
       "\t<tr><td>virginica</td><td>6.200000 </td><td>2.800000 </td><td>4.800000 </td><td>1.8      </td></tr>\n",
       "\t<tr><td>virginica</td><td>6.100000 </td><td>3.000000 </td><td>4.900000 </td><td>1.8      </td></tr>\n",
       "\t<tr><td>virginica</td><td>6.400000 </td><td>2.800000 </td><td>5.600000 </td><td>2.1      </td></tr>\n",
       "\t<tr><td>virginica</td><td>7.200000 </td><td>3.000000 </td><td>5.800000 </td><td>1.6      </td></tr>\n",
       "\t<tr><td>virginica</td><td>7.400000 </td><td>2.800000 </td><td>6.100000 </td><td>1.9      </td></tr>\n",
       "\t<tr><td>virginica</td><td>7.900000 </td><td>3.800000 </td><td>6.400000 </td><td>2.0      </td></tr>\n",
       "\t<tr><td>virginica</td><td>6.400000 </td><td>2.800000 </td><td>5.628709 </td><td>2.2      </td></tr>\n",
       "\t<tr><td>virginica</td><td>6.300000 </td><td>2.800000 </td><td>4.317743 </td><td>1.5      </td></tr>\n",
       "\t<tr><td>virginica</td><td>6.100000 </td><td>2.600000 </td><td>5.600000 </td><td>1.4      </td></tr>\n",
       "\t<tr><td>virginica</td><td>7.700000 </td><td>3.000000 </td><td>6.100000 </td><td>2.3      </td></tr>\n",
       "\t<tr><td>virginica</td><td>6.782477 </td><td>3.400000 </td><td>5.600000 </td><td>2.4      </td></tr>\n",
       "\t<tr><td>virginica</td><td>6.400000 </td><td>3.100000 </td><td>5.500000 </td><td>1.8      </td></tr>\n",
       "\t<tr><td>virginica</td><td>6.000000 </td><td>3.000000 </td><td>4.800000 </td><td>1.8      </td></tr>\n",
       "\t<tr><td>virginica</td><td>6.900000 </td><td>3.100000 </td><td>5.400000 </td><td>2.1      </td></tr>\n",
       "\t<tr><td>virginica</td><td>6.700000 </td><td>3.100000 </td><td>5.600000 </td><td>2.4      </td></tr>\n",
       "\t<tr><td>virginica</td><td>6.900000 </td><td>3.100000 </td><td>5.100000 </td><td>2.3      </td></tr>\n",
       "\t<tr><td>virginica</td><td>6.756211 </td><td>2.700000 </td><td>5.100000 </td><td>1.9      </td></tr>\n",
       "\t<tr><td>virginica</td><td>6.770544 </td><td>3.036044 </td><td>5.900000 </td><td>2.3      </td></tr>\n",
       "\t<tr><td>virginica</td><td>6.700000 </td><td>3.300000 </td><td>5.700000 </td><td>2.5      </td></tr>\n",
       "\t<tr><td>virginica</td><td>6.700000 </td><td>3.000000 </td><td>5.636503 </td><td>2.3      </td></tr>\n",
       "\t<tr><td>virginica</td><td>6.300000 </td><td>2.500000 </td><td>5.000000 </td><td>1.9      </td></tr>\n",
       "\t<tr><td>virginica</td><td>6.500000 </td><td>3.000000 </td><td>5.200000 </td><td>2.0      </td></tr>\n",
       "\t<tr><td>virginica</td><td>6.762347 </td><td>3.400000 </td><td>5.400000 </td><td>2.3      </td></tr>\n",
       "\t<tr><td>virginica</td><td>5.900000 </td><td>3.000000 </td><td>5.100000 </td><td>1.8      </td></tr>\n",
       "</tbody>\n",
       "</table>\n"
      ],
      "text/latex": [
       "\\begin{tabular}{r|lllll}\n",
       " Species & Sepal.Length & Sepal.Width & Petal.Length & Petal.Width\\\\\n",
       "\\hline\n",
       "\t setosa    & 5.001232  & 3.5       & 1.400000  & 0.2000000\\\\\n",
       "\t setosa    & 4.900000  & 3.0       & 1.400000  & 0.2477916\\\\\n",
       "\t setosa    & 4.700000  & 3.2       & 1.300000  & 0.2000000\\\\\n",
       "\t setosa    & 4.600000  & 3.1       & 1.500000  & 0.2000000\\\\\n",
       "\t setosa    & 5.000000  & 3.6       & 1.400000  & 0.2000000\\\\\n",
       "\t setosa    & 5.400000  & 3.9       & 1.464408  & 0.4000000\\\\\n",
       "\t setosa    & 4.600000  & 3.4       & 1.400000  & 0.3000000\\\\\n",
       "\t setosa    & 5.000000  & 3.4       & 1.500000  & 0.2000000\\\\\n",
       "\t setosa    & 4.400000  & 2.9       & 1.400000  & 0.2000000\\\\\n",
       "\t setosa    & 4.900000  & 3.1       & 1.500000  & 0.1000000\\\\\n",
       "\t setosa    & 5.400000  & 3.7       & 1.500000  & 0.2000000\\\\\n",
       "\t setosa    & 4.800000  & 3.4       & 1.600000  & 0.2000000\\\\\n",
       "\t setosa    & 4.800000  & 3.0       & 1.462965  & 0.1000000\\\\\n",
       "\t setosa    & 4.300000  & 3.0       & 1.100000  & 0.1000000\\\\\n",
       "\t setosa    & 5.800000  & 4.0       & 1.200000  & 0.2000000\\\\\n",
       "\t setosa    & 5.700000  & 4.4       & 1.500000  & 0.4000000\\\\\n",
       "\t setosa    & 5.400000  & 3.9       & 1.300000  & 0.4000000\\\\\n",
       "\t setosa    & 5.100000  & 3.5       & 1.464480  & 0.3000000\\\\\n",
       "\t setosa    & 5.700000  & 3.8       & 1.700000  & 0.3000000\\\\\n",
       "\t setosa    & 5.100000  & 3.8       & 1.500000  & 0.3000000\\\\\n",
       "\t setosa    & 5.400000  & 3.4       & 1.700000  & 0.2000000\\\\\n",
       "\t setosa    & 5.100000  & 3.7       & 1.461255  & 0.4000000\\\\\n",
       "\t setosa    & 4.600000  & 3.6       & 1.000000  & 0.2000000\\\\\n",
       "\t setosa    & 5.100000  & 3.3       & 1.700000  & 0.5000000\\\\\n",
       "\t setosa    & 5.000903  & 3.4       & 1.900000  & 0.2000000\\\\\n",
       "\t setosa    & 5.000000  & 3.0       & 1.600000  & 0.2000000\\\\\n",
       "\t setosa    & 5.000000  & 3.4       & 1.600000  & 0.4000000\\\\\n",
       "\t setosa    & 5.001585  & 3.5       & 1.500000  & 0.2000000\\\\\n",
       "\t setosa    & 5.200000  & 3.4       & 1.400000  & 0.2000000\\\\\n",
       "\t setosa    & 5.000562  & 3.2       & 1.600000  & 0.2000000\\\\\n",
       "\t ... & ... & ... & ... & ...\\\\\n",
       "\t virginica & 6.900000  & 3.200000  & 5.700000  & 2.3      \\\\\n",
       "\t virginica & 5.600000  & 2.800000  & 4.900000  & 2.0      \\\\\n",
       "\t virginica & 7.700000  & 2.800000  & 6.700000  & 2.0      \\\\\n",
       "\t virginica & 6.300000  & 2.700000  & 4.900000  & 1.8      \\\\\n",
       "\t virginica & 6.700000  & 3.300000  & 5.700000  & 2.1      \\\\\n",
       "\t virginica & 7.200000  & 3.200000  & 6.000000  & 1.8      \\\\\n",
       "\t virginica & 6.200000  & 2.800000  & 4.800000  & 1.8      \\\\\n",
       "\t virginica & 6.100000  & 3.000000  & 4.900000  & 1.8      \\\\\n",
       "\t virginica & 6.400000  & 2.800000  & 5.600000  & 2.1      \\\\\n",
       "\t virginica & 7.200000  & 3.000000  & 5.800000  & 1.6      \\\\\n",
       "\t virginica & 7.400000  & 2.800000  & 6.100000  & 1.9      \\\\\n",
       "\t virginica & 7.900000  & 3.800000  & 6.400000  & 2.0      \\\\\n",
       "\t virginica & 6.400000  & 2.800000  & 5.628709  & 2.2      \\\\\n",
       "\t virginica & 6.300000  & 2.800000  & 4.317743  & 1.5      \\\\\n",
       "\t virginica & 6.100000  & 2.600000  & 5.600000  & 1.4      \\\\\n",
       "\t virginica & 7.700000  & 3.000000  & 6.100000  & 2.3      \\\\\n",
       "\t virginica & 6.782477  & 3.400000  & 5.600000  & 2.4      \\\\\n",
       "\t virginica & 6.400000  & 3.100000  & 5.500000  & 1.8      \\\\\n",
       "\t virginica & 6.000000  & 3.000000  & 4.800000  & 1.8      \\\\\n",
       "\t virginica & 6.900000  & 3.100000  & 5.400000  & 2.1      \\\\\n",
       "\t virginica & 6.700000  & 3.100000  & 5.600000  & 2.4      \\\\\n",
       "\t virginica & 6.900000  & 3.100000  & 5.100000  & 2.3      \\\\\n",
       "\t virginica & 6.756211  & 2.700000  & 5.100000  & 1.9      \\\\\n",
       "\t virginica & 6.770544  & 3.036044  & 5.900000  & 2.3      \\\\\n",
       "\t virginica & 6.700000  & 3.300000  & 5.700000  & 2.5      \\\\\n",
       "\t virginica & 6.700000  & 3.000000  & 5.636503  & 2.3      \\\\\n",
       "\t virginica & 6.300000  & 2.500000  & 5.000000  & 1.9      \\\\\n",
       "\t virginica & 6.500000  & 3.000000  & 5.200000  & 2.0      \\\\\n",
       "\t virginica & 6.762347  & 3.400000  & 5.400000  & 2.3      \\\\\n",
       "\t virginica & 5.900000  & 3.000000  & 5.100000  & 1.8      \\\\\n",
       "\\end{tabular}\n"
      ],
      "text/markdown": [
       "\n",
       "| Species | Sepal.Length | Sepal.Width | Petal.Length | Petal.Width |\n",
       "|---|---|---|---|---|\n",
       "| setosa    | 5.001232  | 3.5       | 1.400000  | 0.2000000 |\n",
       "| setosa    | 4.900000  | 3.0       | 1.400000  | 0.2477916 |\n",
       "| setosa    | 4.700000  | 3.2       | 1.300000  | 0.2000000 |\n",
       "| setosa    | 4.600000  | 3.1       | 1.500000  | 0.2000000 |\n",
       "| setosa    | 5.000000  | 3.6       | 1.400000  | 0.2000000 |\n",
       "| setosa    | 5.400000  | 3.9       | 1.464408  | 0.4000000 |\n",
       "| setosa    | 4.600000  | 3.4       | 1.400000  | 0.3000000 |\n",
       "| setosa    | 5.000000  | 3.4       | 1.500000  | 0.2000000 |\n",
       "| setosa    | 4.400000  | 2.9       | 1.400000  | 0.2000000 |\n",
       "| setosa    | 4.900000  | 3.1       | 1.500000  | 0.1000000 |\n",
       "| setosa    | 5.400000  | 3.7       | 1.500000  | 0.2000000 |\n",
       "| setosa    | 4.800000  | 3.4       | 1.600000  | 0.2000000 |\n",
       "| setosa    | 4.800000  | 3.0       | 1.462965  | 0.1000000 |\n",
       "| setosa    | 4.300000  | 3.0       | 1.100000  | 0.1000000 |\n",
       "| setosa    | 5.800000  | 4.0       | 1.200000  | 0.2000000 |\n",
       "| setosa    | 5.700000  | 4.4       | 1.500000  | 0.4000000 |\n",
       "| setosa    | 5.400000  | 3.9       | 1.300000  | 0.4000000 |\n",
       "| setosa    | 5.100000  | 3.5       | 1.464480  | 0.3000000 |\n",
       "| setosa    | 5.700000  | 3.8       | 1.700000  | 0.3000000 |\n",
       "| setosa    | 5.100000  | 3.8       | 1.500000  | 0.3000000 |\n",
       "| setosa    | 5.400000  | 3.4       | 1.700000  | 0.2000000 |\n",
       "| setosa    | 5.100000  | 3.7       | 1.461255  | 0.4000000 |\n",
       "| setosa    | 4.600000  | 3.6       | 1.000000  | 0.2000000 |\n",
       "| setosa    | 5.100000  | 3.3       | 1.700000  | 0.5000000 |\n",
       "| setosa    | 5.000903  | 3.4       | 1.900000  | 0.2000000 |\n",
       "| setosa    | 5.000000  | 3.0       | 1.600000  | 0.2000000 |\n",
       "| setosa    | 5.000000  | 3.4       | 1.600000  | 0.4000000 |\n",
       "| setosa    | 5.001585  | 3.5       | 1.500000  | 0.2000000 |\n",
       "| setosa    | 5.200000  | 3.4       | 1.400000  | 0.2000000 |\n",
       "| setosa    | 5.000562  | 3.2       | 1.600000  | 0.2000000 |\n",
       "| ... | ... | ... | ... | ... |\n",
       "| virginica | 6.900000  | 3.200000  | 5.700000  | 2.3       |\n",
       "| virginica | 5.600000  | 2.800000  | 4.900000  | 2.0       |\n",
       "| virginica | 7.700000  | 2.800000  | 6.700000  | 2.0       |\n",
       "| virginica | 6.300000  | 2.700000  | 4.900000  | 1.8       |\n",
       "| virginica | 6.700000  | 3.300000  | 5.700000  | 2.1       |\n",
       "| virginica | 7.200000  | 3.200000  | 6.000000  | 1.8       |\n",
       "| virginica | 6.200000  | 2.800000  | 4.800000  | 1.8       |\n",
       "| virginica | 6.100000  | 3.000000  | 4.900000  | 1.8       |\n",
       "| virginica | 6.400000  | 2.800000  | 5.600000  | 2.1       |\n",
       "| virginica | 7.200000  | 3.000000  | 5.800000  | 1.6       |\n",
       "| virginica | 7.400000  | 2.800000  | 6.100000  | 1.9       |\n",
       "| virginica | 7.900000  | 3.800000  | 6.400000  | 2.0       |\n",
       "| virginica | 6.400000  | 2.800000  | 5.628709  | 2.2       |\n",
       "| virginica | 6.300000  | 2.800000  | 4.317743  | 1.5       |\n",
       "| virginica | 6.100000  | 2.600000  | 5.600000  | 1.4       |\n",
       "| virginica | 7.700000  | 3.000000  | 6.100000  | 2.3       |\n",
       "| virginica | 6.782477  | 3.400000  | 5.600000  | 2.4       |\n",
       "| virginica | 6.400000  | 3.100000  | 5.500000  | 1.8       |\n",
       "| virginica | 6.000000  | 3.000000  | 4.800000  | 1.8       |\n",
       "| virginica | 6.900000  | 3.100000  | 5.400000  | 2.1       |\n",
       "| virginica | 6.700000  | 3.100000  | 5.600000  | 2.4       |\n",
       "| virginica | 6.900000  | 3.100000  | 5.100000  | 2.3       |\n",
       "| virginica | 6.756211  | 2.700000  | 5.100000  | 1.9       |\n",
       "| virginica | 6.770544  | 3.036044  | 5.900000  | 2.3       |\n",
       "| virginica | 6.700000  | 3.300000  | 5.700000  | 2.5       |\n",
       "| virginica | 6.700000  | 3.000000  | 5.636503  | 2.3       |\n",
       "| virginica | 6.300000  | 2.500000  | 5.000000  | 1.9       |\n",
       "| virginica | 6.500000  | 3.000000  | 5.200000  | 2.0       |\n",
       "| virginica | 6.762347  | 3.400000  | 5.400000  | 2.3       |\n",
       "| virginica | 5.900000  | 3.000000  | 5.100000  | 1.8       |\n",
       "\n"
      ],
      "text/plain": [
       "    Species   Sepal.Length Sepal.Width Petal.Length Petal.Width\n",
       "1   setosa    5.001232     3.5         1.400000     0.2000000  \n",
       "2   setosa    4.900000     3.0         1.400000     0.2477916  \n",
       "3   setosa    4.700000     3.2         1.300000     0.2000000  \n",
       "4   setosa    4.600000     3.1         1.500000     0.2000000  \n",
       "5   setosa    5.000000     3.6         1.400000     0.2000000  \n",
       "6   setosa    5.400000     3.9         1.464408     0.4000000  \n",
       "7   setosa    4.600000     3.4         1.400000     0.3000000  \n",
       "8   setosa    5.000000     3.4         1.500000     0.2000000  \n",
       "9   setosa    4.400000     2.9         1.400000     0.2000000  \n",
       "10  setosa    4.900000     3.1         1.500000     0.1000000  \n",
       "11  setosa    5.400000     3.7         1.500000     0.2000000  \n",
       "12  setosa    4.800000     3.4         1.600000     0.2000000  \n",
       "13  setosa    4.800000     3.0         1.462965     0.1000000  \n",
       "14  setosa    4.300000     3.0         1.100000     0.1000000  \n",
       "15  setosa    5.800000     4.0         1.200000     0.2000000  \n",
       "16  setosa    5.700000     4.4         1.500000     0.4000000  \n",
       "17  setosa    5.400000     3.9         1.300000     0.4000000  \n",
       "18  setosa    5.100000     3.5         1.464480     0.3000000  \n",
       "19  setosa    5.700000     3.8         1.700000     0.3000000  \n",
       "20  setosa    5.100000     3.8         1.500000     0.3000000  \n",
       "21  setosa    5.400000     3.4         1.700000     0.2000000  \n",
       "22  setosa    5.100000     3.7         1.461255     0.4000000  \n",
       "23  setosa    4.600000     3.6         1.000000     0.2000000  \n",
       "24  setosa    5.100000     3.3         1.700000     0.5000000  \n",
       "25  setosa    5.000903     3.4         1.900000     0.2000000  \n",
       "26  setosa    5.000000     3.0         1.600000     0.2000000  \n",
       "27  setosa    5.000000     3.4         1.600000     0.4000000  \n",
       "28  setosa    5.001585     3.5         1.500000     0.2000000  \n",
       "29  setosa    5.200000     3.4         1.400000     0.2000000  \n",
       "30  setosa    5.000562     3.2         1.600000     0.2000000  \n",
       "... ...       ...          ...         ...          ...        \n",
       "121 virginica 6.900000     3.200000    5.700000     2.3        \n",
       "122 virginica 5.600000     2.800000    4.900000     2.0        \n",
       "123 virginica 7.700000     2.800000    6.700000     2.0        \n",
       "124 virginica 6.300000     2.700000    4.900000     1.8        \n",
       "125 virginica 6.700000     3.300000    5.700000     2.1        \n",
       "126 virginica 7.200000     3.200000    6.000000     1.8        \n",
       "127 virginica 6.200000     2.800000    4.800000     1.8        \n",
       "128 virginica 6.100000     3.000000    4.900000     1.8        \n",
       "129 virginica 6.400000     2.800000    5.600000     2.1        \n",
       "130 virginica 7.200000     3.000000    5.800000     1.6        \n",
       "131 virginica 7.400000     2.800000    6.100000     1.9        \n",
       "132 virginica 7.900000     3.800000    6.400000     2.0        \n",
       "133 virginica 6.400000     2.800000    5.628709     2.2        \n",
       "134 virginica 6.300000     2.800000    4.317743     1.5        \n",
       "135 virginica 6.100000     2.600000    5.600000     1.4        \n",
       "136 virginica 7.700000     3.000000    6.100000     2.3        \n",
       "137 virginica 6.782477     3.400000    5.600000     2.4        \n",
       "138 virginica 6.400000     3.100000    5.500000     1.8        \n",
       "139 virginica 6.000000     3.000000    4.800000     1.8        \n",
       "140 virginica 6.900000     3.100000    5.400000     2.1        \n",
       "141 virginica 6.700000     3.100000    5.600000     2.4        \n",
       "142 virginica 6.900000     3.100000    5.100000     2.3        \n",
       "143 virginica 6.756211     2.700000    5.100000     1.9        \n",
       "144 virginica 6.770544     3.036044    5.900000     2.3        \n",
       "145 virginica 6.700000     3.300000    5.700000     2.5        \n",
       "146 virginica 6.700000     3.000000    5.636503     2.3        \n",
       "147 virginica 6.300000     2.500000    5.000000     1.9        \n",
       "148 virginica 6.500000     3.000000    5.200000     2.0        \n",
       "149 virginica 6.762347     3.400000    5.400000     2.3        \n",
       "150 virginica 5.900000     3.000000    5.100000     1.8        "
      ]
     },
     "metadata": {},
     "output_type": "display_data"
    }
   ],
   "source": [
    "iris.imputed"
   ]
  },
  {
   "cell_type": "code",
   "execution_count": null,
   "metadata": {},
   "outputs": [],
   "source": [
    "set.seed(333)\n",
    "iris.rf <- randomForest(Species ~ ., iris.imputed)\n",
    "print(iris.rf)"
   ]
  },
  {
   "cell_type": "markdown",
   "metadata": {},
   "source": [
    "# Feature Selection"
   ]
  },
  {
   "cell_type": "code",
   "execution_count": 248,
   "metadata": {},
   "outputs": [
    {
     "name": "stderr",
     "output_type": "stream",
     "text": [
      "Warning message:\n",
      "\"package 'FSelector' was built under R version 3.6.3\""
     ]
    }
   ],
   "source": [
    "library(FSelector)"
   ]
  },
  {
   "cell_type": "code",
   "execution_count": 249,
   "metadata": {},
   "outputs": [],
   "source": [
    "data(iris)\n",
    "weights = information.gain(Species ~.,iris)"
   ]
  },
  {
   "cell_type": "code",
   "execution_count": 253,
   "metadata": {},
   "outputs": [
    {
     "name": "stdout",
     "output_type": "stream",
     "text": [
      "'data.frame':\t4 obs. of  1 variable:\n",
      " $ attr_importance: num  0.452 0.267 0.94 0.955\n"
     ]
    }
   ],
   "source": [
    "str(weights)"
   ]
  },
  {
   "cell_type": "code",
   "execution_count": 257,
   "metadata": {},
   "outputs": [
    {
     "data": {
      "text/html": [
       "<table>\n",
       "<thead><tr><th scope=col>attr_importance</th><th scope=col>name</th></tr></thead>\n",
       "<tbody>\n",
       "\t<tr><td>0.9554360   </td><td>Petal.Width </td></tr>\n",
       "\t<tr><td>0.9402853   </td><td>Petal.Length</td></tr>\n",
       "\t<tr><td>0.4521286   </td><td>Sepal.Length</td></tr>\n",
       "\t<tr><td>0.2672750   </td><td>Sepal.Width </td></tr>\n",
       "</tbody>\n",
       "</table>\n"
      ],
      "text/latex": [
       "\\begin{tabular}{r|ll}\n",
       " attr\\_importance & name\\\\\n",
       "\\hline\n",
       "\t 0.9554360    & Petal.Width \\\\\n",
       "\t 0.9402853    & Petal.Length\\\\\n",
       "\t 0.4521286    & Sepal.Length\\\\\n",
       "\t 0.2672750    & Sepal.Width \\\\\n",
       "\\end{tabular}\n"
      ],
      "text/markdown": [
       "\n",
       "| attr_importance | name |\n",
       "|---|---|\n",
       "| 0.9554360    | Petal.Width  |\n",
       "| 0.9402853    | Petal.Length |\n",
       "| 0.4521286    | Sepal.Length |\n",
       "| 0.2672750    | Sepal.Width  |\n",
       "\n"
      ],
      "text/plain": [
       "  attr_importance name        \n",
       "1 0.9554360       Petal.Width \n",
       "2 0.9402853       Petal.Length\n",
       "3 0.4521286       Sepal.Length\n",
       "4 0.2672750       Sepal.Width "
      ]
     },
     "metadata": {},
     "output_type": "display_data"
    }
   ],
   "source": [
    "library(tidyverse)\n",
    "weights %>% mutate(name=rownames(weights)) %>% arrange(desc(attr_importance))"
   ]
  }
 ],
 "metadata": {
  "kernelspec": {
   "display_name": "R",
   "language": "R",
   "name": "ir"
  },
  "language_info": {
   "codemirror_mode": "r",
   "file_extension": ".r",
   "mimetype": "text/x-r-source",
   "name": "R",
   "pygments_lexer": "r",
   "version": "3.6.1"
  }
 },
 "nbformat": 4,
 "nbformat_minor": 4
}
