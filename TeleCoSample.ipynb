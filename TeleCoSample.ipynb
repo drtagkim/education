{
 "cells": [
  {
   "cell_type": "code",
   "execution_count": 31,
   "metadata": {},
   "outputs": [],
   "source": [
    "suppressMessages(suppressWarnings(\n",
    "{\n",
    "    library(dplyr)\n",
    "    library(ggplot2)\n",
    "    library(stringr)\n",
    "    library(xlsx)\n",
    "}\n",
    "))\n",
    "\n",
    "TeleCo=read.xlsx(\"TelecoOutput.xlsx\",1)\n",
    "\n",
    "TeleCoLogic=TeleCo%>%select(Churn,starts_with(\"Logistic.Regression\"))\n",
    "\n",
    "names(TeleCoLogic)=c(\"Churn\",\"LogicPredicted\",\"LogitNo\",\"LogitYes\")\n",
    "\n",
    "TeleCoSVM=TeleCo%>%select(Churn,starts_with(\"SVM\"))\n",
    "\n",
    "names(TeleCoSVM)=c(\"Churn\",\"SVMPredicted\",\"SVMNo\",\"SVMYes\")\n",
    "\n",
    "TeleNB=TeleCo%>%select(Churn,starts_with(\"Naive.Bayes\"))\n",
    "\n",
    "names(TeleNB)=c(\"Churn\",\"NBPredicted\",\"NBNo\",\"NBYes\")\n",
    "\n",
    "TeleCoLogic <- TeleCoLogic %>% mutate(LogitScore=pmax(LogitNo,LogitYes))\n",
    "\n",
    "TeleCoSVM <- TeleCoSVM %>% mutate(SVMScore=pmax(SVMNo,SVMYes))\n",
    "\n",
    "TeleNB <- TeleNB %>% mutate(NBScore=pmax(NBNo,NBYes))\n",
    "\n",
    "calEva <- function(df) {\n",
    "    real=df[,1]\n",
    "    pred=df[,2]\n",
    "    TP=sum(real==\"No\" & pred==\"No\")\n",
    "    TN=sum(real==\"Yes\" & pred==\"Yes\")\n",
    "    FP=sum(real==\"Yes\" & pred==\"No\")\n",
    "    FN=sum(real==\"No\" & pred==\"Yes\")\n",
    "    expected_value=-500*FN+(1000-500)*TN+1000*FP+0*TP\n",
    "    expected_value/nrow(df)\n",
    "}"
   ]
  },
  {
   "cell_type": "code",
   "execution_count": 86,
   "metadata": {},
   "outputs": [],
   "source": [
    "x=1:nrow(TeleNB)\n",
    "\n",
    "y1=y2=y3=rep(0,length(x))\n",
    "\n",
    "for(i in x) {\n",
    "    y1[i]=calEva(TeleCoLogic[1:i,])\n",
    "    y2[i]=calEva(TeleCoSVM[1:i,])\n",
    "    y3[i]=calEva(TeleNB[1:i,])\n",
    "}"
   ]
  },
  {
   "cell_type": "code",
   "execution_count": 97,
   "metadata": {},
   "outputs": [],
   "source": [
    "plot_height=options()$repr.plot.height\n",
    "plot_width=options()$repr.plot.width"
   ]
  },
  {
   "cell_type": "code",
   "execution_count": 99,
   "metadata": {},
   "outputs": [
    {
     "data": {
      "image/png": "[encoded data removed]",
      "text/plain": [
       "plot without title"
      ]
     },
     "metadata": {},
     "output_type": "display_data"
    }
   ],
   "source": [
    "options(repr.plot.height=4,repr.plot.width=4)\n",
    "plot(x,y1,type='l',ylim=c(-100,1000),xlab=\"Promotion Number\",ylab=\"Economic Value per Person\")\n",
    "lines(x,y2,col='red')\n",
    "lines(x,y3,col='blue')\n",
    "abline(h=0)"
   ]
  },
  {
   "cell_type": "code",
   "execution_count": null,
   "metadata": {},
   "outputs": [],
   "source": []
  }
 ],
 "metadata": {
  "kernelspec": {
   "display_name": "R",
   "language": "R",
   "name": "ir"
  },
  "language_info": {
   "codemirror_mode": "r",
   "file_extension": ".r",
   "mimetype": "text/x-r-source",
   "name": "R",
   "pygments_lexer": "r",
   "version": "3.6.1"
  }
 },
 "nbformat": 4,
 "nbformat_minor": 4
}
