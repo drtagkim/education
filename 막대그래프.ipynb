{
 "cells": [
  {
   "cell_type": "markdown",
   "metadata": {},
   "source": [
    "# 들어가기\n",
    "이 포스트는 Winston Chang의 R Graphics Cookbook을 참고하였습니다.\n",
    "\n",
    "광운대학교 경영학부 부교수 김태경"
   ]
  },
  {
   "cell_type": "markdown",
   "metadata": {},
   "source": [
    "# 막대 그래프\n",
    "R의 강력한 그래프 도구인 ggplot을 이용해서 그래프를 그려보자. 이번 시간에는 막대 그래프에 집중한다.\n",
    "\n",
    "우선, 예제 데이터를 얻기 위해 gcookbook 패키지를 설치한다. 매번 설치할 필요가 없다. 한 번만 설치하고 필요하면 업데이트를 하자. 패키지를 설치하는 명령어는 **install.packages()**이다. "
   ]
  },
  {
   "cell_type": "code",
   "execution_count": 1,
   "metadata": {
    "scrolled": false
   },
   "outputs": [
    {
     "name": "stderr",
     "output_type": "stream",
     "text": [
      "Installing package into 'C:/rlibs'\n",
      "(as 'lib' is unspecified)\n"
     ]
    },
    {
     "name": "stdout",
     "output_type": "stream",
     "text": [
      "package 'gcookbook' successfully unpacked and MD5 sums checked\n",
      "\n",
      "The downloaded binary packages are in\n",
      "\tC:\\Users\\PC\\AppData\\Local\\Temp\\RtmpS2LiDE\\downloaded_packages\n"
     ]
    }
   ],
   "source": [
    "install.packages(\"gcookbook\")"
   ]
  },
  {
   "cell_type": "markdown",
   "metadata": {},
   "source": [
    "패키지를 불러보자. 우리는 `ggplot2`와 `tidyverse`패키지를 불러온다. 패키지를 불러오려면 **library()**함수를 사용한다."
   ]
  },
  {
   "cell_type": "code",
   "execution_count": 53,
   "metadata": {},
   "outputs": [],
   "source": [
    "suppressWarnings(suppressMessages({\n",
    "    library(ggplot2)\n",
    "    library(tidyverse)\n",
    "}))"
   ]
  },
  {
   "cell_type": "code",
   "execution_count": 12,
   "metadata": {},
   "outputs": [],
   "source": [
    "options(repr.plot.width=3,repr.plot.height=2) #RStudio 사용자는 실행할 필요가 없다."
   ]
  },
  {
   "cell_type": "markdown",
   "metadata": {},
   "source": [
    "# geom_bar()"
   ]
  },
  {
   "cell_type": "markdown",
   "metadata": {},
   "source": [
    "막대 그래프는 x에 대하여 개수(count)를 세어 그래프로 표시하며 아주 간단하다. 개수를 측정하는 일은 우리가 흔히 하는 일이기도 하다. 다음과 같이 개수를 세어주는 `table()`함수처럼."
   ]
  },
  {
   "cell_type": "code",
   "execution_count": 88,
   "metadata": {},
   "outputs": [
    {
     "data": {
      "text/plain": [
       "\n",
       " 4  6  8 \n",
       "11  7 14 "
      ]
     },
     "metadata": {},
     "output_type": "display_data"
    }
   ],
   "source": [
    "table(mtcars$cyl)"
   ]
  },
  {
   "cell_type": "code",
   "execution_count": 89,
   "metadata": {},
   "outputs": [
    {
     "name": "stdout",
     "output_type": "stream",
     "text": [
      "'data.frame':\t32 obs. of  11 variables:\n",
      " $ mpg : num  21 21 22.8 21.4 18.7 18.1 14.3 24.4 22.8 19.2 ...\n",
      " $ cyl : num  6 6 4 6 8 6 8 4 4 6 ...\n",
      " $ disp: num  160 160 108 258 360 ...\n",
      " $ hp  : num  110 110 93 110 175 105 245 62 95 123 ...\n",
      " $ drat: num  3.9 3.9 3.85 3.08 3.15 2.76 3.21 3.69 3.92 3.92 ...\n",
      " $ wt  : num  2.62 2.88 2.32 3.21 3.44 ...\n",
      " $ qsec: num  16.5 17 18.6 19.4 17 ...\n",
      " $ vs  : num  0 0 1 1 0 1 0 1 1 1 ...\n",
      " $ am  : num  1 1 1 0 0 0 0 0 0 0 ...\n",
      " $ gear: num  4 4 4 3 3 3 3 4 4 4 ...\n",
      " $ carb: num  4 4 1 1 2 1 4 2 2 4 ...\n"
     ]
    }
   ],
   "source": [
    "str(mtcars)"
   ]
  },
  {
   "cell_type": "markdown",
   "metadata": {},
   "source": [
    "데이터 `mtcars`는 R에 기본적으로 탑재되어 있는 연습용 데이터다. 이런 데이터가 많고, 우리는 앞으로 연습 데이터와 gcookbook에 탑재된 데이터를 번갈아 쓸 것이다. 물론 여러분의 데이터도 `tibble`이나 `data.frame`객체로 된 경우에 자유롭게 가져와서 사용할 수 있다. \n",
    "\n",
    "함수 `str()`은 데이터의 구조를 보여준다. 자세한 설명은 다른 포스트를 참고하자."
   ]
  },
  {
   "cell_type": "code",
   "execution_count": 14,
   "metadata": {},
   "outputs": [],
   "source": [
    "g <- ggplot(mtcars,aes(x=cyl)) #팔레트에 그래프 올린다.\n",
    "g <- g+geom_bar() #bar차트를 올린다.\n",
    "g <- g+labs(title=\"Sample Bar\",x='실린더 수',y=\"개수\") #라벨링"
   ]
  },
  {
   "cell_type": "code",
   "execution_count": 15,
   "metadata": {
    "scrolled": true
   },
   "outputs": [
    {
     "data": {
      "image/png": "[encoded data removed]",
      "text/plain": [
       "plot without title"
      ]
     },
     "metadata": {},
     "output_type": "display_data"
    }
   ],
   "source": [
    "print(g)"
   ]
  },
  {
   "cell_type": "markdown",
   "metadata": {},
   "source": [
    "위의 그래프는 문제가 있다. 왜냐하면 우리는 오직 4,6,8개 실린더 데이터만 있는데 그래프는 마치 3,5,7,9개 실린더도 데이터가 있는 것처럼 보인다. 이를 수정하기 위해 x에 입력되는 데이터를 factor 객체로 정의하자.\n",
    "\n",
    "아래의 표현이 흔히 `geom_bar()`를 사용할 때 여러분이 할 수 있는 선택이다."
   ]
  },
  {
   "cell_type": "code",
   "execution_count": 16,
   "metadata": {},
   "outputs": [],
   "source": [
    "g <- ggplot(mtcars,aes(x=factor(cyl)))\n",
    "g <- g+geom_bar()\n",
    "g <- g+labs(title=\"Sample Bar\",x='실린더 수',y=\"개수\") #라벨링"
   ]
  },
  {
   "cell_type": "code",
   "execution_count": 17,
   "metadata": {},
   "outputs": [
    {
     "data": {
      "image/png": "[encoded data removed]",
      "text/plain": [
       "plot without title"
      ]
     },
     "metadata": {},
     "output_type": "display_data"
    }
   ],
   "source": [
    "print(g)"
   ]
  },
  {
   "cell_type": "markdown",
   "metadata": {},
   "source": [
    "# geom_hist()"
   ]
  },
  {
   "cell_type": "markdown",
   "metadata": {},
   "source": [
    "히스토그램은 연속변수의 도수를 세어준다. `geom_bar()`가 factor 데이터에 적당하다면 `geom_hist()`는 보다 편리하게 도수분포를 알려준다. 사용법은 `geom_bar()`와 크게 다르지 않다. 기초적인 bin size는 30으로 되어 있다."
   ]
  },
  {
   "cell_type": "code",
   "execution_count": 20,
   "metadata": {},
   "outputs": [],
   "source": [
    "g <- ggplot(mtcars,aes(x=mpg))\n",
    "g <- g+geom_histogram()"
   ]
  },
  {
   "cell_type": "code",
   "execution_count": 21,
   "metadata": {
    "scrolled": true
   },
   "outputs": [
    {
     "name": "stderr",
     "output_type": "stream",
     "text": [
      "`stat_bin()` using `bins = 30`. Pick better value with `binwidth`.\n"
     ]
    },
    {
     "data": {
      "image/png": "[encoded data removed]",
      "text/plain": [
       "plot without title"
      ]
     },
     "metadata": {},
     "output_type": "display_data"
    }
   ],
   "source": [
    "print(g)"
   ]
  },
  {
   "cell_type": "markdown",
   "metadata": {},
   "source": [
    "그래프의 binwidth (막대의 크기)를 적절히 바꿔주면 더 좋은 모양을 얻는다."
   ]
  },
  {
   "cell_type": "code",
   "execution_count": 30,
   "metadata": {},
   "outputs": [],
   "source": [
    "g <- ggplot(mtcars,aes(x=mpg))\n",
    "g <- g+geom_histogram(binwidth=3)"
   ]
  },
  {
   "cell_type": "code",
   "execution_count": 31,
   "metadata": {},
   "outputs": [
    {
     "data": {
      "image/png": "[encoded data removed]",
      "text/plain": [
       "plot without title"
      ]
     },
     "metadata": {},
     "output_type": "display_data"
    }
   ],
   "source": [
    "print(g)"
   ]
  },
  {
   "cell_type": "markdown",
   "metadata": {},
   "source": [
    "# geom_boxplot()"
   ]
  },
  {
   "cell_type": "markdown",
   "metadata": {},
   "source": [
    "변수의 분포를 알아보는 또 다른 도구는 `geom_boxplot()`이다. 최소값, 최대값, 중앙값(median), 중위수(25%,75%) 등을 시각적으로 확인할 수 있다. \n",
    "\n",
    "예제를 위해 ToothGrowth 데이터를 사용한다. 비타민 C 용량을 나타내는 dose와 이를 전달하는 두 가지 방법(orange juice, ascorbic acid)가 있고 그에 따른 치아의 크기(len)를 묶어 둔 데이터다."
   ]
  },
  {
   "cell_type": "code",
   "execution_count": 32,
   "metadata": {
    "scrolled": false
   },
   "outputs": [
    {
     "name": "stdout",
     "output_type": "stream",
     "text": [
      "'data.frame':\t60 obs. of  3 variables:\n",
      " $ len : num  4.2 11.5 7.3 5.8 6.4 10 11.2 11.2 5.2 7 ...\n",
      " $ supp: Factor w/ 2 levels \"OJ\",\"VC\": 2 2 2 2 2 2 2 2 2 2 ...\n",
      " $ dose: num  0.5 0.5 0.5 0.5 0.5 0.5 0.5 0.5 0.5 0.5 ...\n"
     ]
    }
   ],
   "source": [
    "str(ToothGrowth)"
   ]
  },
  {
   "cell_type": "code",
   "execution_count": 33,
   "metadata": {},
   "outputs": [],
   "source": [
    "g <- ggplot(ToothGrowth,aes(x=supp,y=len))\n",
    "g <- g+geom_boxplot()"
   ]
  },
  {
   "cell_type": "markdown",
   "metadata": {},
   "source": [
    "`geom_boxplot()`을 사용하려면 x와 y를 모두 정해줘야 한다. 이때, x는 factor 형 데이터, y는 연속변수다."
   ]
  },
  {
   "cell_type": "code",
   "execution_count": 34,
   "metadata": {},
   "outputs": [
    {
     "data": {
      "image/png": "[encoded data removed]",
      "text/plain": [
       "plot without title"
      ]
     },
     "metadata": {},
     "output_type": "display_data"
    }
   ],
   "source": [
    "print(g)"
   ]
  },
  {
   "cell_type": "markdown",
   "metadata": {},
   "source": [
    "전달 방법과 용량을 함께 고려하면 어떻게 될까? 두 변수의 결합 상태를 함께 보려면 `interaction()`으로 이를 묶어주면 된다."
   ]
  },
  {
   "cell_type": "code",
   "execution_count": 35,
   "metadata": {},
   "outputs": [],
   "source": [
    "g <- ggplot(ToothGrowth,aes(x=interaction(supp,dose),y=len))\n",
    "g <- g+geom_boxplot()"
   ]
  },
  {
   "cell_type": "code",
   "execution_count": 36,
   "metadata": {
    "scrolled": true
   },
   "outputs": [
    {
     "data": {
      "image/png": "[encoded data removed]",
      "text/plain": [
       "plot without title"
      ]
     },
     "metadata": {},
     "output_type": "display_data"
    }
   ],
   "source": [
    "print(g)"
   ]
  },
  {
   "cell_type": "markdown",
   "metadata": {},
   "source": [
    "결과를 보면 같은 용량의 비타민 C를 투입할 때 알약보다는 오렌지 쥬스를 선택하는 것이 치아 크기에 긍정적인 것처럼 보이지만, 투입 용량이 커지면 그 차이는 체계적으로 줄어든다."
   ]
  },
  {
   "cell_type": "markdown",
   "metadata": {},
   "source": [
    "# geom_col()"
   ]
  },
  {
   "cell_type": "markdown",
   "metadata": {},
   "source": [
    "일반적인 형태의 막대 그래프는 `geom_col()`로 해결하면 된다. 데이터 분석 목적으로 가장 많이 쓰는 방법이기도 하다.\n",
    "\n",
    "예를 위해 BOD 데이터를 가져온다. Time은 측정 시간, demand는 산소요구량이다."
   ]
  },
  {
   "cell_type": "code",
   "execution_count": 37,
   "metadata": {
    "scrolled": true
   },
   "outputs": [
    {
     "name": "stdout",
     "output_type": "stream",
     "text": [
      "'data.frame':\t6 obs. of  2 variables:\n",
      " $ Time  : num  1 2 3 4 5 7\n",
      " $ demand: num  8.3 10.3 19 16 15.6 19.8\n",
      " - attr(*, \"reference\")= chr \"A1.4, p. 270\"\n"
     ]
    }
   ],
   "source": [
    "str(BOD)"
   ]
  },
  {
   "cell_type": "markdown",
   "metadata": {},
   "source": [
    "`geom_col()`은 x와 y를 모두 aes()안에 지정한다. 그리고 이들은 x가 연속변수 혹은 factor이고 y는 연속변수이다."
   ]
  },
  {
   "cell_type": "code",
   "execution_count": 38,
   "metadata": {},
   "outputs": [],
   "source": [
    "g <- ggplot(BOD,aes(x=Time,y=demand))\n",
    "g <- g+geom_col()"
   ]
  },
  {
   "cell_type": "code",
   "execution_count": 39,
   "metadata": {},
   "outputs": [
    {
     "data": {
      "image/png": "[encoded data removed]",
      "text/plain": [
       "plot without title"
      ]
     },
     "metadata": {},
     "output_type": "display_data"
    }
   ],
   "source": [
    "print(g)"
   ]
  },
  {
   "cell_type": "markdown",
   "metadata": {},
   "source": [
    "`geom_bar()`와 마찬가지로 x가 factor일 때 보다 더 결과가 잘 보인다."
   ]
  },
  {
   "cell_type": "code",
   "execution_count": 40,
   "metadata": {},
   "outputs": [],
   "source": [
    "g <- ggplot(BOD,aes(x=factor(Time),y=demand))\n",
    "g <- g+geom_col()"
   ]
  },
  {
   "cell_type": "code",
   "execution_count": 41,
   "metadata": {},
   "outputs": [
    {
     "data": {
      "image/png": "[encoded data removed]",
      "text/plain": [
       "plot without title"
      ]
     },
     "metadata": {},
     "output_type": "display_data"
    }
   ],
   "source": [
    "print(g)"
   ]
  },
  {
   "cell_type": "markdown",
   "metadata": {},
   "source": [
    "순서를 정리해보자. 막대가 작은 것에서 커지는 방향으로 순서를 바꾸면 의미를 해석하기가 더 쉬울 수 있다. 이때 `reorder()` 함수를 사용한다. 입력값의 1번은 factor 데이터, 2번은 순서를 맞출 기준 데이터를 넣는다. 보통 y데이터를 넣어서 처리하면 된다."
   ]
  },
  {
   "cell_type": "code",
   "execution_count": 44,
   "metadata": {},
   "outputs": [],
   "source": [
    "g <- ggplot(BOD,aes(x=reorder(factor(Time),demand),y=demand))\n",
    "g <- g+geom_col()\n",
    "g <- g+labs(x='시간',y='수요')"
   ]
  },
  {
   "cell_type": "code",
   "execution_count": 45,
   "metadata": {},
   "outputs": [
    {
     "data": {
      "image/png": "[encoded data removed]",
      "text/plain": [
       "plot without title"
      ]
     },
     "metadata": {},
     "output_type": "display_data"
    }
   ],
   "source": [
    "print(g)"
   ]
  },
  {
   "cell_type": "markdown",
   "metadata": {},
   "source": [
    "이번에는 gcookbook 패키지의 cabbage_exp 데이터를 가져와보자."
   ]
  },
  {
   "cell_type": "code",
   "execution_count": 46,
   "metadata": {},
   "outputs": [],
   "source": [
    "data(cabbage_exp,package='gcookbook')"
   ]
  },
  {
   "cell_type": "markdown",
   "metadata": {},
   "source": [
    "원래 MASS라는 패키지에 포함된 데이터를 Chang이 손본 것이다. 양배추 성장 데이터다."
   ]
  },
  {
   "cell_type": "code",
   "execution_count": 47,
   "metadata": {},
   "outputs": [
    {
     "name": "stdout",
     "output_type": "stream",
     "text": [
      "'data.frame':\t6 obs. of  6 variables:\n",
      " $ Cultivar: Factor w/ 2 levels \"c39\",\"c52\": 1 1 1 2 2 2\n",
      " $ Date    : Factor w/ 3 levels \"d16\",\"d20\",\"d21\": 1 2 3 1 2 3\n",
      " $ Weight  : num  3.18 2.8 2.74 2.26 3.11 1.47\n",
      " $ sd      : num  0.957 0.279 0.983 0.445 0.791 ...\n",
      " $ n       : int  10 10 10 10 10 10\n",
      " $ se      : num  0.3025 0.0882 0.311 0.1408 0.2501 ...\n"
     ]
    }
   ],
   "source": [
    "str(cabbage_exp)"
   ]
  },
  {
   "cell_type": "markdown",
   "metadata": {},
   "source": [
    "Cultivar라는 factor에 대해(c39와 c52) 각각 그래프를 그려서 포개어(dodge) 놓고 싶다. `geom_col(position='dodge')`를 사용하면 된다. 이때 각각의 그래프를 그려서 구분하는 방법을 채움(fill)으로 했다. aes()안에 fill=Cultivar를 추가한다."
   ]
  },
  {
   "cell_type": "code",
   "execution_count": 48,
   "metadata": {},
   "outputs": [],
   "source": [
    "g <- ggplot(cabbage_exp,aes(x=Date,y=Weight,fill=Cultivar))\n",
    "g <- g+geom_col(position='dodge')"
   ]
  },
  {
   "cell_type": "code",
   "execution_count": 49,
   "metadata": {},
   "outputs": [
    {
     "data": {
      "image/png": "[encoded data removed]",
      "text/plain": [
       "plot without title"
      ]
     },
     "metadata": {},
     "output_type": "display_data"
    }
   ],
   "source": [
    "print(g)"
   ]
  },
  {
   "cell_type": "markdown",
   "metadata": {},
   "source": [
    "음수와 양수에 따라 각기 다른 색을 넣는 방법도 있다. 예를 위해 climate 데이터를 가져오자."
   ]
  },
  {
   "cell_type": "code",
   "execution_count": 50,
   "metadata": {},
   "outputs": [],
   "source": [
    "data(climate,package='gcookbook')"
   ]
  },
  {
   "cell_type": "code",
   "execution_count": 51,
   "metadata": {},
   "outputs": [
    {
     "name": "stdout",
     "output_type": "stream",
     "text": [
      "'data.frame':\t499 obs. of  6 variables:\n",
      " $ Source    : chr  \"Berkeley\" \"Berkeley\" \"Berkeley\" \"Berkeley\" ...\n",
      " $ Year      : num  1800 1801 1802 1803 1804 ...\n",
      " $ Anomaly1y : num  NA NA NA NA NA NA NA NA NA NA ...\n",
      " $ Anomaly5y : num  NA NA NA NA NA NA NA NA NA NA ...\n",
      " $ Anomaly10y: num  -0.435 -0.453 -0.46 -0.493 -0.536 -0.541 -0.59 -0.695 -0.763 -0.818 ...\n",
      " $ Unc10y    : num  0.505 0.493 0.486 0.489 0.483 0.475 0.468 0.461 0.453 0.451 ...\n"
     ]
    }
   ],
   "source": [
    "str(climate)"
   ]
  },
  {
   "cell_type": "markdown",
   "metadata": {},
   "source": [
    "비즈니스 데이터 분석 시간에는 tidyverse를 이용해서 다양한 data wrangling 방법을 익히게 된다. 아래는 Berkeley 소스에서 1900년 이상의 날짜를 걸러내고, Anomaly10y가 양수일 경우 positive에 TRUE, 그렇지 않으면 FALSE라고 하는 컬럼을 추가하여 climate_new라는 데이터로 만드는 모습을 보여준다."
   ]
  },
  {
   "cell_type": "code",
   "execution_count": 54,
   "metadata": {},
   "outputs": [],
   "source": [
    "climate_new <- climate%>%\n",
    "    filter(Source%in%c('Berkeley'))%>%\n",
    "    filter(Year>=1900)%>%\n",
    "    mutate(positive=Anomaly10y>=0)"
   ]
  },
  {
   "cell_type": "markdown",
   "metadata": {},
   "source": [
    "분포를 일단 `table()`로 살펴보자."
   ]
  },
  {
   "cell_type": "code",
   "execution_count": 55,
   "metadata": {},
   "outputs": [
    {
     "data": {
      "text/plain": [
       "\n",
       "FALSE  TRUE \n",
       "   47    58 "
      ]
     },
     "metadata": {},
     "output_type": "display_data"
    }
   ],
   "source": [
    "table(climate_new$positive)"
   ]
  },
  {
   "cell_type": "markdown",
   "metadata": {},
   "source": [
    "그래프를 그리는 방법은 다르지 않다. 역시 fill로 구분하자. 그런데 정확한 대응 위치를 잡기 위해(위 아래가 왔다갔다 하니까) geom_col(position='identity')라고 하자."
   ]
  },
  {
   "cell_type": "code",
   "execution_count": 56,
   "metadata": {},
   "outputs": [],
   "source": [
    "g <- ggplot(climate_new,aes(x=factor(Year),y=Anomaly10y,fill=positive))\n",
    "g <- g+geom_col(position='identity')"
   ]
  },
  {
   "cell_type": "code",
   "execution_count": 59,
   "metadata": {},
   "outputs": [
    {
     "data": {
      "image/png": "[encoded data removed]",
      "text/plain": [
       "plot without title"
      ]
     },
     "metadata": {},
     "output_type": "display_data"
    }
   ],
   "source": [
    "options(repr.plot.width=8)\n",
    "print(g)"
   ]
  },
  {
   "cell_type": "markdown",
   "metadata": {},
   "source": [
    "모양에 손을 좀 보면 훨씬 좋다. 외곽색을 검정으로 하고 색을 칠하는 펜의 크기를 0.25로 둔다."
   ]
  },
  {
   "cell_type": "code",
   "execution_count": 61,
   "metadata": {},
   "outputs": [
    {
     "data": {
      "image/png": "[encoded data removed]",
      "text/plain": [
       "plot without title"
      ]
     },
     "metadata": {},
     "output_type": "display_data"
    }
   ],
   "source": [
    "g <- ggplot(climate_new,aes(x=factor(Year),y=Anomaly10y,fill=positive))\n",
    "g <- g+geom_col(position='identity',color='black',size=0.25)\n",
    "print(g)"
   ]
  },
  {
   "cell_type": "markdown",
   "metadata": {},
   "source": [
    "R에서 사용할 수 있는 색상 조견표는 `color()`에 있다. 여기서 red라고 되어 있는 색상과 blue로 되어 있는 색상을 찾아서 원하는 것을 써보자."
   ]
  },
  {
   "cell_type": "code",
   "execution_count": 73,
   "metadata": {
    "scrolled": false
   },
   "outputs": [
    {
     "data": {
      "text/html": [
       "<ol class=list-inline>\n",
       "\t<li>'darkred'</li>\n",
       "\t<li>'indianred'</li>\n",
       "\t<li>'indianred1'</li>\n",
       "\t<li>'indianred2'</li>\n",
       "\t<li>'indianred3'</li>\n",
       "\t<li>'indianred4'</li>\n",
       "\t<li>'mediumvioletred'</li>\n",
       "\t<li>'orangered'</li>\n",
       "\t<li>'orangered1'</li>\n",
       "\t<li>'orangered2'</li>\n",
       "\t<li>'orangered3'</li>\n",
       "\t<li>'orangered4'</li>\n",
       "\t<li>'palevioletred'</li>\n",
       "\t<li>'palevioletred1'</li>\n",
       "\t<li>'palevioletred2'</li>\n",
       "\t<li>'palevioletred3'</li>\n",
       "\t<li>'palevioletred4'</li>\n",
       "\t<li>'red'</li>\n",
       "\t<li>'red1'</li>\n",
       "\t<li>'red2'</li>\n",
       "\t<li>'red3'</li>\n",
       "\t<li>'red4'</li>\n",
       "\t<li>'violetred'</li>\n",
       "\t<li>'violetred1'</li>\n",
       "\t<li>'violetred2'</li>\n",
       "\t<li>'violetred3'</li>\n",
       "\t<li>'violetred4'</li>\n",
       "</ol>\n"
      ],
      "text/latex": [
       "\\begin{enumerate*}\n",
       "\\item 'darkred'\n",
       "\\item 'indianred'\n",
       "\\item 'indianred1'\n",
       "\\item 'indianred2'\n",
       "\\item 'indianred3'\n",
       "\\item 'indianred4'\n",
       "\\item 'mediumvioletred'\n",
       "\\item 'orangered'\n",
       "\\item 'orangered1'\n",
       "\\item 'orangered2'\n",
       "\\item 'orangered3'\n",
       "\\item 'orangered4'\n",
       "\\item 'palevioletred'\n",
       "\\item 'palevioletred1'\n",
       "\\item 'palevioletred2'\n",
       "\\item 'palevioletred3'\n",
       "\\item 'palevioletred4'\n",
       "\\item 'red'\n",
       "\\item 'red1'\n",
       "\\item 'red2'\n",
       "\\item 'red3'\n",
       "\\item 'red4'\n",
       "\\item 'violetred'\n",
       "\\item 'violetred1'\n",
       "\\item 'violetred2'\n",
       "\\item 'violetred3'\n",
       "\\item 'violetred4'\n",
       "\\end{enumerate*}\n"
      ],
      "text/markdown": [
       "1. 'darkred'\n",
       "2. 'indianred'\n",
       "3. 'indianred1'\n",
       "4. 'indianred2'\n",
       "5. 'indianred3'\n",
       "6. 'indianred4'\n",
       "7. 'mediumvioletred'\n",
       "8. 'orangered'\n",
       "9. 'orangered1'\n",
       "10. 'orangered2'\n",
       "11. 'orangered3'\n",
       "12. 'orangered4'\n",
       "13. 'palevioletred'\n",
       "14. 'palevioletred1'\n",
       "15. 'palevioletred2'\n",
       "16. 'palevioletred3'\n",
       "17. 'palevioletred4'\n",
       "18. 'red'\n",
       "19. 'red1'\n",
       "20. 'red2'\n",
       "21. 'red3'\n",
       "22. 'red4'\n",
       "23. 'violetred'\n",
       "24. 'violetred1'\n",
       "25. 'violetred2'\n",
       "26. 'violetred3'\n",
       "27. 'violetred4'\n",
       "\n",
       "\n"
      ],
      "text/plain": [
       " [1] \"darkred\"         \"indianred\"       \"indianred1\"      \"indianred2\"     \n",
       " [5] \"indianred3\"      \"indianred4\"      \"mediumvioletred\" \"orangered\"      \n",
       " [9] \"orangered1\"      \"orangered2\"      \"orangered3\"      \"orangered4\"     \n",
       "[13] \"palevioletred\"   \"palevioletred1\"  \"palevioletred2\"  \"palevioletred3\" \n",
       "[17] \"palevioletred4\"  \"red\"             \"red1\"            \"red2\"           \n",
       "[21] \"red3\"            \"red4\"            \"violetred\"       \"violetred1\"     \n",
       "[25] \"violetred2\"      \"violetred3\"      \"violetred4\"     "
      ]
     },
     "metadata": {},
     "output_type": "display_data"
    }
   ],
   "source": [
    "colors()[colors()%>%str_detect('red')]"
   ]
  },
  {
   "cell_type": "code",
   "execution_count": 74,
   "metadata": {},
   "outputs": [
    {
     "data": {
      "text/html": [
       "<ol class=list-inline>\n",
       "\t<li>'aliceblue'</li>\n",
       "\t<li>'blue'</li>\n",
       "\t<li>'blue1'</li>\n",
       "\t<li>'blue2'</li>\n",
       "\t<li>'blue3'</li>\n",
       "\t<li>'blue4'</li>\n",
       "\t<li>'blueviolet'</li>\n",
       "\t<li>'cadetblue'</li>\n",
       "\t<li>'cadetblue1'</li>\n",
       "\t<li>'cadetblue2'</li>\n",
       "\t<li>'cadetblue3'</li>\n",
       "\t<li>'cadetblue4'</li>\n",
       "\t<li>'cornflowerblue'</li>\n",
       "\t<li>'darkblue'</li>\n",
       "\t<li>'darkslateblue'</li>\n",
       "\t<li>'deepskyblue'</li>\n",
       "\t<li>'deepskyblue1'</li>\n",
       "\t<li>'deepskyblue2'</li>\n",
       "\t<li>'deepskyblue3'</li>\n",
       "\t<li>'deepskyblue4'</li>\n",
       "\t<li>'dodgerblue'</li>\n",
       "\t<li>'dodgerblue1'</li>\n",
       "\t<li>'dodgerblue2'</li>\n",
       "\t<li>'dodgerblue3'</li>\n",
       "\t<li>'dodgerblue4'</li>\n",
       "\t<li>'lightblue'</li>\n",
       "\t<li>'lightblue1'</li>\n",
       "\t<li>'lightblue2'</li>\n",
       "\t<li>'lightblue3'</li>\n",
       "\t<li>'lightblue4'</li>\n",
       "\t<li>'lightskyblue'</li>\n",
       "\t<li>'lightskyblue1'</li>\n",
       "\t<li>'lightskyblue2'</li>\n",
       "\t<li>'lightskyblue3'</li>\n",
       "\t<li>'lightskyblue4'</li>\n",
       "\t<li>'lightslateblue'</li>\n",
       "\t<li>'lightsteelblue'</li>\n",
       "\t<li>'lightsteelblue1'</li>\n",
       "\t<li>'lightsteelblue2'</li>\n",
       "\t<li>'lightsteelblue3'</li>\n",
       "\t<li>'lightsteelblue4'</li>\n",
       "\t<li>'mediumblue'</li>\n",
       "\t<li>'mediumslateblue'</li>\n",
       "\t<li>'midnightblue'</li>\n",
       "\t<li>'navyblue'</li>\n",
       "\t<li>'powderblue'</li>\n",
       "\t<li>'royalblue'</li>\n",
       "\t<li>'royalblue1'</li>\n",
       "\t<li>'royalblue2'</li>\n",
       "\t<li>'royalblue3'</li>\n",
       "\t<li>'royalblue4'</li>\n",
       "\t<li>'skyblue'</li>\n",
       "\t<li>'skyblue1'</li>\n",
       "\t<li>'skyblue2'</li>\n",
       "\t<li>'skyblue3'</li>\n",
       "\t<li>'skyblue4'</li>\n",
       "\t<li>'slateblue'</li>\n",
       "\t<li>'slateblue1'</li>\n",
       "\t<li>'slateblue2'</li>\n",
       "\t<li>'slateblue3'</li>\n",
       "\t<li>'slateblue4'</li>\n",
       "\t<li>'steelblue'</li>\n",
       "\t<li>'steelblue1'</li>\n",
       "\t<li>'steelblue2'</li>\n",
       "\t<li>'steelblue3'</li>\n",
       "\t<li>'steelblue4'</li>\n",
       "</ol>\n"
      ],
      "text/latex": [
       "\\begin{enumerate*}\n",
       "\\item 'aliceblue'\n",
       "\\item 'blue'\n",
       "\\item 'blue1'\n",
       "\\item 'blue2'\n",
       "\\item 'blue3'\n",
       "\\item 'blue4'\n",
       "\\item 'blueviolet'\n",
       "\\item 'cadetblue'\n",
       "\\item 'cadetblue1'\n",
       "\\item 'cadetblue2'\n",
       "\\item 'cadetblue3'\n",
       "\\item 'cadetblue4'\n",
       "\\item 'cornflowerblue'\n",
       "\\item 'darkblue'\n",
       "\\item 'darkslateblue'\n",
       "\\item 'deepskyblue'\n",
       "\\item 'deepskyblue1'\n",
       "\\item 'deepskyblue2'\n",
       "\\item 'deepskyblue3'\n",
       "\\item 'deepskyblue4'\n",
       "\\item 'dodgerblue'\n",
       "\\item 'dodgerblue1'\n",
       "\\item 'dodgerblue2'\n",
       "\\item 'dodgerblue3'\n",
       "\\item 'dodgerblue4'\n",
       "\\item 'lightblue'\n",
       "\\item 'lightblue1'\n",
       "\\item 'lightblue2'\n",
       "\\item 'lightblue3'\n",
       "\\item 'lightblue4'\n",
       "\\item 'lightskyblue'\n",
       "\\item 'lightskyblue1'\n",
       "\\item 'lightskyblue2'\n",
       "\\item 'lightskyblue3'\n",
       "\\item 'lightskyblue4'\n",
       "\\item 'lightslateblue'\n",
       "\\item 'lightsteelblue'\n",
       "\\item 'lightsteelblue1'\n",
       "\\item 'lightsteelblue2'\n",
       "\\item 'lightsteelblue3'\n",
       "\\item 'lightsteelblue4'\n",
       "\\item 'mediumblue'\n",
       "\\item 'mediumslateblue'\n",
       "\\item 'midnightblue'\n",
       "\\item 'navyblue'\n",
       "\\item 'powderblue'\n",
       "\\item 'royalblue'\n",
       "\\item 'royalblue1'\n",
       "\\item 'royalblue2'\n",
       "\\item 'royalblue3'\n",
       "\\item 'royalblue4'\n",
       "\\item 'skyblue'\n",
       "\\item 'skyblue1'\n",
       "\\item 'skyblue2'\n",
       "\\item 'skyblue3'\n",
       "\\item 'skyblue4'\n",
       "\\item 'slateblue'\n",
       "\\item 'slateblue1'\n",
       "\\item 'slateblue2'\n",
       "\\item 'slateblue3'\n",
       "\\item 'slateblue4'\n",
       "\\item 'steelblue'\n",
       "\\item 'steelblue1'\n",
       "\\item 'steelblue2'\n",
       "\\item 'steelblue3'\n",
       "\\item 'steelblue4'\n",
       "\\end{enumerate*}\n"
      ],
      "text/markdown": [
       "1. 'aliceblue'\n",
       "2. 'blue'\n",
       "3. 'blue1'\n",
       "4. 'blue2'\n",
       "5. 'blue3'\n",
       "6. 'blue4'\n",
       "7. 'blueviolet'\n",
       "8. 'cadetblue'\n",
       "9. 'cadetblue1'\n",
       "10. 'cadetblue2'\n",
       "11. 'cadetblue3'\n",
       "12. 'cadetblue4'\n",
       "13. 'cornflowerblue'\n",
       "14. 'darkblue'\n",
       "15. 'darkslateblue'\n",
       "16. 'deepskyblue'\n",
       "17. 'deepskyblue1'\n",
       "18. 'deepskyblue2'\n",
       "19. 'deepskyblue3'\n",
       "20. 'deepskyblue4'\n",
       "21. 'dodgerblue'\n",
       "22. 'dodgerblue1'\n",
       "23. 'dodgerblue2'\n",
       "24. 'dodgerblue3'\n",
       "25. 'dodgerblue4'\n",
       "26. 'lightblue'\n",
       "27. 'lightblue1'\n",
       "28. 'lightblue2'\n",
       "29. 'lightblue3'\n",
       "30. 'lightblue4'\n",
       "31. 'lightskyblue'\n",
       "32. 'lightskyblue1'\n",
       "33. 'lightskyblue2'\n",
       "34. 'lightskyblue3'\n",
       "35. 'lightskyblue4'\n",
       "36. 'lightslateblue'\n",
       "37. 'lightsteelblue'\n",
       "38. 'lightsteelblue1'\n",
       "39. 'lightsteelblue2'\n",
       "40. 'lightsteelblue3'\n",
       "41. 'lightsteelblue4'\n",
       "42. 'mediumblue'\n",
       "43. 'mediumslateblue'\n",
       "44. 'midnightblue'\n",
       "45. 'navyblue'\n",
       "46. 'powderblue'\n",
       "47. 'royalblue'\n",
       "48. 'royalblue1'\n",
       "49. 'royalblue2'\n",
       "50. 'royalblue3'\n",
       "51. 'royalblue4'\n",
       "52. 'skyblue'\n",
       "53. 'skyblue1'\n",
       "54. 'skyblue2'\n",
       "55. 'skyblue3'\n",
       "56. 'skyblue4'\n",
       "57. 'slateblue'\n",
       "58. 'slateblue1'\n",
       "59. 'slateblue2'\n",
       "60. 'slateblue3'\n",
       "61. 'slateblue4'\n",
       "62. 'steelblue'\n",
       "63. 'steelblue1'\n",
       "64. 'steelblue2'\n",
       "65. 'steelblue3'\n",
       "66. 'steelblue4'\n",
       "\n",
       "\n"
      ],
      "text/plain": [
       " [1] \"aliceblue\"       \"blue\"            \"blue1\"           \"blue2\"          \n",
       " [5] \"blue3\"           \"blue4\"           \"blueviolet\"      \"cadetblue\"      \n",
       " [9] \"cadetblue1\"      \"cadetblue2\"      \"cadetblue3\"      \"cadetblue4\"     \n",
       "[13] \"cornflowerblue\"  \"darkblue\"        \"darkslateblue\"   \"deepskyblue\"    \n",
       "[17] \"deepskyblue1\"    \"deepskyblue2\"    \"deepskyblue3\"    \"deepskyblue4\"   \n",
       "[21] \"dodgerblue\"      \"dodgerblue1\"     \"dodgerblue2\"     \"dodgerblue3\"    \n",
       "[25] \"dodgerblue4\"     \"lightblue\"       \"lightblue1\"      \"lightblue2\"     \n",
       "[29] \"lightblue3\"      \"lightblue4\"      \"lightskyblue\"    \"lightskyblue1\"  \n",
       "[33] \"lightskyblue2\"   \"lightskyblue3\"   \"lightskyblue4\"   \"lightslateblue\" \n",
       "[37] \"lightsteelblue\"  \"lightsteelblue1\" \"lightsteelblue2\" \"lightsteelblue3\"\n",
       "[41] \"lightsteelblue4\" \"mediumblue\"      \"mediumslateblue\" \"midnightblue\"   \n",
       "[45] \"navyblue\"        \"powderblue\"      \"royalblue\"       \"royalblue1\"     \n",
       "[49] \"royalblue2\"      \"royalblue3\"      \"royalblue4\"      \"skyblue\"        \n",
       "[53] \"skyblue1\"        \"skyblue2\"        \"skyblue3\"        \"skyblue4\"       \n",
       "[57] \"slateblue\"       \"slateblue1\"      \"slateblue2\"      \"slateblue3\"     \n",
       "[61] \"slateblue4\"      \"steelblue\"       \"steelblue1\"      \"steelblue2\"     \n",
       "[65] \"steelblue3\"      \"steelblue4\"     "
      ]
     },
     "metadata": {},
     "output_type": "display_data"
    }
   ],
   "source": [
    "colors()[colors()%>%str_detect('blue')]"
   ]
  },
  {
   "cell_type": "code",
   "execution_count": 76,
   "metadata": {
    "scrolled": true
   },
   "outputs": [
    {
     "data": {
      "image/png": "[encoded data removed]",
      "text/plain": [
       "plot without title"
      ]
     },
     "metadata": {},
     "output_type": "display_data"
    }
   ],
   "source": [
    "g <- ggplot(climate_new,aes(x=factor(Year),y=Anomaly10y,fill=positive))\n",
    "g <- g+geom_col(position='identity',color='black',size=0.25)\n",
    "g <- g+scale_fill_manual(values=c('orangered','lightblue'))\n",
    "g <- g+labs(fill='Is anomaly?')\n",
    "print(g)"
   ]
  },
  {
   "cell_type": "markdown",
   "metadata": {},
   "source": [
    "geom_col()에 라벨을 붙이려면 `geom_text()`를 사용한다. 이 함수의 aes()안에 label= 이라고 해서 붙일 값을 지정하면 된다. 흔히 y값으로 지정한 데이터가 label=에 붙는다. 라벨 텍스트의 색상도 color로 정해주자."
   ]
  },
  {
   "cell_type": "code",
   "execution_count": 81,
   "metadata": {},
   "outputs": [
    {
     "data": {
      "image/png": "[encoded data removed]",
      "text/plain": [
       "plot without title"
      ]
     },
     "metadata": {},
     "output_type": "display_data"
    }
   ],
   "source": [
    "options(repr.plot.width=4)\n",
    "g <- ggplot(cabbage_exp,aes(x=interaction(Date,Cultivar),y=Weight))\n",
    "g <- g+geom_col()\n",
    "g <- g+geom_text(aes(label=Weight),color='black')\n",
    "print(g)"
   ]
  },
  {
   "cell_type": "markdown",
   "metadata": {},
   "source": [
    "라벨의 수직 위치를 조절하려면 vjust를 쓰면 된다. 아래 예를 통해 그 차이를 보자."
   ]
  },
  {
   "cell_type": "code",
   "execution_count": 82,
   "metadata": {
    "scrolled": true
   },
   "outputs": [
    {
     "data": {
      "image/png": "[encoded data removed]",
      "text/plain": [
       "plot without title"
      ]
     },
     "metadata": {},
     "output_type": "display_data"
    }
   ],
   "source": [
    "options(repr.plot.width=4)\n",
    "g <- ggplot(cabbage_exp,aes(x=interaction(Date,Cultivar),y=Weight))\n",
    "g <- g+geom_col()\n",
    "g <- g+geom_text(aes(label=Weight),vjust=0,color='black')\n",
    "print(g)"
   ]
  },
  {
   "cell_type": "code",
   "execution_count": 83,
   "metadata": {
    "scrolled": true
   },
   "outputs": [
    {
     "data": {
      "image/png": "[encoded data removed]",
      "text/plain": [
       "plot without title"
      ]
     },
     "metadata": {},
     "output_type": "display_data"
    }
   ],
   "source": [
    "options(repr.plot.width=4)\n",
    "g <- ggplot(cabbage_exp,aes(x=interaction(Date,Cultivar),y=Weight))\n",
    "g <- g+geom_col()\n",
    "g <- g+geom_text(aes(label=Weight),vjust=1,color='black')\n",
    "print(g)"
   ]
  },
  {
   "cell_type": "code",
   "execution_count": 84,
   "metadata": {
    "scrolled": true
   },
   "outputs": [
    {
     "data": {
      "image/png": "[encoded data removed]",
      "text/plain": [
       "plot without title"
      ]
     },
     "metadata": {},
     "output_type": "display_data"
    }
   ],
   "source": [
    "options(repr.plot.width=4)\n",
    "g <- ggplot(cabbage_exp,aes(x=interaction(Date,Cultivar),y=Weight))\n",
    "g <- g+geom_col()\n",
    "g <- g+geom_text(aes(label=Weight),vjust=-1,color='black')\n",
    "print(g)"
   ]
  },
  {
   "cell_type": "markdown",
   "metadata": {},
   "source": [
    "일부 라벨이 보이지 않는다. 이를 수정하려면 그래프의 y 영역을 키우면 된다. `scale_y_continuous(limits=c(,))`를 걸어서 해결하자."
   ]
  },
  {
   "cell_type": "code",
   "execution_count": 87,
   "metadata": {
    "scrolled": true
   },
   "outputs": [
    {
     "data": {
      "image/png": "[encoded data removed]",
      "text/plain": [
       "plot without title"
      ]
     },
     "metadata": {},
     "output_type": "display_data"
    }
   ],
   "source": [
    "options(repr.plot.width=4)\n",
    "g <- ggplot(cabbage_exp,aes(x=interaction(Date,Cultivar),y=Weight))\n",
    "g <- g+scale_y_continuous(limits = c(0,5))\n",
    "g <- g+geom_col()\n",
    "g <- g+geom_text(aes(label=Weight),vjust=-1,color='black')\n",
    "print(g)"
   ]
  }
 ],
 "metadata": {
  "kernelspec": {
   "display_name": "R",
   "language": "R",
   "name": "ir"
  },
  "language_info": {
   "codemirror_mode": "r",
   "file_extension": ".r",
   "mimetype": "text/x-r-source",
   "name": "R",
   "pygments_lexer": "r",
   "version": "3.6.1"
  }
 },
 "nbformat": 4,
 "nbformat_minor": 4
}
