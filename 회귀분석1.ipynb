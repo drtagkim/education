{
 "cells": [
  {
   "cell_type": "markdown",
   "metadata": {},
   "source": [
    "### 들어가는 말\n",
    "본 자료는 다음과 같은 책들을 참고로 하였습니다.\n",
    "\n",
    "* 우석진, \"경제 빅데이터 분석을 위한 R,\" (주)지필미디어. \n",
    "* 강병서 조철호, \"의사결정을 위한 현대통계학,\" 무역경영사.\n",
    "\n",
    "광운대학교 경영학부 부교수 김태경\n",
    "\n",
    "2020년 4월 29일"
   ]
  },
  {
   "cell_type": "markdown",
   "metadata": {},
   "source": [
    "# 중심 위치\n",
    "회귀 분석을 살펴보기 앞서 통계의 기본적인 개념들을 짚어보자.\n",
    "\n",
    "## 산술 평균\n",
    "통계 데이터는 여러 설명되지 않은 오류(혹은 확률적 상황)가 포함된다. 그렇기에 각각의 관측값이 다르고 이들 관측값의 다름을 보여주는 소위 '분포'라는 것도 생긴다. 그렇지만 이렇게 서로 다른 관측값을 모두 모아 어떤 하나의 값으로 대표되는 그런 것을 만들 수 없을까? 즉, 집단을 대표하는 값 하나는 없는가? 중심이란 그런 대표값을 뜻한다.\n",
    "\n",
    "산술 평균은 중심 위치의 대표 주자다. 간단히 평균(mean, average)라고 한다. 확률적 특성을 보다 강조해서 기대값(expected value: EV)이라고도 한다. 쓰임이 많은 만큼 이름도 다양하다.\n",
    "\n",
    "### 모집단 평균\n",
    "우리고 모든 값이 포함된 모집단(모든 것의 집단, 뭐 이렇게 생각하자)을 알고 있고, 그 크기가 N개로 유한하다면, 다음과 같이 산술 평균을 계산할 수 있다.\n",
    "\n",
    "$$ \\mu=\\frac{1}{N}\\left( X_1+X_2+X_3+\\cdots+X_{N-1}+X_N \\right) $$\n",
    "\n",
    "줄여서 쓰면\n",
    "\n",
    "$$ \\mu=\\frac{1}{N}\\sum_{i=1}^{N}X_{i} $$"
   ]
  },
  {
   "cell_type": "markdown",
   "metadata": {},
   "source": [
    "## 가중평균\n",
    "산술 평균은 중심점을 구할 때 모든 관측치를 동일하게 본다. 만약 관측치에 대해서 다른 평가를 내려야 하면 어떻게 할까? 가령 3번의 시험을 보았을 때 1차 2차의 비중을 20%로 3차의 비중을 60%로 둔다면? 이렇게 가중치가 있는 경우에는 가중합을 이용한 평균계산을 해야 한다. \n",
    "\n",
    "모든 가중치의 합이 1이 되면 가중치는 확률의 개념과 같아진다. 그렇다면 각각의 값들에 확률값을 곱해서 합한 것과 평균이 같아지고, 각각의 값을 해당 경우의 확률적인 기대 승산(expected value)이 된다. 따라서 기대값을 평균과 같은 개념으로 볼 수 있다.\n",
    "\n",
    "$$ \\overline{X}_{w}=\\frac{\\sum_{i=1}^{n}w_{i}X_{i}}{\\sum_{i=1}^{n}w_{i}} $$"
   ]
  },
  {
   "cell_type": "code",
   "execution_count": 2,
   "metadata": {},
   "outputs": [
    {
     "data": {
      "text/html": [
       "78"
      ],
      "text/latex": [
       "78"
      ],
      "text/markdown": [
       "78"
      ],
      "text/plain": [
       "[1] 78"
      ]
     },
     "metadata": {},
     "output_type": "display_data"
    }
   ],
   "source": [
    "#6명의 평균을 구해보자.\n",
    "score=c(85,95,78,76,60,74)\n",
    "my_mean=function(my_data) {\n",
    "    n=length(score) #관측값의 개수\n",
    "    s=sum(score) #sigma\n",
    "    return(s/n)\n",
    "}\n",
    "my_mean(score)"
   ]
  },
  {
   "cell_type": "markdown",
   "metadata": {},
   "source": [
    "R에서 산술 평균 함수를 정의했다. 함수의 정의는 `함수이름=function(파라미터,...)`로 간단하게 할 수 있고, 함수의 코드는 {와 }로 묶는다. 계산한 다음에 반환하는 값을 return()안에 넣었다. 하지만 더 간단히 R이 제공하는 mean()함수를 사용할 수 있다."
   ]
  },
  {
   "cell_type": "code",
   "execution_count": 3,
   "metadata": {},
   "outputs": [
    {
     "data": {
      "text/html": [
       "78"
      ],
      "text/latex": [
       "78"
      ],
      "text/markdown": [
       "78"
      ],
      "text/plain": [
       "[1] 78"
      ]
     },
     "metadata": {},
     "output_type": "display_data"
    }
   ],
   "source": [
    "mean(score)"
   ]
  },
  {
   "cell_type": "markdown",
   "metadata": {},
   "source": [
    "R의 할당(<-) 기호 대신에 C코드의 할당 기호인 =를 사용할 수 있다. 따라서\n",
    "```{r}\n",
    "score=c(85,95,78,76,60,74)\n",
    "score<-c(85,95,78,76,60,74)\n",
    "```\n",
    "둘은 같다."
   ]
  },
  {
   "cell_type": "markdown",
   "metadata": {},
   "source": [
    "### 문제\n",
    "다음은 통계학을 수강하는  A, B, C 반의 수강생 수와 평균 점수이다. 전체 평균은 얼마인가?\n",
    "\n",
    "|반|수강생(명)|반평균(점수)|\n",
    "|---|---|---|\n",
    "|A|40|75|\n",
    "|B|50|73|\n",
    "|C|20|80|\n",
    "\n"
   ]
  },
  {
   "cell_type": "code",
   "execution_count": 4,
   "metadata": {},
   "outputs": [
    {
     "name": "stdout",
     "output_type": "stream",
     "text": [
      "'data.frame':\t3 obs. of  3 variables:\n",
      " $ class     : Factor w/ 3 levels \"A\",\"B\",\"C\": 1 2 3\n",
      " $ students  : num  40 50 20\n",
      " $ mean_score: num  75 73 80\n"
     ]
    }
   ],
   "source": [
    "my_data <- data.frame(\n",
    "    class=c('A','B','C'),\n",
    "    students=c(40,50,20),\n",
    "    mean_score=c(75,73,80)\n",
    ")\n",
    "str(my_data)"
   ]
  },
  {
   "cell_type": "code",
   "execution_count": 6,
   "metadata": {},
   "outputs": [
    {
     "data": {
      "text/html": [
       "<table>\n",
       "<thead><tr><th scope=col>class</th><th scope=col>students</th><th scope=col>mean_score</th></tr></thead>\n",
       "<tbody>\n",
       "\t<tr><td>A </td><td>40</td><td>75</td></tr>\n",
       "\t<tr><td>B </td><td>50</td><td>73</td></tr>\n",
       "\t<tr><td>C </td><td>20</td><td>80</td></tr>\n",
       "</tbody>\n",
       "</table>\n"
      ],
      "text/latex": [
       "\\begin{tabular}{r|lll}\n",
       " class & students & mean\\_score\\\\\n",
       "\\hline\n",
       "\t A  & 40 & 75\\\\\n",
       "\t B  & 50 & 73\\\\\n",
       "\t C  & 20 & 80\\\\\n",
       "\\end{tabular}\n"
      ],
      "text/markdown": [
       "\n",
       "| class | students | mean_score |\n",
       "|---|---|---|\n",
       "| A  | 40 | 75 |\n",
       "| B  | 50 | 73 |\n",
       "| C  | 20 | 80 |\n",
       "\n"
      ],
      "text/plain": [
       "  class students mean_score\n",
       "1 A     40       75        \n",
       "2 B     50       73        \n",
       "3 C     20       80        "
      ]
     },
     "metadata": {},
     "output_type": "display_data"
    }
   ],
   "source": [
    "my_data"
   ]
  },
  {
   "cell_type": "markdown",
   "metadata": {},
   "source": [
    "반 평균을 이미 알고 있어서 평균을 기준으로 각 반의 기대 승산을 구하여 합하면 된다. 따라서 students의 수를 가중치로 하는 벡터를 하나 계산하고 mean_score와 곱해서 합하는 가중 평균 계산을 수행하자."
   ]
  },
  {
   "cell_type": "code",
   "execution_count": 7,
   "metadata": {},
   "outputs": [
    {
     "data": {
      "text/html": [
       "<ol class=list-inline>\n",
       "\t<li>0.363636363636364</li>\n",
       "\t<li>0.454545454545455</li>\n",
       "\t<li>0.181818181818182</li>\n",
       "</ol>\n"
      ],
      "text/latex": [
       "\\begin{enumerate*}\n",
       "\\item 0.363636363636364\n",
       "\\item 0.454545454545455\n",
       "\\item 0.181818181818182\n",
       "\\end{enumerate*}\n"
      ],
      "text/markdown": [
       "1. 0.363636363636364\n",
       "2. 0.454545454545455\n",
       "3. 0.181818181818182\n",
       "\n",
       "\n"
      ],
      "text/plain": [
       "[1] 0.3636364 0.4545455 0.1818182"
      ]
     },
     "metadata": {},
     "output_type": "display_data"
    }
   ],
   "source": [
    "점수확률 <- my_data$students/sum(my_data$students)\n",
    "점수확률"
   ]
  },
  {
   "cell_type": "code",
   "execution_count": 8,
   "metadata": {},
   "outputs": [
    {
     "data": {
      "text/html": [
       "1"
      ],
      "text/latex": [
       "1"
      ],
      "text/markdown": [
       "1"
      ],
      "text/plain": [
       "[1] 1"
      ]
     },
     "metadata": {},
     "output_type": "display_data"
    }
   ],
   "source": [
    "sum(점수확률)"
   ]
  },
  {
   "cell_type": "code",
   "execution_count": 11,
   "metadata": {},
   "outputs": [],
   "source": [
    "전체평균기대값=sum(점수확률 * my_data$mean_score)"
   ]
  },
  {
   "cell_type": "code",
   "execution_count": 12,
   "metadata": {
    "scrolled": true
   },
   "outputs": [
    {
     "name": "stdout",
     "output_type": "stream",
     "text": [
      "전체 평균은 75 이다. \n"
     ]
    }
   ],
   "source": [
    "cat(\"전체 평균은\",전체평균기대값,\"이다.\",\"\\n\")"
   ]
  },
  {
   "cell_type": "markdown",
   "metadata": {},
   "source": [
    "## 산포\n",
    "산포는 자료가 흩어져 있는 정도를 말한다. 이를 측정하기 위해 분산(variance)와 분산의 루트 값인 표준편차(standard deviation)이 사용된다."
   ]
  },
  {
   "cell_type": "markdown",
   "metadata": {},
   "source": [
    "예를 통해 분산의 의미를 알아보자."
   ]
  },
  {
   "cell_type": "code",
   "execution_count": 31,
   "metadata": {},
   "outputs": [],
   "source": [
    "score1=rnorm(200,mean=50,sd=1)\n",
    "score2=rnorm(200,mean=50,sd=2)\n",
    "score3=rnorm(300,mean=50,sd=3)"
   ]
  },
  {
   "cell_type": "markdown",
   "metadata": {},
   "source": [
    "예를 위해 3개 반 점수를 정규분포 함수로 만들었다. 평균은 50, 표준편차는 각각 1,2,3이다. 정규분포의 값을 생성하는 함수는 `rnorm(변수 개수, 평균, 표준편차)`이다. "
   ]
  },
  {
   "cell_type": "code",
   "execution_count": 15,
   "metadata": {},
   "outputs": [],
   "source": [
    "suppressMessages(suppressWarnings({\n",
    "    library(ggplot2)\n",
    "    library(tidyverse)\n",
    "}))\n"
   ]
  },
  {
   "cell_type": "markdown",
   "metadata": {},
   "source": [
    "예를 위해서 ggplot2와 tidyverse 패키지를 불러 사용하자. 설치가 되지 않았다면 설치한다."
   ]
  },
  {
   "cell_type": "code",
   "execution_count": 16,
   "metadata": {},
   "outputs": [],
   "source": [
    "my_score=bind_rows(\n",
    "    tibble(class='A',score=score1),\n",
    "    tibble(class='B',score=score2),\n",
    "    tibble(class='C',score=score3)\n",
    ")"
   ]
  },
  {
   "cell_type": "markdown",
   "metadata": {},
   "source": [
    "각 클래스를 합쳐서 전체 점수가 포함된 데이터를 생성한다. 점수 객체를 tibble()로 하는 세 개의 데이터 객체를 만들고 (각각 A, B, C반의 점수), 이를 `bind_rows()`함수로 합쳤다.\n",
    "\n",
    "구조를 str()함수로 살펴보고, 몇 개의 변수 값을 head()로 확인하자."
   ]
  },
  {
   "cell_type": "code",
   "execution_count": 17,
   "metadata": {},
   "outputs": [
    {
     "name": "stdout",
     "output_type": "stream",
     "text": [
      "Classes 'tbl_df', 'tbl' and 'data.frame':\t700 obs. of  2 variables:\n",
      " $ class: chr  \"A\" \"A\" \"A\" \"A\" ...\n",
      " $ score: num  50.6 49.4 51.1 50.2 50.7 ...\n"
     ]
    }
   ],
   "source": [
    "str(my_score)"
   ]
  },
  {
   "cell_type": "code",
   "execution_count": 19,
   "metadata": {},
   "outputs": [
    {
     "data": {
      "text/html": [
       "<table>\n",
       "<thead><tr><th scope=col>class</th><th scope=col>score</th></tr></thead>\n",
       "<tbody>\n",
       "\t<tr><td>A       </td><td>50.59233</td></tr>\n",
       "\t<tr><td>A       </td><td>49.37197</td></tr>\n",
       "\t<tr><td>A       </td><td>51.14963</td></tr>\n",
       "\t<tr><td>A       </td><td>50.15445</td></tr>\n",
       "\t<tr><td>A       </td><td>50.73286</td></tr>\n",
       "</tbody>\n",
       "</table>\n"
      ],
      "text/latex": [
       "\\begin{tabular}{r|ll}\n",
       " class & score\\\\\n",
       "\\hline\n",
       "\t A        & 50.59233\\\\\n",
       "\t A        & 49.37197\\\\\n",
       "\t A        & 51.14963\\\\\n",
       "\t A        & 50.15445\\\\\n",
       "\t A        & 50.73286\\\\\n",
       "\\end{tabular}\n"
      ],
      "text/markdown": [
       "\n",
       "| class | score |\n",
       "|---|---|\n",
       "| A        | 50.59233 |\n",
       "| A        | 49.37197 |\n",
       "| A        | 51.14963 |\n",
       "| A        | 50.15445 |\n",
       "| A        | 50.73286 |\n",
       "\n"
      ],
      "text/plain": [
       "  class score   \n",
       "1 A     50.59233\n",
       "2 A     49.37197\n",
       "3 A     51.14963\n",
       "4 A     50.15445\n",
       "5 A     50.73286"
      ]
     },
     "metadata": {},
     "output_type": "display_data"
    }
   ],
   "source": [
    "head(my_score,5)"
   ]
  },
  {
   "cell_type": "markdown",
   "metadata": {},
   "source": [
    "tidyverse로 데이터를 요약한 다음 평균과 표준편차를 각 반에 대해서 구해보자. 내용을 잘 이해하지 못해도 괜찮다. 수업 중에 열심히 배우게 될 것이다."
   ]
  },
  {
   "cell_type": "code",
   "execution_count": 22,
   "metadata": {
    "scrolled": true
   },
   "outputs": [
    {
     "data": {
      "text/html": [
       "<table>\n",
       "<thead><tr><th scope=col>class</th><th scope=col>mean_score</th></tr></thead>\n",
       "<tbody>\n",
       "\t<tr><td>A </td><td>50</td></tr>\n",
       "\t<tr><td>B </td><td>50</td></tr>\n",
       "\t<tr><td>C </td><td>50</td></tr>\n",
       "</tbody>\n",
       "</table>\n"
      ],
      "text/latex": [
       "\\begin{tabular}{r|ll}\n",
       " class & mean\\_score\\\\\n",
       "\\hline\n",
       "\t A  & 50\\\\\n",
       "\t B  & 50\\\\\n",
       "\t C  & 50\\\\\n",
       "\\end{tabular}\n"
      ],
      "text/markdown": [
       "\n",
       "| class | mean_score |\n",
       "|---|---|\n",
       "| A  | 50 |\n",
       "| B  | 50 |\n",
       "| C  | 50 |\n",
       "\n"
      ],
      "text/plain": [
       "  class mean_score\n",
       "1 A     50        \n",
       "2 B     50        \n",
       "3 C     50        "
      ]
     },
     "metadata": {},
     "output_type": "display_data"
    }
   ],
   "source": [
    "my_score %>% group_by(class) %>% summarise(mean_score=round(mean(score))) %>% ungroup()"
   ]
  },
  {
   "cell_type": "code",
   "execution_count": 23,
   "metadata": {
    "scrolled": true
   },
   "outputs": [
    {
     "data": {
      "text/html": [
       "<table>\n",
       "<thead><tr><th scope=col>class</th><th scope=col>standard_deviation</th></tr></thead>\n",
       "<tbody>\n",
       "\t<tr><td>A</td><td>1</td></tr>\n",
       "\t<tr><td>B</td><td>2</td></tr>\n",
       "\t<tr><td>C</td><td>3</td></tr>\n",
       "</tbody>\n",
       "</table>\n"
      ],
      "text/latex": [
       "\\begin{tabular}{r|ll}\n",
       " class & standard\\_deviation\\\\\n",
       "\\hline\n",
       "\t A & 1\\\\\n",
       "\t B & 2\\\\\n",
       "\t C & 3\\\\\n",
       "\\end{tabular}\n"
      ],
      "text/markdown": [
       "\n",
       "| class | standard_deviation |\n",
       "|---|---|\n",
       "| A | 1 |\n",
       "| B | 2 |\n",
       "| C | 3 |\n",
       "\n"
      ],
      "text/plain": [
       "  class standard_deviation\n",
       "1 A     1                 \n",
       "2 B     2                 \n",
       "3 C     3                 "
      ]
     },
     "metadata": {},
     "output_type": "display_data"
    }
   ],
   "source": [
    "my_score %>% group_by(class) %>% summarise(standard_deviation=round(sd(score))) %>% ungroup()"
   ]
  },
  {
   "cell_type": "markdown",
   "metadata": {},
   "source": [
    "결과를 보면 각각의 평균은 모두 50이고, 표준편차는 1,2,3으로 차이가 난다. 표준편차의 차이가 무슨 뜻인지를 이해하자는 것이 핵심이다."
   ]
  },
  {
   "cell_type": "code",
   "execution_count": 45,
   "metadata": {
    "scrolled": true
   },
   "outputs": [
    {
     "data": {
      "image/png": "[encoded data removed]",
      "text/plain": [
       "plot without title"
      ]
     },
     "metadata": {},
     "output_type": "display_data"
    }
   ],
   "source": [
    "options(repr.plot.width=4,repr.plot.height=2)\n",
    "g <- ggplot(my_score,aes(x=score))\n",
    "g <- g+geom_histogram(aes(y=..density..),alpha=0.3,color='black',bins=50,fill='black')+geom_density(alpha=0.2,color='red')\n",
    "g <- g+facet_grid(.~class)\n",
    "g <- g+theme_bw()+labs(x='Score',y='Density')\n",
    "print(g)"
   ]
  },
  {
   "cell_type": "markdown",
   "metadata": {},
   "source": [
    "결과를 보면 A가 가장 표준편차가 작아서 평균 50을 근처로 가장 density가 높다. 한편 C는 표준편차가 3이나 되어서 자료가 평균 근처에 있지 않고 퍼져 있다."
   ]
  },
  {
   "cell_type": "markdown",
   "metadata": {},
   "source": [
    "## 표준편차의 의미\n",
    "표준편차가 달라도 평균은 같을 수 있다. 그러나 표준편차가 작은 평균이 더 효율적인 평균이다. 극단적으로 표준편차가 작다면 어떤 관측값을 선택해도 평균에 가까운 것이라서 진정한 평균에 위치한 (즉 전체 자료를 대표하는) 관측치를 찾기 위한 수고를 덜 수 있다. 예를 들어 표준편차가 0.00000001이라면 한 반에 누구를 붙잡고 점수를 따져봐도 평균점수에 가까울 것이다. \n",
    "\n",
    "예를 보자."
   ]
  },
  {
   "cell_type": "code",
   "execution_count": 46,
   "metadata": {},
   "outputs": [
    {
     "data": {
      "text/html": [
       "50"
      ],
      "text/latex": [
       "50"
      ],
      "text/markdown": [
       "50"
      ],
      "text/plain": [
       "[1] 50"
      ]
     },
     "metadata": {},
     "output_type": "display_data"
    }
   ],
   "source": [
    "score_high_sd=c(0,10,20,30,40,50,60,70,80,90,100)\n",
    "mean(score_high_sd)"
   ]
  },
  {
   "cell_type": "code",
   "execution_count": 47,
   "metadata": {},
   "outputs": [
    {
     "data": {
      "text/html": [
       "50"
      ],
      "text/latex": [
       "50"
      ],
      "text/markdown": [
       "50"
      ],
      "text/plain": [
       "[1] 50"
      ]
     },
     "metadata": {},
     "output_type": "display_data"
    }
   ],
   "source": [
    "score_low_sd=c(49.9,50,50,50,50,50,50,50,50,50.1)\n",
    "mean(score_low_sd)"
   ]
  },
  {
   "cell_type": "code",
   "execution_count": 48,
   "metadata": {},
   "outputs": [
    {
     "data": {
      "text/html": [
       "33.166247903554"
      ],
      "text/latex": [
       "33.166247903554"
      ],
      "text/markdown": [
       "33.166247903554"
      ],
      "text/plain": [
       "[1] 33.16625"
      ]
     },
     "metadata": {},
     "output_type": "display_data"
    }
   ],
   "source": [
    "sd(score_high_sd)"
   ]
  },
  {
   "cell_type": "code",
   "execution_count": 49,
   "metadata": {},
   "outputs": [
    {
     "data": {
      "text/html": [
       "0.0471404520791038"
      ],
      "text/latex": [
       "0.0471404520791038"
      ],
      "text/markdown": [
       "0.0471404520791038"
      ],
      "text/plain": [
       "[1] 0.04714045"
      ]
     },
     "metadata": {},
     "output_type": "display_data"
    }
   ],
   "source": [
    "sd(score_low_sd)"
   ]
  },
  {
   "cell_type": "markdown",
   "metadata": {},
   "source": [
    "score_high_sd집단은 평균에 거의 가까운 관측치가 1개에 불과하지만 score_low_sd는 거의 모든 값이 평균에 가깝다. 따라서 score_low_sd 집단에서는 뭐를 골라도 자료를 대표한다고 말할 수 있다."
   ]
  },
  {
   "cell_type": "markdown",
   "metadata": {},
   "source": [
    "### 표준편차 계산하기\n",
    "앞에서 보면 R의 sd() 함수로 표준편차를 계산한다. 이제 손으로 계산해보자.\n",
    "\n",
    "관측값과 평균의 차이, 즉 $x_{i}-\\mu$를 계산하는 일에서 출발하자."
   ]
  },
  {
   "cell_type": "markdown",
   "metadata": {},
   "source": [
    "이를  $T_{i}$라고 하고, 각각의 관측값 i에 대해서 $T^2$에 대한 평균을 구하면 분산($V$)을 구할 수 있다.\n",
    "\n",
    "$$V=\\frac{1}{N}\\sum T^2$$\n",
    "$$V=\\frac{1}{N}\\sum_{i=1}^{N}(x_i-\\mu)^2$$\n",
    "\n"
   ]
  },
  {
   "cell_type": "markdown",
   "metadata": {},
   "source": [
    "표준편차는 분산의 제곱근이다. \n",
    "\n",
    "$$\\rho=\\sqrt{V}$$"
   ]
  },
  {
   "cell_type": "markdown",
   "metadata": {},
   "source": [
    "표본의 표준편차를 계산할 때는 N 대신에 n-1을 사용한다.\n",
    "\n",
    "$$ \\rho=\\sqrt{\\frac{1}{n-1}\\sum_{i=1}^{n}(x_i-\\mu)^2} $$"
   ]
  },
  {
   "cell_type": "code",
   "execution_count": 51,
   "metadata": {},
   "outputs": [],
   "source": [
    "score <- tibble(\n",
    "    student_id=c(1,2,3,4,5),\n",
    "    score=c(90,85,72,78,75)\n",
    ")"
   ]
  },
  {
   "cell_type": "code",
   "execution_count": 52,
   "metadata": {},
   "outputs": [
    {
     "data": {
      "text/html": [
       "<table>\n",
       "<thead><tr><th scope=col>student_id</th><th scope=col>score</th></tr></thead>\n",
       "<tbody>\n",
       "\t<tr><td>1 </td><td>90</td></tr>\n",
       "\t<tr><td>2 </td><td>85</td></tr>\n",
       "\t<tr><td>3 </td><td>72</td></tr>\n",
       "\t<tr><td>4 </td><td>78</td></tr>\n",
       "\t<tr><td>5 </td><td>75</td></tr>\n",
       "</tbody>\n",
       "</table>\n"
      ],
      "text/latex": [
       "\\begin{tabular}{r|ll}\n",
       " student\\_id & score\\\\\n",
       "\\hline\n",
       "\t 1  & 90\\\\\n",
       "\t 2  & 85\\\\\n",
       "\t 3  & 72\\\\\n",
       "\t 4  & 78\\\\\n",
       "\t 5  & 75\\\\\n",
       "\\end{tabular}\n"
      ],
      "text/markdown": [
       "\n",
       "| student_id | score |\n",
       "|---|---|\n",
       "| 1  | 90 |\n",
       "| 2  | 85 |\n",
       "| 3  | 72 |\n",
       "| 4  | 78 |\n",
       "| 5  | 75 |\n",
       "\n"
      ],
      "text/plain": [
       "  student_id score\n",
       "1 1          90   \n",
       "2 2          85   \n",
       "3 3          72   \n",
       "4 4          78   \n",
       "5 5          75   "
      ]
     },
     "metadata": {},
     "output_type": "display_data"
    }
   ],
   "source": [
    "score"
   ]
  },
  {
   "cell_type": "code",
   "execution_count": 53,
   "metadata": {},
   "outputs": [
    {
     "data": {
      "text/html": [
       "80"
      ],
      "text/latex": [
       "80"
      ],
      "text/markdown": [
       "80"
      ],
      "text/plain": [
       "[1] 80"
      ]
     },
     "metadata": {},
     "output_type": "display_data"
    }
   ],
   "source": [
    "mean(score$score)"
   ]
  },
  {
   "cell_type": "code",
   "execution_count": 54,
   "metadata": {},
   "outputs": [
    {
     "data": {
      "text/html": [
       "<table>\n",
       "<thead><tr><th scope=col>student_id</th><th scope=col>score</th><th scope=col>dev</th></tr></thead>\n",
       "<tbody>\n",
       "\t<tr><td>1 </td><td>90</td><td>10</td></tr>\n",
       "\t<tr><td>2 </td><td>85</td><td> 5</td></tr>\n",
       "\t<tr><td>3 </td><td>72</td><td>-8</td></tr>\n",
       "\t<tr><td>4 </td><td>78</td><td>-2</td></tr>\n",
       "\t<tr><td>5 </td><td>75</td><td>-5</td></tr>\n",
       "</tbody>\n",
       "</table>\n"
      ],
      "text/latex": [
       "\\begin{tabular}{r|lll}\n",
       " student\\_id & score & dev\\\\\n",
       "\\hline\n",
       "\t 1  & 90 & 10\\\\\n",
       "\t 2  & 85 &  5\\\\\n",
       "\t 3  & 72 & -8\\\\\n",
       "\t 4  & 78 & -2\\\\\n",
       "\t 5  & 75 & -5\\\\\n",
       "\\end{tabular}\n"
      ],
      "text/markdown": [
       "\n",
       "| student_id | score | dev |\n",
       "|---|---|---|\n",
       "| 1  | 90 | 10 |\n",
       "| 2  | 85 |  5 |\n",
       "| 3  | 72 | -8 |\n",
       "| 4  | 78 | -2 |\n",
       "| 5  | 75 | -5 |\n",
       "\n"
      ],
      "text/plain": [
       "  student_id score dev\n",
       "1 1          90    10 \n",
       "2 2          85     5 \n",
       "3 3          72    -8 \n",
       "4 4          78    -2 \n",
       "5 5          75    -5 "
      ]
     },
     "metadata": {},
     "output_type": "display_data"
    }
   ],
   "source": [
    "score %>% mutate(dev=score-mean(score))"
   ]
  },
  {
   "cell_type": "code",
   "execution_count": 56,
   "metadata": {
    "scrolled": true
   },
   "outputs": [
    {
     "data": {
      "text/html": [
       "<table>\n",
       "<thead><tr><th scope=col>student_id</th><th scope=col>score</th><th scope=col>dev</th><th scope=col>dev2</th></tr></thead>\n",
       "<tbody>\n",
       "\t<tr><td>1  </td><td>90 </td><td>10 </td><td>100</td></tr>\n",
       "\t<tr><td>2  </td><td>85 </td><td> 5 </td><td> 25</td></tr>\n",
       "\t<tr><td>3  </td><td>72 </td><td>-8 </td><td> 64</td></tr>\n",
       "\t<tr><td>4  </td><td>78 </td><td>-2 </td><td>  4</td></tr>\n",
       "\t<tr><td>5  </td><td>75 </td><td>-5 </td><td> 25</td></tr>\n",
       "</tbody>\n",
       "</table>\n"
      ],
      "text/latex": [
       "\\begin{tabular}{r|llll}\n",
       " student\\_id & score & dev & dev2\\\\\n",
       "\\hline\n",
       "\t 1   & 90  & 10  & 100\\\\\n",
       "\t 2   & 85  &  5  &  25\\\\\n",
       "\t 3   & 72  & -8  &  64\\\\\n",
       "\t 4   & 78  & -2  &   4\\\\\n",
       "\t 5   & 75  & -5  &  25\\\\\n",
       "\\end{tabular}\n"
      ],
      "text/markdown": [
       "\n",
       "| student_id | score | dev | dev2 |\n",
       "|---|---|---|---|\n",
       "| 1   | 90  | 10  | 100 |\n",
       "| 2   | 85  |  5  |  25 |\n",
       "| 3   | 72  | -8  |  64 |\n",
       "| 4   | 78  | -2  |   4 |\n",
       "| 5   | 75  | -5  |  25 |\n",
       "\n"
      ],
      "text/plain": [
       "  student_id score dev dev2\n",
       "1 1          90    10  100 \n",
       "2 2          85     5   25 \n",
       "3 3          72    -8   64 \n",
       "4 4          78    -2    4 \n",
       "5 5          75    -5   25 "
      ]
     },
     "metadata": {},
     "output_type": "display_data"
    }
   ],
   "source": [
    "score <- score %>% mutate(dev=score-mean(score)) %>% mutate(dev2=(score-mean(score))^2)\n",
    "score"
   ]
  },
  {
   "cell_type": "code",
   "execution_count": 63,
   "metadata": {},
   "outputs": [
    {
     "data": {
      "text/html": [
       "7.3824115301167"
      ],
      "text/latex": [
       "7.3824115301167"
      ],
      "text/markdown": [
       "7.3824115301167"
      ],
      "text/plain": [
       "[1] 7.382412"
      ]
     },
     "metadata": {},
     "output_type": "display_data"
    }
   ],
   "source": [
    "sqrt(sum(score$dev2)/(nrow(score)-1))"
   ]
  },
  {
   "cell_type": "code",
   "execution_count": 62,
   "metadata": {
    "scrolled": false
   },
   "outputs": [
    {
     "data": {
      "text/html": [
       "7.3824115301167"
      ],
      "text/latex": [
       "7.3824115301167"
      ],
      "text/markdown": [
       "7.3824115301167"
      ],
      "text/plain": [
       "[1] 7.382412"
      ]
     },
     "metadata": {},
     "output_type": "display_data"
    }
   ],
   "source": [
    "sd(score$score)"
   ]
  },
  {
   "cell_type": "code",
   "execution_count": 64,
   "metadata": {},
   "outputs": [
    {
     "data": {
      "text/html": [
       "54.5"
      ],
      "text/latex": [
       "54.5"
      ],
      "text/markdown": [
       "54.5"
      ],
      "text/plain": [
       "[1] 54.5"
      ]
     },
     "metadata": {},
     "output_type": "display_data"
    }
   ],
   "source": [
    "#분산은\n",
    "var(score$score)"
   ]
  },
  {
   "cell_type": "code",
   "execution_count": 65,
   "metadata": {},
   "outputs": [
    {
     "data": {
      "text/html": [
       "TRUE"
      ],
      "text/latex": [
       "TRUE"
      ],
      "text/markdown": [
       "TRUE"
      ],
      "text/plain": [
       "[1] TRUE"
      ]
     },
     "metadata": {},
     "output_type": "display_data"
    }
   ],
   "source": [
    "var(score$score)==sd(score$score)^2"
   ]
  },
  {
   "cell_type": "markdown",
   "metadata": {},
   "source": [
    "# 회귀분석\n",
    "## 분석 목적\n",
    "* 정책변수와 성과변수 사이의 인과관계 추정\n",
    "\n"
   ]
  },
  {
   "cell_type": "markdown",
   "metadata": {},
   "source": [
    "## 예제\n",
    "* 노동경제학에서 자주 사용하는 Mincer의 임금 방정식을 보자.\n",
    "* 로그 임금은 교육과 경력에 의해 결정된다고 생각할 때 다음과 같은 방정식을 세울 수 있다.\n",
    "$$ ln(w_{i})=\\beta_{0}+\\beta_{1}edu_{i}+\\beta_{2}exp_{i}+\\epsilon_{i}$$\n",
    "* 물론 교육은 edu, 경력은 exp, 그리고 첨자 i는 각 개인(individual)을 나타낸다. 엡실론은 미처 설명하지 못한 개인의 차이를 뜻한다."
   ]
  },
  {
   "cell_type": "code",
   "execution_count": 1,
   "metadata": {},
   "outputs": [],
   "source": [
    "suppressMessages(suppressWarnings({\n",
    "    library(AER) #계량경제 패키지\n",
    "    library(tidyverse) #데이터처리 패키지\n",
    "    library(ggplot2) #그래프 도구\n",
    "    library(grid) #그래프 도구\n",
    "    library(gridExtra) #그래프 도구\n",
    "}))"
   ]
  },
  {
   "cell_type": "markdown",
   "metadata": {},
   "source": [
    "함수 suppressMessage()는 메시지를 보여주지 말라는 뜻, 그리고 suppressWarnings()는 경고를 보여주지 말라는 뜻이다."
   ]
  },
  {
   "cell_type": "code",
   "execution_count": 2,
   "metadata": {},
   "outputs": [],
   "source": [
    "data(PSID1976)"
   ]
  },
  {
   "cell_type": "markdown",
   "metadata": {},
   "source": [
    "데이터를 불러오는 data()함수를 사용하여 AER 패키지 안에 있는 PSID1976 데이터를 가져왔다. 이 데이터를 이용해서 회귀분석을 수행해보자."
   ]
  },
  {
   "cell_type": "code",
   "execution_count": 3,
   "metadata": {},
   "outputs": [
    {
     "name": "stdout",
     "output_type": "stream",
     "text": [
      "'data.frame':\t753 obs. of  21 variables:\n",
      " $ participation: Factor w/ 2 levels \"no\",\"yes\": 2 2 2 2 2 2 2 2 2 2 ...\n",
      " $ hours        : int  1610 1656 1980 456 1568 2032 1440 1020 1458 1600 ...\n",
      " $ youngkids    : int  1 0 1 0 1 0 0 0 0 0 ...\n",
      " $ oldkids      : int  0 2 3 3 2 0 2 0 2 2 ...\n",
      " $ age          : int  32 30 35 34 31 54 37 54 48 39 ...\n",
      " $ education    : int  12 12 12 12 14 12 16 12 12 12 ...\n",
      " $ wage         : num  3.35 1.39 4.55 1.1 4.59 ...\n",
      " $ repwage      : num  2.65 2.65 4.04 3.25 3.6 4.7 5.95 9.98 0 4.15 ...\n",
      " $ hhours       : int  2708 2310 3072 1920 2000 1040 2670 4120 1995 2100 ...\n",
      " $ hage         : int  34 30 40 53 32 57 37 53 52 43 ...\n",
      " $ heducation   : int  12 9 12 10 12 11 12 8 4 12 ...\n",
      " $ hwage        : num  4.03 8.44 3.58 3.54 10 ...\n",
      " $ fincome      : int  16310 21800 21040 7300 27300 19495 21152 18900 20405 20425 ...\n",
      " $ tax          : num  0.722 0.661 0.692 0.781 0.622 ...\n",
      " $ meducation   : int  12 7 12 7 12 14 14 3 7 7 ...\n",
      " $ feducation   : int  7 7 7 7 14 7 7 3 7 7 ...\n",
      " $ unemp        : num  5 11 5 5 9.5 7.5 5 5 3 5 ...\n",
      " $ city         : Factor w/ 2 levels \"no\",\"yes\": 1 2 1 1 2 2 1 1 1 1 ...\n",
      " $ experience   : int  14 5 15 6 7 33 11 35 24 21 ...\n",
      " $ college      : Factor w/ 2 levels \"no\",\"yes\": 1 1 1 1 2 1 2 1 1 1 ...\n",
      " $ hcollege     : Factor w/ 2 levels \"no\",\"yes\": 1 1 1 1 1 1 1 1 1 1 ...\n"
     ]
    }
   ],
   "source": [
    "str(PSID1976)"
   ]
  },
  {
   "cell_type": "markdown",
   "metadata": {},
   "source": [
    "데이터의 구조를 보기 위해 str() 함수를 사용했다. 데이터의 클래스는 data.frame이고 753개의 관측치(obs), 21개의 변수(variables)이 있는 것을 확인할 수 있다. 그리고 변수는 각각 participation, hours, youngkids 등이다. 변수를 나타내는 첨자는 $이다. 예를 들어 $participation이라고 하면 \"변수 participation\"이다. 각 변수의 데이터 특성이 Factor(요인), int(정수), num(실수) 등으로 표시되었다. 그리고 해당 데이터를 조금 보여준다. Factor w/ 2는 요인 2개라는 뜻이고 각각의 요인 수준(levels)은 \"no\", \"yes\" 등으로 표시된다. 뒤의 점수는 요인 수준에 따라 할당된 숫자다. 예를 들어 no=1, yes=2 라는 식이라서 2 2 2 라면 yes yes yes가 된다."
   ]
  },
  {
   "cell_type": "code",
   "execution_count": 4,
   "metadata": {},
   "outputs": [],
   "source": [
    "attach(PSID1976)"
   ]
  },
  {
   "cell_type": "markdown",
   "metadata": {},
   "source": [
    "함수 attach()는 해당 데이터의 변수들을 전부 벡터형태로 풀어서 현재의 작업 환경(global environment)에 풀어놓는다. 이를 거둬들이려면 detatch()라고 하면 된다."
   ]
  },
  {
   "cell_type": "code",
   "execution_count": 5,
   "metadata": {},
   "outputs": [
    {
     "data": {
      "text/html": [
       "'PSID1976'"
      ],
      "text/latex": [
       "'PSID1976'"
      ],
      "text/markdown": [
       "'PSID1976'"
      ],
      "text/plain": [
       "[1] \"PSID1976\""
      ]
     },
     "metadata": {},
     "output_type": "display_data"
    }
   ],
   "source": [
    "ls()"
   ]
  },
  {
   "cell_type": "markdown",
   "metadata": {},
   "source": [
    "현재 작업 환경(environment)의 메모리 객체를 보려면 함수 ls()를 실행한다."
   ]
  },
  {
   "cell_type": "code",
   "execution_count": 6,
   "metadata": {},
   "outputs": [
    {
     "data": {
      "text/html": [
       "<table>\n",
       "<thead><tr><th scope=col>participation</th><th scope=col>hours</th><th scope=col>youngkids</th><th scope=col>oldkids</th><th scope=col>age</th><th scope=col>education</th><th scope=col>wage</th><th scope=col>repwage</th><th scope=col>hhours</th><th scope=col>hage</th><th scope=col>...</th><th scope=col>hwage</th><th scope=col>fincome</th><th scope=col>tax</th><th scope=col>meducation</th><th scope=col>feducation</th><th scope=col>unemp</th><th scope=col>city</th><th scope=col>experience</th><th scope=col>college</th><th scope=col>hcollege</th></tr></thead>\n",
       "<tbody>\n",
       "\t<tr><td>yes    </td><td>1610   </td><td>1      </td><td>0      </td><td>32     </td><td>12     </td><td>3.3540 </td><td>2.65   </td><td>2708   </td><td>34     </td><td>...    </td><td> 4.0288</td><td>16310  </td><td>0.7215 </td><td>12     </td><td> 7     </td><td> 5.0   </td><td>no     </td><td>14     </td><td>no     </td><td>no     </td></tr>\n",
       "\t<tr><td>yes    </td><td>1656   </td><td>0      </td><td>2      </td><td>30     </td><td>12     </td><td>1.3889 </td><td>2.65   </td><td>2310   </td><td>30     </td><td>...    </td><td> 8.4416</td><td>21800  </td><td>0.6615 </td><td> 7     </td><td> 7     </td><td>11.0   </td><td>yes    </td><td> 5     </td><td>no     </td><td>no     </td></tr>\n",
       "\t<tr><td>yes    </td><td>1980   </td><td>1      </td><td>3      </td><td>35     </td><td>12     </td><td>4.5455 </td><td>4.04   </td><td>3072   </td><td>40     </td><td>...    </td><td> 3.5807</td><td>21040  </td><td>0.6915 </td><td>12     </td><td> 7     </td><td> 5.0   </td><td>no     </td><td>15     </td><td>no     </td><td>no     </td></tr>\n",
       "\t<tr><td>yes    </td><td> 456   </td><td>0      </td><td>3      </td><td>34     </td><td>12     </td><td>1.0965 </td><td>3.25   </td><td>1920   </td><td>53     </td><td>...    </td><td> 3.5417</td><td> 7300  </td><td>0.7815 </td><td> 7     </td><td> 7     </td><td> 5.0   </td><td>no     </td><td> 6     </td><td>no     </td><td>no     </td></tr>\n",
       "\t<tr><td>yes    </td><td>1568   </td><td>1      </td><td>2      </td><td>31     </td><td>14     </td><td>4.5918 </td><td>3.60   </td><td>2000   </td><td>32     </td><td>...    </td><td>10.0000</td><td>27300  </td><td>0.6215 </td><td>12     </td><td>14     </td><td> 9.5   </td><td>yes    </td><td> 7     </td><td>yes    </td><td>no     </td></tr>\n",
       "\t<tr><td>yes    </td><td>2032   </td><td>0      </td><td>0      </td><td>54     </td><td>12     </td><td>4.7421 </td><td>4.70   </td><td>1040   </td><td>57     </td><td>...    </td><td> 6.7106</td><td>19495  </td><td>0.6915 </td><td>14     </td><td> 7     </td><td> 7.5   </td><td>yes    </td><td>33     </td><td>no     </td><td>no     </td></tr>\n",
       "</tbody>\n",
       "</table>\n"
      ],
      "text/latex": [
       "\\begin{tabular}{r|lllllllllllllllllllll}\n",
       " participation & hours & youngkids & oldkids & age & education & wage & repwage & hhours & hage & ... & hwage & fincome & tax & meducation & feducation & unemp & city & experience & college & hcollege\\\\\n",
       "\\hline\n",
       "\t yes     & 1610    & 1       & 0       & 32      & 12      & 3.3540  & 2.65    & 2708    & 34      & ...     &  4.0288 & 16310   & 0.7215  & 12      &  7      &  5.0    & no      & 14      & no      & no     \\\\\n",
       "\t yes     & 1656    & 0       & 2       & 30      & 12      & 1.3889  & 2.65    & 2310    & 30      & ...     &  8.4416 & 21800   & 0.6615  &  7      &  7      & 11.0    & yes     &  5      & no      & no     \\\\\n",
       "\t yes     & 1980    & 1       & 3       & 35      & 12      & 4.5455  & 4.04    & 3072    & 40      & ...     &  3.5807 & 21040   & 0.6915  & 12      &  7      &  5.0    & no      & 15      & no      & no     \\\\\n",
       "\t yes     &  456    & 0       & 3       & 34      & 12      & 1.0965  & 3.25    & 1920    & 53      & ...     &  3.5417 &  7300   & 0.7815  &  7      &  7      &  5.0    & no      &  6      & no      & no     \\\\\n",
       "\t yes     & 1568    & 1       & 2       & 31      & 14      & 4.5918  & 3.60    & 2000    & 32      & ...     & 10.0000 & 27300   & 0.6215  & 12      & 14      &  9.5    & yes     &  7      & yes     & no     \\\\\n",
       "\t yes     & 2032    & 0       & 0       & 54      & 12      & 4.7421  & 4.70    & 1040    & 57      & ...     &  6.7106 & 19495   & 0.6915  & 14      &  7      &  7.5    & yes     & 33      & no      & no     \\\\\n",
       "\\end{tabular}\n"
      ],
      "text/markdown": [
       "\n",
       "| participation | hours | youngkids | oldkids | age | education | wage | repwage | hhours | hage | ... | hwage | fincome | tax | meducation | feducation | unemp | city | experience | college | hcollege |\n",
       "|---|---|---|---|---|---|---|---|---|---|---|---|---|---|---|---|---|---|---|---|---|\n",
       "| yes     | 1610    | 1       | 0       | 32      | 12      | 3.3540  | 2.65    | 2708    | 34      | ...     |  4.0288 | 16310   | 0.7215  | 12      |  7      |  5.0    | no      | 14      | no      | no      |\n",
       "| yes     | 1656    | 0       | 2       | 30      | 12      | 1.3889  | 2.65    | 2310    | 30      | ...     |  8.4416 | 21800   | 0.6615  |  7      |  7      | 11.0    | yes     |  5      | no      | no      |\n",
       "| yes     | 1980    | 1       | 3       | 35      | 12      | 4.5455  | 4.04    | 3072    | 40      | ...     |  3.5807 | 21040   | 0.6915  | 12      |  7      |  5.0    | no      | 15      | no      | no      |\n",
       "| yes     |  456    | 0       | 3       | 34      | 12      | 1.0965  | 3.25    | 1920    | 53      | ...     |  3.5417 |  7300   | 0.7815  |  7      |  7      |  5.0    | no      |  6      | no      | no      |\n",
       "| yes     | 1568    | 1       | 2       | 31      | 14      | 4.5918  | 3.60    | 2000    | 32      | ...     | 10.0000 | 27300   | 0.6215  | 12      | 14      |  9.5    | yes     |  7      | yes     | no      |\n",
       "| yes     | 2032    | 0       | 0       | 54      | 12      | 4.7421  | 4.70    | 1040    | 57      | ...     |  6.7106 | 19495   | 0.6915  | 14      |  7      |  7.5    | yes     | 33      | no      | no      |\n",
       "\n"
      ],
      "text/plain": [
       "  participation hours youngkids oldkids age education wage   repwage hhours\n",
       "1 yes           1610  1         0       32  12        3.3540 2.65    2708  \n",
       "2 yes           1656  0         2       30  12        1.3889 2.65    2310  \n",
       "3 yes           1980  1         3       35  12        4.5455 4.04    3072  \n",
       "4 yes            456  0         3       34  12        1.0965 3.25    1920  \n",
       "5 yes           1568  1         2       31  14        4.5918 3.60    2000  \n",
       "6 yes           2032  0         0       54  12        4.7421 4.70    1040  \n",
       "  hage ... hwage   fincome tax    meducation feducation unemp city experience\n",
       "1 34   ...  4.0288 16310   0.7215 12          7          5.0  no   14        \n",
       "2 30   ...  8.4416 21800   0.6615  7          7         11.0  yes   5        \n",
       "3 40   ...  3.5807 21040   0.6915 12          7          5.0  no   15        \n",
       "4 53   ...  3.5417  7300   0.7815  7          7          5.0  no    6        \n",
       "5 32   ... 10.0000 27300   0.6215 12         14          9.5  yes   7        \n",
       "6 57   ...  6.7106 19495   0.6915 14          7          7.5  yes  33        \n",
       "  college hcollege\n",
       "1 no      no      \n",
       "2 no      no      \n",
       "3 no      no      \n",
       "4 no      no      \n",
       "5 yes     no      \n",
       "6 no      no      "
      ]
     },
     "metadata": {},
     "output_type": "display_data"
    }
   ],
   "source": [
    "head(PSID1976)"
   ]
  },
  {
   "cell_type": "code",
   "execution_count": 7,
   "metadata": {},
   "outputs": [
    {
     "data": {
      "text/html": [
       "<ol class=list-inline>\n",
       "\t<li>0</li>\n",
       "\t<li>0</li>\n",
       "\t<li>0</li>\n",
       "\t<li>0</li>\n",
       "\t<li>0</li>\n",
       "\t<li>0</li>\n",
       "</ol>\n"
      ],
      "text/latex": [
       "\\begin{enumerate*}\n",
       "\\item 0\n",
       "\\item 0\n",
       "\\item 0\n",
       "\\item 0\n",
       "\\item 0\n",
       "\\item 0\n",
       "\\end{enumerate*}\n"
      ],
      "text/markdown": [
       "1. 0\n",
       "2. 0\n",
       "3. 0\n",
       "4. 0\n",
       "5. 0\n",
       "6. 0\n",
       "\n",
       "\n"
      ],
      "text/plain": [
       "[1] 0 0 0 0 0 0"
      ]
     },
     "metadata": {},
     "output_type": "display_data"
    }
   ],
   "source": [
    "tail(hours)"
   ]
  },
  {
   "cell_type": "markdown",
   "metadata": {},
   "source": [
    "데이터의 일부를 살펴보기 위해 head()와 tail()을 실행했다. 각각 처음 5개, 뒤의 5개라는 말이다. 보여주는 개수를 정해줄 수도 있다."
   ]
  },
  {
   "cell_type": "code",
   "execution_count": 8,
   "metadata": {},
   "outputs": [
    {
     "data": {
      "text/html": [
       "<table>\n",
       "<thead><tr><th scope=col>participation</th><th scope=col>hours</th><th scope=col>youngkids</th><th scope=col>oldkids</th><th scope=col>age</th><th scope=col>education</th><th scope=col>wage</th><th scope=col>repwage</th><th scope=col>hhours</th><th scope=col>hage</th><th scope=col>...</th><th scope=col>hwage</th><th scope=col>fincome</th><th scope=col>tax</th><th scope=col>meducation</th><th scope=col>feducation</th><th scope=col>unemp</th><th scope=col>city</th><th scope=col>experience</th><th scope=col>college</th><th scope=col>hcollege</th></tr></thead>\n",
       "<tbody>\n",
       "\t<tr><td>yes   </td><td>1610  </td><td>1     </td><td>0     </td><td>32    </td><td>12    </td><td>3.3540</td><td>2.65  </td><td>2708  </td><td>34    </td><td>...   </td><td>4.0288</td><td>16310 </td><td>0.7215</td><td>12    </td><td>7     </td><td> 5    </td><td>no    </td><td>14    </td><td>no    </td><td>no    </td></tr>\n",
       "\t<tr><td>yes   </td><td>1656  </td><td>0     </td><td>2     </td><td>30    </td><td>12    </td><td>1.3889</td><td>2.65  </td><td>2310  </td><td>30    </td><td>...   </td><td>8.4416</td><td>21800 </td><td>0.6615</td><td> 7    </td><td>7     </td><td>11    </td><td>yes   </td><td> 5    </td><td>no    </td><td>no    </td></tr>\n",
       "</tbody>\n",
       "</table>\n"
      ],
      "text/latex": [
       "\\begin{tabular}{r|lllllllllllllllllllll}\n",
       " participation & hours & youngkids & oldkids & age & education & wage & repwage & hhours & hage & ... & hwage & fincome & tax & meducation & feducation & unemp & city & experience & college & hcollege\\\\\n",
       "\\hline\n",
       "\t yes    & 1610   & 1      & 0      & 32     & 12     & 3.3540 & 2.65   & 2708   & 34     & ...    & 4.0288 & 16310  & 0.7215 & 12     & 7      &  5     & no     & 14     & no     & no    \\\\\n",
       "\t yes    & 1656   & 0      & 2      & 30     & 12     & 1.3889 & 2.65   & 2310   & 30     & ...    & 8.4416 & 21800  & 0.6615 &  7     & 7      & 11     & yes    &  5     & no     & no    \\\\\n",
       "\\end{tabular}\n"
      ],
      "text/markdown": [
       "\n",
       "| participation | hours | youngkids | oldkids | age | education | wage | repwage | hhours | hage | ... | hwage | fincome | tax | meducation | feducation | unemp | city | experience | college | hcollege |\n",
       "|---|---|---|---|---|---|---|---|---|---|---|---|---|---|---|---|---|---|---|---|---|\n",
       "| yes    | 1610   | 1      | 0      | 32     | 12     | 3.3540 | 2.65   | 2708   | 34     | ...    | 4.0288 | 16310  | 0.7215 | 12     | 7      |  5     | no     | 14     | no     | no     |\n",
       "| yes    | 1656   | 0      | 2      | 30     | 12     | 1.3889 | 2.65   | 2310   | 30     | ...    | 8.4416 | 21800  | 0.6615 |  7     | 7      | 11     | yes    |  5     | no     | no     |\n",
       "\n"
      ],
      "text/plain": [
       "  participation hours youngkids oldkids age education wage   repwage hhours\n",
       "1 yes           1610  1         0       32  12        3.3540 2.65    2708  \n",
       "2 yes           1656  0         2       30  12        1.3889 2.65    2310  \n",
       "  hage ... hwage  fincome tax    meducation feducation unemp city experience\n",
       "1 34   ... 4.0288 16310   0.7215 12         7           5    no   14        \n",
       "2 30   ... 8.4416 21800   0.6615  7         7          11    yes   5        \n",
       "  college hcollege\n",
       "1 no      no      \n",
       "2 no      no      "
      ]
     },
     "metadata": {},
     "output_type": "display_data"
    }
   ],
   "source": [
    "head(PSID1976, n=2)"
   ]
  },
  {
   "cell_type": "markdown",
   "metadata": {},
   "source": [
    "### 데이터 변환 - log 임금\n",
    "PSID1976의 임금 데이터는 명목임금으로 log값으로 변환되지 않았다. 우리가 추정하려는 식의 임금은 log(임금)이기 때문에 이를 변환해서 사용해야 한다. tidyverse의 mutate()함수를 써서 logwage 변수를 추가하자."
   ]
  },
  {
   "cell_type": "code",
   "execution_count": 9,
   "metadata": {},
   "outputs": [],
   "source": [
    "PSID1976<-PSID1976%>%mutate(logwage=log(wage))"
   ]
  },
  {
   "cell_type": "code",
   "execution_count": 10,
   "metadata": {},
   "outputs": [
    {
     "data": {
      "text/html": [
       "<ol class=list-inline>\n",
       "\t<li>'participation'</li>\n",
       "\t<li>'hours'</li>\n",
       "\t<li>'youngkids'</li>\n",
       "\t<li>'oldkids'</li>\n",
       "\t<li>'age'</li>\n",
       "\t<li>'education'</li>\n",
       "\t<li>'wage'</li>\n",
       "\t<li>'repwage'</li>\n",
       "\t<li>'hhours'</li>\n",
       "\t<li>'hage'</li>\n",
       "\t<li>'heducation'</li>\n",
       "\t<li>'hwage'</li>\n",
       "\t<li>'fincome'</li>\n",
       "\t<li>'tax'</li>\n",
       "\t<li>'meducation'</li>\n",
       "\t<li>'feducation'</li>\n",
       "\t<li>'unemp'</li>\n",
       "\t<li>'city'</li>\n",
       "\t<li>'experience'</li>\n",
       "\t<li>'college'</li>\n",
       "\t<li>'hcollege'</li>\n",
       "\t<li>'logwage'</li>\n",
       "</ol>\n"
      ],
      "text/latex": [
       "\\begin{enumerate*}\n",
       "\\item 'participation'\n",
       "\\item 'hours'\n",
       "\\item 'youngkids'\n",
       "\\item 'oldkids'\n",
       "\\item 'age'\n",
       "\\item 'education'\n",
       "\\item 'wage'\n",
       "\\item 'repwage'\n",
       "\\item 'hhours'\n",
       "\\item 'hage'\n",
       "\\item 'heducation'\n",
       "\\item 'hwage'\n",
       "\\item 'fincome'\n",
       "\\item 'tax'\n",
       "\\item 'meducation'\n",
       "\\item 'feducation'\n",
       "\\item 'unemp'\n",
       "\\item 'city'\n",
       "\\item 'experience'\n",
       "\\item 'college'\n",
       "\\item 'hcollege'\n",
       "\\item 'logwage'\n",
       "\\end{enumerate*}\n"
      ],
      "text/markdown": [
       "1. 'participation'\n",
       "2. 'hours'\n",
       "3. 'youngkids'\n",
       "4. 'oldkids'\n",
       "5. 'age'\n",
       "6. 'education'\n",
       "7. 'wage'\n",
       "8. 'repwage'\n",
       "9. 'hhours'\n",
       "10. 'hage'\n",
       "11. 'heducation'\n",
       "12. 'hwage'\n",
       "13. 'fincome'\n",
       "14. 'tax'\n",
       "15. 'meducation'\n",
       "16. 'feducation'\n",
       "17. 'unemp'\n",
       "18. 'city'\n",
       "19. 'experience'\n",
       "20. 'college'\n",
       "21. 'hcollege'\n",
       "22. 'logwage'\n",
       "\n",
       "\n"
      ],
      "text/plain": [
       " [1] \"participation\" \"hours\"         \"youngkids\"     \"oldkids\"      \n",
       " [5] \"age\"           \"education\"     \"wage\"          \"repwage\"      \n",
       " [9] \"hhours\"        \"hage\"          \"heducation\"    \"hwage\"        \n",
       "[13] \"fincome\"       \"tax\"           \"meducation\"    \"feducation\"   \n",
       "[17] \"unemp\"         \"city\"          \"experience\"    \"college\"      \n",
       "[21] \"hcollege\"      \"logwage\"      "
      ]
     },
     "metadata": {},
     "output_type": "display_data"
    }
   ],
   "source": [
    "names(PSID1976)"
   ]
  },
  {
   "cell_type": "markdown",
   "metadata": {},
   "source": [
    "변수의 이름을 출력하는 함수 names()를 써서 확인해보니 logwage가 새로 생성되었다. "
   ]
  },
  {
   "cell_type": "markdown",
   "metadata": {},
   "source": [
    "### 무한대 처리\n",
    "임금이 없으면 0인데, log(0)을 취하면 -무한대가 된다(-Inf). 이 경우에는 계산이 불가능하기 때문에 계산에서 이 부분을 제외시켜야 한다. 가장 간단한 방법은 해당 부분을 결측치(NA)로 바꾸면 된다."
   ]
  },
  {
   "cell_type": "code",
   "execution_count": 11,
   "metadata": {
    "scrolled": true
   },
   "outputs": [
    {
     "data": {
      "text/html": [
       "<ol class=list-inline>\n",
       "\t<li>-Inf</li>\n",
       "\t<li>-Inf</li>\n",
       "\t<li>-Inf</li>\n",
       "\t<li>-Inf</li>\n",
       "\t<li>-Inf</li>\n",
       "\t<li>-Inf</li>\n",
       "</ol>\n"
      ],
      "text/latex": [
       "\\begin{enumerate*}\n",
       "\\item -Inf\n",
       "\\item -Inf\n",
       "\\item -Inf\n",
       "\\item -Inf\n",
       "\\item -Inf\n",
       "\\item -Inf\n",
       "\\end{enumerate*}\n"
      ],
      "text/markdown": [
       "1. -Inf\n",
       "2. -Inf\n",
       "3. -Inf\n",
       "4. -Inf\n",
       "5. -Inf\n",
       "6. -Inf\n",
       "\n",
       "\n"
      ],
      "text/plain": [
       "[1] -Inf -Inf -Inf -Inf -Inf -Inf"
      ]
     },
     "metadata": {},
     "output_type": "display_data"
    }
   ],
   "source": [
    "tail(PSID1976$logwage)"
   ]
  },
  {
   "cell_type": "markdown",
   "metadata": {},
   "source": [
    "잠깐, 결측치를 확인하는 함수는 is.na()이고 여기에 결측치면 TRUE, 그렇지 않으면 FALSE를 할당한다."
   ]
  },
  {
   "cell_type": "code",
   "execution_count": 12,
   "metadata": {
    "scrolled": true
   },
   "outputs": [
    {
     "data": {
      "text/html": [
       "<ol class=list-inline>\n",
       "\t<li>TRUE</li>\n",
       "\t<li>FALSE</li>\n",
       "\t<li>FALSE</li>\n",
       "\t<li>TRUE</li>\n",
       "\t<li>FALSE</li>\n",
       "\t<li>FALSE</li>\n",
       "</ol>\n"
      ],
      "text/latex": [
       "\\begin{enumerate*}\n",
       "\\item TRUE\n",
       "\\item FALSE\n",
       "\\item FALSE\n",
       "\\item TRUE\n",
       "\\item FALSE\n",
       "\\item FALSE\n",
       "\\end{enumerate*}\n"
      ],
      "text/markdown": [
       "1. TRUE\n",
       "2. FALSE\n",
       "3. FALSE\n",
       "4. TRUE\n",
       "5. FALSE\n",
       "6. FALSE\n",
       "\n",
       "\n"
      ],
      "text/plain": [
       "[1]  TRUE FALSE FALSE  TRUE FALSE FALSE"
      ]
     },
     "metadata": {},
     "output_type": "display_data"
    }
   ],
   "source": [
    "is.na(c(NA,1,2,NA,3,4))"
   ]
  },
  {
   "cell_type": "markdown",
   "metadata": {},
   "source": [
    "벡터를 결측치로 처리하면 TRUE나 FALSE로 값을 할당하면 된다."
   ]
  },
  {
   "cell_type": "code",
   "execution_count": 13,
   "metadata": {},
   "outputs": [
    {
     "data": {
      "text/html": [
       "<ol class=list-inline>\n",
       "\t<li>&lt;NA&gt;</li>\n",
       "\t<li>1</li>\n",
       "\t<li>2</li>\n",
       "\t<li>&lt;NA&gt;</li>\n",
       "\t<li>3</li>\n",
       "\t<li>4</li>\n",
       "</ol>\n"
      ],
      "text/latex": [
       "\\begin{enumerate*}\n",
       "\\item <NA>\n",
       "\\item 1\n",
       "\\item 2\n",
       "\\item <NA>\n",
       "\\item 3\n",
       "\\item 4\n",
       "\\end{enumerate*}\n"
      ],
      "text/markdown": [
       "1. &lt;NA&gt;\n",
       "2. 1\n",
       "3. 2\n",
       "4. &lt;NA&gt;\n",
       "5. 3\n",
       "6. 4\n",
       "\n",
       "\n"
      ],
      "text/plain": [
       "[1] NA  1  2 NA  3  4"
      ]
     },
     "metadata": {},
     "output_type": "display_data"
    },
    {
     "data": {
      "text/html": [
       "<ol class=list-inline>\n",
       "\t<li>&lt;NA&gt;</li>\n",
       "\t<li>&lt;NA&gt;</li>\n",
       "\t<li>&lt;NA&gt;</li>\n",
       "\t<li>&lt;NA&gt;</li>\n",
       "\t<li>&lt;NA&gt;</li>\n",
       "\t<li>&lt;NA&gt;</li>\n",
       "</ol>\n"
      ],
      "text/latex": [
       "\\begin{enumerate*}\n",
       "\\item <NA>\n",
       "\\item <NA>\n",
       "\\item <NA>\n",
       "\\item <NA>\n",
       "\\item <NA>\n",
       "\\item <NA>\n",
       "\\end{enumerate*}\n"
      ],
      "text/markdown": [
       "1. &lt;NA&gt;\n",
       "2. &lt;NA&gt;\n",
       "3. &lt;NA&gt;\n",
       "4. &lt;NA&gt;\n",
       "5. &lt;NA&gt;\n",
       "6. &lt;NA&gt;\n",
       "\n",
       "\n"
      ],
      "text/plain": [
       "[1] NA NA NA NA NA NA"
      ]
     },
     "metadata": {},
     "output_type": "display_data"
    }
   ],
   "source": [
    "test<-c(NA,1,2,NA,3,4)\n",
    "test\n",
    "is.na(test)<-TRUE\n",
    "test\n",
    "rm(test)"
   ]
  },
  {
   "cell_type": "markdown",
   "metadata": {},
   "source": [
    "벡터 test는 잠시 썼던 것이라서 메모리에서 깔끔하게 지웠다. 이때 rm() 함수를 썼다. Remove라는 뜻이다."
   ]
  },
  {
   "cell_type": "markdown",
   "metadata": {},
   "source": [
    "무한대를 확인하는 함수는 is.infinite()이다. 함수를 개별 벡터에 적용하여 스칼라 값을 구하는 손쉬운 방법은 간단적용함수(simple apply = sapply())를 사용하는 것이다. 방법은 sapply(데이터,함수이름)이다. 아래의 코드를 살펴보자."
   ]
  },
  {
   "cell_type": "code",
   "execution_count": 14,
   "metadata": {},
   "outputs": [],
   "source": [
    "is.na(PSID1976)<-sapply(PSID1976,is.infinite)"
   ]
  },
  {
   "cell_type": "code",
   "execution_count": 15,
   "metadata": {},
   "outputs": [
    {
     "data": {
      "text/html": [
       "<ol class=list-inline>\n",
       "\t<li>&lt;NA&gt;</li>\n",
       "\t<li>&lt;NA&gt;</li>\n",
       "\t<li>&lt;NA&gt;</li>\n",
       "\t<li>&lt;NA&gt;</li>\n",
       "\t<li>&lt;NA&gt;</li>\n",
       "\t<li>&lt;NA&gt;</li>\n",
       "</ol>\n"
      ],
      "text/latex": [
       "\\begin{enumerate*}\n",
       "\\item <NA>\n",
       "\\item <NA>\n",
       "\\item <NA>\n",
       "\\item <NA>\n",
       "\\item <NA>\n",
       "\\item <NA>\n",
       "\\end{enumerate*}\n"
      ],
      "text/markdown": [
       "1. &lt;NA&gt;\n",
       "2. &lt;NA&gt;\n",
       "3. &lt;NA&gt;\n",
       "4. &lt;NA&gt;\n",
       "5. &lt;NA&gt;\n",
       "6. &lt;NA&gt;\n",
       "\n",
       "\n"
      ],
      "text/plain": [
       "[1] NA NA NA NA NA NA"
      ]
     },
     "metadata": {},
     "output_type": "display_data"
    }
   ],
   "source": [
    "tail(PSID1976$logwage)"
   ]
  },
  {
   "cell_type": "markdown",
   "metadata": {},
   "source": [
    "무한대가 모두 결측값(NA)로 바뀌었다."
   ]
  },
  {
   "cell_type": "markdown",
   "metadata": {},
   "source": [
    "### 로그 임금과 정규분포 가정\n",
    "회귀분석에서 Y쪽 변수는 가능한 정규분포를 따라줘야 한다. 특히 데이터의 수가 적다면(1000개 정도도 작은 것) 종모양의 대칭분포에 가까운가를 눈으로 확인하면 좋다. 그래프를 그려서 확인해보자.\n",
    "\n",
    "우리는 ggplot() 그래프 도구를 사용할 예정이다. 팔레트를 놓기 위해 ggplot(데이터,aes()) 형태로 사용한다. aes()는 그래프의 데이터 요소를 반영하는 함수다. 분포를 볼 때 적당한 것이 히스토그램이다. 히스토그램 위젯은 geom_histogram()이다. 이 위젯을 팔레트 위에 더해주는(+) 과정을 거쳐서 그래프를 그려보기로 한다. 히스토그램으로 데이터를 처리하기 위해 geom_histogram()의 데이터 요소(aes)에 밀도함수 계산을 추가하자. 함수를 추가하기 위해 ..density..라는 코드를 사용했다. \n",
    "\n",
    "이외에 투명도(alpha), 채움(fill), 그리고 색상(col)을 두었다. aes 안에 있지 않고 밖에 있다는 점을 눈여겨 보자. 위젯 자체의 속성이고 데이터와는 무관하기 때문이다.\n",
    "\n",
    "히스토그램을 따라서 정규분포 선을 그어서 비교해보자. 정규분포를 계산하는 확률밀도함수는 dnorm()이다. Density of Normal distribution의 약자다. 색상(color)는 red로 하고 dnorm에 필요한 평균(mean)과 표준편차(sd)를 넘겨주기 위해 args에 리스트(list)를 제출한다.\n",
    "\n",
    "이외에 labs() 함수를 사용하여 그래프의 x, y 축 이름과 타이틀을 정해주자.\n",
    "\n",
    "mean()은 평균을 구하는 함수, sd()는 표준편차를 구하는 함수다. na.rm=TRUE라고 하면 결측값을 제외하라는(NA should be removed) 뜻이다.\n",
    "\n",
    "출력은 print(그래프)로 한다. 이때 귀찮은 메시지를 보기 싫으니 suppressWarnings(suppressMessages())안에 넣어주자."
   ]
  },
  {
   "cell_type": "code",
   "execution_count": 16,
   "metadata": {},
   "outputs": [
    {
     "data": {
      "image/png": "[encoded data removed]",
      "text/plain": [
       "plot without title"
      ]
     },
     "metadata": {},
     "output_type": "display_data"
    }
   ],
   "source": [
    "fig1<-ggplot(PSID1976,aes(x=wage))+\n",
    "    geom_histogram(aes(y=..density..),alpha=0.5,fill='black',col='grey')+\n",
    "    stat_function(fun=dnorm,color='red',args=list(mean=mean(wage,na.rm=TRUE),sd=sd(wage,na.rm=TRUE)))+\n",
    "    labs(title=\"통상임금의 정규본포성 확인\",x='통상임금',y='누적도수')\n",
    "suppressWarnings(suppressMessages(print(fig1)))"
   ]
  },
  {
   "cell_type": "markdown",
   "metadata": {},
   "source": [
    "이제 log임금 그래프를 그려보자."
   ]
  },
  {
   "cell_type": "code",
   "execution_count": 17,
   "metadata": {},
   "outputs": [
    {
     "data": {
      "image/png": "[encoded data removed]",
      "text/plain": [
       "plot without title"
      ]
     },
     "metadata": {},
     "output_type": "display_data"
    }
   ],
   "source": [
    "fig2<-ggplot(PSID1976,aes(x=logwage))+\n",
    "    geom_histogram(aes(y=..density..),alpha=0.5,fill='green',col='white',na.rm=TRUE)+\n",
    "    stat_function(fun=dnorm,args=list(mean=mean(PSID1976$logwage,na.rm=TRUE),sd=sd(PSID1976$logwage,na.rm=TRUE)))+\n",
    "    labs(title=\"로그 임금\",x=\"로그 임금\",y=\"누적도수\")\n",
    "suppressWarnings(suppressMessages(print(fig2)))"
   ]
  },
  {
   "cell_type": "markdown",
   "metadata": {},
   "source": [
    "두 그래프를 함께 두고 비교해보자."
   ]
  },
  {
   "cell_type": "code",
   "execution_count": 18,
   "metadata": {},
   "outputs": [
    {
     "name": "stderr",
     "output_type": "stream",
     "text": [
      "`stat_bin()` using `bins = 30`. Pick better value with `binwidth`.\n",
      "`stat_bin()` using `bins = 30`. Pick better value with `binwidth`.\n"
     ]
    },
    {
     "data": {
      "image/png": "[encoded data removed]",
      "text/plain": [
       "plot without title"
      ]
     },
     "metadata": {},
     "output_type": "display_data"
    }
   ],
   "source": [
    "grid.arrange(fig1,fig2,ncol=2)"
   ]
  },
  {
   "cell_type": "markdown",
   "metadata": {},
   "source": [
    "확연히 통상임금이 정규분포에서 벗어난다. 일단 긴 꼬리 부분에 히스토그램 막대가 높이 올라간 것부터가 이상하다. 반면 로그 임금을 취하니 정규분포와 꽤나 가까워진다. 왜 y변수에 로그임금을 써야 하는가에 대한 충분한 이유가 된다.\n",
    "\n",
    "정규분포(normal distribution)는 말그대로 세상에 존재하는 어떤 것이든지 통상(normal) 따라야 할 확률의 모습이다. 중심(평균)에서 많이 관측되고 평균에서 멀어질수록 관측될 확률값은 낮아지며 평균을 중심으로 좌우대칭인 형태다. 아무런 가정이 없을 때 우리는 통상 어떤 일이든 정규분포에 따라 확률이 정해질 것으로 기대할 수 있다. 전통적인 통계의 함수들은 모두 정규분포를 어느정도 고려하고 있다. 이 정규분포를 바탕으로 보다 현실적인 확률밀도함수를 사용할 수 있는데 가령 t-분포함수나 F-분포함수, 카이제곱-분포함수가 그런 것들이다. 우리는 OLS회귀에서 바로 F-분포함수를 사용한다."
   ]
  },
  {
   "cell_type": "markdown",
   "metadata": {},
   "source": [
    "### Ordinary Least Square 회귀\n",
    "최소자승 회귀분석(OLS Regression Analysis)를 수행하자. 모델링을 하는 함수 lm()은 linear model 선형모델이라는 뜻이다. 모델의 계산식은 y변수~x변수들 형태로 사용한다. 우리는 y변수에 logwage와 x변수에 education+experience를 두고 데이터는 PSID1976을 투입한다. 모델의 결과를 보려면 summary()함수를 사용한다."
   ]
  },
  {
   "cell_type": "code",
   "execution_count": 19,
   "metadata": {
    "scrolled": true
   },
   "outputs": [
    {
     "data": {
      "text/plain": [
       "\n",
       "Call:\n",
       "lm(formula = logwage ~ education + experience, data = PSID1976)\n",
       "\n",
       "Residuals:\n",
       "     Min       1Q   Median       3Q      Max \n",
       "-3.05608 -0.30524  0.05599  0.38846  2.27384 \n",
       "\n",
       "Coefficients:\n",
       "             Estimate Std. Error t value Pr(>|t|)    \n",
       "(Intercept) -0.400174   0.190368  -2.102 0.036132 *  \n",
       "education    0.109489   0.014167   7.728 7.94e-14 ***\n",
       "experience   0.015674   0.004019   3.900 0.000112 ***\n",
       "---\n",
       "Signif. codes:  0 '***' 0.001 '**' 0.01 '*' 0.05 '.' 0.1 ' ' 1\n",
       "\n",
       "Residual standard error: 0.669 on 425 degrees of freedom\n",
       "  (325 observations deleted due to missingness)\n",
       "Multiple R-squared:  0.1484,\tAdjusted R-squared:  0.1444 \n",
       "F-statistic: 37.02 on 2 and 425 DF,  p-value: 1.512e-15\n"
      ]
     },
     "metadata": {},
     "output_type": "display_data"
    }
   ],
   "source": [
    "summary(lm(logwage~education+experience,data=PSID1976))"
   ]
  },
  {
   "cell_type": "markdown",
   "metadata": {},
   "source": [
    "R의 분석리포트는 자세하고 친절하다. Call은 모델을 다시 보여주고, Residuals은 모델이 설명하지 못한 부분(엡실론)의 분포를 간단히 보여준다. 그리고 추정값인 coefficients를 자세히 설명하고 있다. Estimate는 방정식에 사용될 구체적인 값들이다. Std. Error는 추정치가 얼마나 틀릴 수 있나를 보여주는 것으로 값이 클수록 실제 현실값과 추정한 estimate 사이에 괴리가 커진다. 또한 t-value는 estimate를 통계적으로 의미 있는 숫자로 볼 것인가를 결정하는 확률값을 계산한다. t-value가 클수록 통계적으로 더 의미가 있는 추정치라는 뜻이고 Pr(>|t|)는 실제로 \"의미가 없을 것\"이라는 반론이 맞을 확률이다. p-value가 작을수록 반론이 끼어들 여지가 없다. 7.94e-14의 경우 소수점 14자리에서 7.94를 곱하라는 뜻으로 아주 0에 가깝다. 별표는 1개보다는 2개가 더 통계적으로 의미가 있다는 간편 표현법이다. 통상 1개부터 우리는 의미 있는 숫자라고 본다. 이외에 모델의 분산설명력을 나타내는 Adjusted R-squared가 있다. 14.44%의 데이터를 모형으로 정확히 설명하고 있다는 뜻이다. 큰 의미는 없다. 투입되는 설명 변수가 많아지면 Adj. R-squared는 체계적으로 커진다. 다만 2개의 변수만으로도 15%가까운 설명력을 보인다는 것이 중요하다.\n",
    "\n",
    "모형을 좀더 수정하자. "
   ]
  },
  {
   "cell_type": "markdown",
   "metadata": {},
   "source": [
    "일을 하는 연차가 늘어나면 실제로 임금이 떨어질 수 있다. 성과를 내기가 더 힘들고 육체적 능력도 저하될 수 있다. 따라서 experience는 2차형이 되면 어떨까? 2차 형을 만들기 위해 I()함수를 써서 새로 변수를 임시로 정의하자. 이 함수는 제약(inhibit)이라는 의미로 원래 있던 변수를 잠시 계산해서 사용하는(그래서 제약이 걸린) 변수를 만들어준다. 여기서는 제곱(^2)이 되는 2차 함수를 정의했다. 즉,\n",
    "\n",
    "$$ log_{wage}=\\beta_{0}+\\beta_{1}experience{i}+\\beta_{2}experience_{i}^{2}+\\beta_{3}education_{i}+\\epsilon_{i}$$\n",
    "\n",
    "모형을 알아본다."
   ]
  },
  {
   "cell_type": "code",
   "execution_count": 20,
   "metadata": {
    "scrolled": false
   },
   "outputs": [
    {
     "data": {
      "text/plain": [
       "\n",
       "Call:\n",
       "lm(formula = logwage ~ education + experience + I(experience^2), \n",
       "    data = PSID1976)\n",
       "\n",
       "Residuals:\n",
       "     Min       1Q   Median       3Q      Max \n",
       "-3.08404 -0.30627  0.04952  0.37498  2.37115 \n",
       "\n",
       "Coefficients:\n",
       "                  Estimate Std. Error t value Pr(>|t|)    \n",
       "(Intercept)     -0.5220406  0.1986321  -2.628  0.00890 ** \n",
       "education        0.1074896  0.0141465   7.598 1.94e-13 ***\n",
       "experience       0.0415665  0.0131752   3.155  0.00172 ** \n",
       "I(experience^2) -0.0008112  0.0003932  -2.063  0.03974 *  \n",
       "---\n",
       "Signif. codes:  0 '***' 0.001 '**' 0.01 '*' 0.05 '.' 0.1 ' ' 1\n",
       "\n",
       "Residual standard error: 0.6664 on 424 degrees of freedom\n",
       "  (325 observations deleted due to missingness)\n",
       "Multiple R-squared:  0.1568,\tAdjusted R-squared:  0.1509 \n",
       "F-statistic: 26.29 on 3 and 424 DF,  p-value: 1.302e-15\n"
      ]
     },
     "metadata": {},
     "output_type": "display_data"
    }
   ],
   "source": [
    "my_model<-lm(logwage~education+experience+I(experience^2),data=PSID1976)\n",
    "summary(my_model)"
   ]
  },
  {
   "cell_type": "code",
   "execution_count": 21,
   "metadata": {
    "scrolled": true
   },
   "outputs": [
    {
     "data": {
      "text/plain": [
       "   Min. 1st Qu.  Median    Mean 3rd Qu.    Max. \n",
       "   0.00    4.00    9.00   10.63   15.00   45.00 "
      ]
     },
     "metadata": {},
     "output_type": "display_data"
    }
   ],
   "source": [
    "summary(PSID1976$experience)"
   ]
  },
  {
   "cell_type": "markdown",
   "metadata": {},
   "source": [
    "### OLS 결과에 대한 시각적 설명\n",
    "OLS결과를 바탕으로 교육과 경력에 따른 시뮬레이션을 수행하자. 이를 시각적으로 보여주면 설명하기 좋다. 우선 우리가 모형에서 확인한 것은 교육과 경력에 따라 다음과 같은 관계가 있다는 사실이다.\n",
    "\n",
    "1. 교육을 오래하면 임금이 오른다.\n",
    "1. 경력을 오래 쌓으면 임금이 오르지만 어느 정도까지만 그렇고 시간이 지나면 오히려 임금이 감소한다.\n",
    "\n",
    "이를 그래프로 그려서 확인하자.\n",
    "\n",
    "아래 코드는 100% 이해를 하지 못해도 좋다. 다만 앞서 설명한 것을 바탕으로 최대한 생각해보자."
   ]
  },
  {
   "cell_type": "code",
   "execution_count": 22,
   "metadata": {},
   "outputs": [],
   "source": [
    "options(repr.plot.width=7) #plot representation size를 조절하자. RStudio에서는 불필요하다.\n",
    "options(repr.plot.height=2.5)"
   ]
  },
  {
   "cell_type": "code",
   "execution_count": 23,
   "metadata": {
    "scrolled": true
   },
   "outputs": [
    {
     "data": {
      "image/png": "[encoded data removed]",
      "text/plain": [
       "plot without title"
      ]
     },
     "metadata": {},
     "output_type": "display_data"
    }
   ],
   "source": [
    "exp_x<-seq(min(PSID1976$experience),max(PSID1976$experience),length.out=1000)\n",
    "edu_x<-mean(PSID1976$education)\n",
    "prediction_data<-data.frame(experience=exp_x,education=edu_x)\n",
    "predicted_y<-exp(predict(my_model,newdata=prediction_data))\n",
    "predicted_data_experience<-data.frame(x=exp_x,y=predicted_y)\n",
    "fig3<-ggplot(predicted_data_experience,aes(x=x,y=y))+\n",
    "    geom_line(color='red')+\n",
    "    labs(x='경력',y='임금',title='경력에 따른 임금')\n",
    "#다음으로 교육에 따른 임금효과를 보자. log를 취한 것을 exp로 다시 풀었다.\n",
    "edu_x<-seq(min(PSID1976$education),max(PSID1976$education),length.out=100)\n",
    "exp_x<-mean(PSID1976$experience)\n",
    "prediction_data<-data.frame(experience=exp_x,education=edu_x)\n",
    "predicted_y<-exp(predict(my_model,newdata=prediction_data))\n",
    "predicted_data_education<-data.frame(x=edu_x,y=predicted_y)\n",
    "fig4<-ggplot(predicted_data_education,aes(x=x,y=y))+\n",
    "    geom_line(color='blue')+\n",
    "    labs(x='교육',y='임금',title='교육에 따른 임금')\n",
    "grid.arrange(fig3,fig4,ncol=2)"
   ]
  }
 ],
 "metadata": {
  "kernelspec": {
   "display_name": "R",
   "language": "R",
   "name": "ir"
  },
  "language_info": {
   "codemirror_mode": "r",
   "file_extension": ".r",
   "mimetype": "text/x-r-source",
   "name": "R",
   "pygments_lexer": "r",
   "version": "3.6.1"
  }
 },
 "nbformat": 4,
 "nbformat_minor": 4
}
