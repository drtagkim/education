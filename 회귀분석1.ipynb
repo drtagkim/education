{
 "cells": [
  {
   "cell_type": "markdown",
   "metadata": {},
   "source": [
    "### 들어가는 말\n",
    "본 자료는 우석진 교수님의 \"경제 빅데이터 분석을 위한 R\" (주)지필미디어. 를 참고로 하였습니다.\n",
    "\n",
    "광운대학교 경영학부 부교수 김태경\n",
    "\n",
    "2020년 4월 29일"
   ]
  },
  {
   "cell_type": "markdown",
   "metadata": {},
   "source": [
    "# 회귀분석\n",
    "## 분석 목적\n",
    "* 정책변수와 성과변수 사이의 인과관계 추정\n",
    "\n",
    "## 예제\n",
    "* 노동경제학에서 자주 사용하는 Mincer의 임금 방정식을 보자.\n",
    "* 로그 임금은 교육과 경력에 의해 결정된다고 생각할 때 다음과 같은 방정식을 세울 수 있다.\n",
    "$$ ln(w_{i})=\\beta_{0}+\\beta_{1}edu_{i}+\\beta_{2}exp_{i}+\\epsilon_{i}$$\n",
    "* 물론 교육은 edu, 경력은 exp, 그리고 첨자 i는 각 개인(individual)을 나타낸다. 엡실론은 미처 설명하지 못한 개인의 차이를 뜻한다."
   ]
  },
  {
   "cell_type": "code",
   "execution_count": 1,
   "metadata": {},
   "outputs": [],
   "source": [
    "suppressMessages(suppressWarnings({\n",
    "    library(AER) #계량경제 패키지\n",
    "    library(tidyverse) #데이터처리 패키지\n",
    "    library(ggplot2) #그래프 도구\n",
    "    library(grid) #그래프 도구\n",
    "    library(gridExtra) #그래프 도구\n",
    "}))"
   ]
  },
  {
   "cell_type": "markdown",
   "metadata": {},
   "source": [
    "함수 suppressMessage()는 메시지를 보여주지 말라는 뜻, 그리고 suppressWarnings()는 경고를 보여주지 말라는 뜻이다."
   ]
  },
  {
   "cell_type": "code",
   "execution_count": 2,
   "metadata": {},
   "outputs": [],
   "source": [
    "data(PSID1976)"
   ]
  },
  {
   "cell_type": "markdown",
   "metadata": {},
   "source": [
    "데이터를 불러오는 data()함수를 사용하여 AER 패키지 안에 있는 PSID1976 데이터를 가져왔다. 이 데이터를 이용해서 회귀분석을 수행해보자."
   ]
  },
  {
   "cell_type": "code",
   "execution_count": 3,
   "metadata": {},
   "outputs": [
    {
     "name": "stdout",
     "output_type": "stream",
     "text": [
      "'data.frame':\t753 obs. of  21 variables:\n",
      " $ participation: Factor w/ 2 levels \"no\",\"yes\": 2 2 2 2 2 2 2 2 2 2 ...\n",
      " $ hours        : int  1610 1656 1980 456 1568 2032 1440 1020 1458 1600 ...\n",
      " $ youngkids    : int  1 0 1 0 1 0 0 0 0 0 ...\n",
      " $ oldkids      : int  0 2 3 3 2 0 2 0 2 2 ...\n",
      " $ age          : int  32 30 35 34 31 54 37 54 48 39 ...\n",
      " $ education    : int  12 12 12 12 14 12 16 12 12 12 ...\n",
      " $ wage         : num  3.35 1.39 4.55 1.1 4.59 ...\n",
      " $ repwage      : num  2.65 2.65 4.04 3.25 3.6 4.7 5.95 9.98 0 4.15 ...\n",
      " $ hhours       : int  2708 2310 3072 1920 2000 1040 2670 4120 1995 2100 ...\n",
      " $ hage         : int  34 30 40 53 32 57 37 53 52 43 ...\n",
      " $ heducation   : int  12 9 12 10 12 11 12 8 4 12 ...\n",
      " $ hwage        : num  4.03 8.44 3.58 3.54 10 ...\n",
      " $ fincome      : int  16310 21800 21040 7300 27300 19495 21152 18900 20405 20425 ...\n",
      " $ tax          : num  0.722 0.661 0.692 0.781 0.622 ...\n",
      " $ meducation   : int  12 7 12 7 12 14 14 3 7 7 ...\n",
      " $ feducation   : int  7 7 7 7 14 7 7 3 7 7 ...\n",
      " $ unemp        : num  5 11 5 5 9.5 7.5 5 5 3 5 ...\n",
      " $ city         : Factor w/ 2 levels \"no\",\"yes\": 1 2 1 1 2 2 1 1 1 1 ...\n",
      " $ experience   : int  14 5 15 6 7 33 11 35 24 21 ...\n",
      " $ college      : Factor w/ 2 levels \"no\",\"yes\": 1 1 1 1 2 1 2 1 1 1 ...\n",
      " $ hcollege     : Factor w/ 2 levels \"no\",\"yes\": 1 1 1 1 1 1 1 1 1 1 ...\n"
     ]
    }
   ],
   "source": [
    "str(PSID1976)"
   ]
  },
  {
   "cell_type": "markdown",
   "metadata": {},
   "source": [
    "데이터의 구조를 보기 위해 str() 함수를 사용했다. 데이터의 클래스는 data.frame이고 753개의 관측치(obs), 21개의 변수(variables)이 있는 것을 확인할 수 있다. 그리고 변수는 각각 participation, hours, youngkids 등이다. 변수를 나타내는 첨자는 $이다. 예를 들어 $participation이라고 하면 \"변수 participation\"이다. 각 변수의 데이터 특성이 Factor(요인), int(정수), num(실수) 등으로 표시되었다. 그리고 해당 데이터를 조금 보여준다. Factor w/ 2는 요인 2개라는 뜻이고 각각의 요인 수준(levels)은 \"no\", \"yes\" 등으로 표시된다. 뒤의 점수는 요인 수준에 따라 할당된 숫자다. 예를 들어 no=1, yes=2 라는 식이라서 2 2 2 라면 yes yes yes가 된다."
   ]
  },
  {
   "cell_type": "code",
   "execution_count": 4,
   "metadata": {},
   "outputs": [],
   "source": [
    "attach(PSID1976)"
   ]
  },
  {
   "cell_type": "markdown",
   "metadata": {},
   "source": [
    "함수 attach()는 해당 데이터의 변수들을 전부 벡터형태로 풀어서 현재의 작업 환경(global environment)에 풀어놓는다. 이를 거둬들이려면 detatch()라고 하면 된다."
   ]
  },
  {
   "cell_type": "code",
   "execution_count": 5,
   "metadata": {},
   "outputs": [
    {
     "data": {
      "text/html": [
       "'PSID1976'"
      ],
      "text/latex": [
       "'PSID1976'"
      ],
      "text/markdown": [
       "'PSID1976'"
      ],
      "text/plain": [
       "[1] \"PSID1976\""
      ]
     },
     "metadata": {},
     "output_type": "display_data"
    }
   ],
   "source": [
    "ls()"
   ]
  },
  {
   "cell_type": "markdown",
   "metadata": {},
   "source": [
    "현재 작업 환경(environment)의 메모리 객체를 보려면 함수 ls()를 실행한다."
   ]
  },
  {
   "cell_type": "code",
   "execution_count": 6,
   "metadata": {},
   "outputs": [
    {
     "data": {
      "text/html": [
       "<table>\n",
       "<thead><tr><th scope=col>participation</th><th scope=col>hours</th><th scope=col>youngkids</th><th scope=col>oldkids</th><th scope=col>age</th><th scope=col>education</th><th scope=col>wage</th><th scope=col>repwage</th><th scope=col>hhours</th><th scope=col>hage</th><th scope=col>...</th><th scope=col>hwage</th><th scope=col>fincome</th><th scope=col>tax</th><th scope=col>meducation</th><th scope=col>feducation</th><th scope=col>unemp</th><th scope=col>city</th><th scope=col>experience</th><th scope=col>college</th><th scope=col>hcollege</th></tr></thead>\n",
       "<tbody>\n",
       "\t<tr><td>yes    </td><td>1610   </td><td>1      </td><td>0      </td><td>32     </td><td>12     </td><td>3.3540 </td><td>2.65   </td><td>2708   </td><td>34     </td><td>...    </td><td> 4.0288</td><td>16310  </td><td>0.7215 </td><td>12     </td><td> 7     </td><td> 5.0   </td><td>no     </td><td>14     </td><td>no     </td><td>no     </td></tr>\n",
       "\t<tr><td>yes    </td><td>1656   </td><td>0      </td><td>2      </td><td>30     </td><td>12     </td><td>1.3889 </td><td>2.65   </td><td>2310   </td><td>30     </td><td>...    </td><td> 8.4416</td><td>21800  </td><td>0.6615 </td><td> 7     </td><td> 7     </td><td>11.0   </td><td>yes    </td><td> 5     </td><td>no     </td><td>no     </td></tr>\n",
       "\t<tr><td>yes    </td><td>1980   </td><td>1      </td><td>3      </td><td>35     </td><td>12     </td><td>4.5455 </td><td>4.04   </td><td>3072   </td><td>40     </td><td>...    </td><td> 3.5807</td><td>21040  </td><td>0.6915 </td><td>12     </td><td> 7     </td><td> 5.0   </td><td>no     </td><td>15     </td><td>no     </td><td>no     </td></tr>\n",
       "\t<tr><td>yes    </td><td> 456   </td><td>0      </td><td>3      </td><td>34     </td><td>12     </td><td>1.0965 </td><td>3.25   </td><td>1920   </td><td>53     </td><td>...    </td><td> 3.5417</td><td> 7300  </td><td>0.7815 </td><td> 7     </td><td> 7     </td><td> 5.0   </td><td>no     </td><td> 6     </td><td>no     </td><td>no     </td></tr>\n",
       "\t<tr><td>yes    </td><td>1568   </td><td>1      </td><td>2      </td><td>31     </td><td>14     </td><td>4.5918 </td><td>3.60   </td><td>2000   </td><td>32     </td><td>...    </td><td>10.0000</td><td>27300  </td><td>0.6215 </td><td>12     </td><td>14     </td><td> 9.5   </td><td>yes    </td><td> 7     </td><td>yes    </td><td>no     </td></tr>\n",
       "\t<tr><td>yes    </td><td>2032   </td><td>0      </td><td>0      </td><td>54     </td><td>12     </td><td>4.7421 </td><td>4.70   </td><td>1040   </td><td>57     </td><td>...    </td><td> 6.7106</td><td>19495  </td><td>0.6915 </td><td>14     </td><td> 7     </td><td> 7.5   </td><td>yes    </td><td>33     </td><td>no     </td><td>no     </td></tr>\n",
       "</tbody>\n",
       "</table>\n"
      ],
      "text/latex": [
       "\\begin{tabular}{r|lllllllllllllllllllll}\n",
       " participation & hours & youngkids & oldkids & age & education & wage & repwage & hhours & hage & ... & hwage & fincome & tax & meducation & feducation & unemp & city & experience & college & hcollege\\\\\n",
       "\\hline\n",
       "\t yes     & 1610    & 1       & 0       & 32      & 12      & 3.3540  & 2.65    & 2708    & 34      & ...     &  4.0288 & 16310   & 0.7215  & 12      &  7      &  5.0    & no      & 14      & no      & no     \\\\\n",
       "\t yes     & 1656    & 0       & 2       & 30      & 12      & 1.3889  & 2.65    & 2310    & 30      & ...     &  8.4416 & 21800   & 0.6615  &  7      &  7      & 11.0    & yes     &  5      & no      & no     \\\\\n",
       "\t yes     & 1980    & 1       & 3       & 35      & 12      & 4.5455  & 4.04    & 3072    & 40      & ...     &  3.5807 & 21040   & 0.6915  & 12      &  7      &  5.0    & no      & 15      & no      & no     \\\\\n",
       "\t yes     &  456    & 0       & 3       & 34      & 12      & 1.0965  & 3.25    & 1920    & 53      & ...     &  3.5417 &  7300   & 0.7815  &  7      &  7      &  5.0    & no      &  6      & no      & no     \\\\\n",
       "\t yes     & 1568    & 1       & 2       & 31      & 14      & 4.5918  & 3.60    & 2000    & 32      & ...     & 10.0000 & 27300   & 0.6215  & 12      & 14      &  9.5    & yes     &  7      & yes     & no     \\\\\n",
       "\t yes     & 2032    & 0       & 0       & 54      & 12      & 4.7421  & 4.70    & 1040    & 57      & ...     &  6.7106 & 19495   & 0.6915  & 14      &  7      &  7.5    & yes     & 33      & no      & no     \\\\\n",
       "\\end{tabular}\n"
      ],
      "text/markdown": [
       "\n",
       "| participation | hours | youngkids | oldkids | age | education | wage | repwage | hhours | hage | ... | hwage | fincome | tax | meducation | feducation | unemp | city | experience | college | hcollege |\n",
       "|---|---|---|---|---|---|---|---|---|---|---|---|---|---|---|---|---|---|---|---|---|\n",
       "| yes     | 1610    | 1       | 0       | 32      | 12      | 3.3540  | 2.65    | 2708    | 34      | ...     |  4.0288 | 16310   | 0.7215  | 12      |  7      |  5.0    | no      | 14      | no      | no      |\n",
       "| yes     | 1656    | 0       | 2       | 30      | 12      | 1.3889  | 2.65    | 2310    | 30      | ...     |  8.4416 | 21800   | 0.6615  |  7      |  7      | 11.0    | yes     |  5      | no      | no      |\n",
       "| yes     | 1980    | 1       | 3       | 35      | 12      | 4.5455  | 4.04    | 3072    | 40      | ...     |  3.5807 | 21040   | 0.6915  | 12      |  7      |  5.0    | no      | 15      | no      | no      |\n",
       "| yes     |  456    | 0       | 3       | 34      | 12      | 1.0965  | 3.25    | 1920    | 53      | ...     |  3.5417 |  7300   | 0.7815  |  7      |  7      |  5.0    | no      |  6      | no      | no      |\n",
       "| yes     | 1568    | 1       | 2       | 31      | 14      | 4.5918  | 3.60    | 2000    | 32      | ...     | 10.0000 | 27300   | 0.6215  | 12      | 14      |  9.5    | yes     |  7      | yes     | no      |\n",
       "| yes     | 2032    | 0       | 0       | 54      | 12      | 4.7421  | 4.70    | 1040    | 57      | ...     |  6.7106 | 19495   | 0.6915  | 14      |  7      |  7.5    | yes     | 33      | no      | no      |\n",
       "\n"
      ],
      "text/plain": [
       "  participation hours youngkids oldkids age education wage   repwage hhours\n",
       "1 yes           1610  1         0       32  12        3.3540 2.65    2708  \n",
       "2 yes           1656  0         2       30  12        1.3889 2.65    2310  \n",
       "3 yes           1980  1         3       35  12        4.5455 4.04    3072  \n",
       "4 yes            456  0         3       34  12        1.0965 3.25    1920  \n",
       "5 yes           1568  1         2       31  14        4.5918 3.60    2000  \n",
       "6 yes           2032  0         0       54  12        4.7421 4.70    1040  \n",
       "  hage ... hwage   fincome tax    meducation feducation unemp city experience\n",
       "1 34   ...  4.0288 16310   0.7215 12          7          5.0  no   14        \n",
       "2 30   ...  8.4416 21800   0.6615  7          7         11.0  yes   5        \n",
       "3 40   ...  3.5807 21040   0.6915 12          7          5.0  no   15        \n",
       "4 53   ...  3.5417  7300   0.7815  7          7          5.0  no    6        \n",
       "5 32   ... 10.0000 27300   0.6215 12         14          9.5  yes   7        \n",
       "6 57   ...  6.7106 19495   0.6915 14          7          7.5  yes  33        \n",
       "  college hcollege\n",
       "1 no      no      \n",
       "2 no      no      \n",
       "3 no      no      \n",
       "4 no      no      \n",
       "5 yes     no      \n",
       "6 no      no      "
      ]
     },
     "metadata": {},
     "output_type": "display_data"
    }
   ],
   "source": [
    "head(PSID1976)"
   ]
  },
  {
   "cell_type": "code",
   "execution_count": 10,
   "metadata": {},
   "outputs": [
    {
     "data": {
      "text/html": [
       "<ol class=list-inline>\n",
       "\t<li>0</li>\n",
       "\t<li>0</li>\n",
       "\t<li>0</li>\n",
       "\t<li>0</li>\n",
       "\t<li>0</li>\n",
       "\t<li>0</li>\n",
       "</ol>\n"
      ],
      "text/latex": [
       "\\begin{enumerate*}\n",
       "\\item 0\n",
       "\\item 0\n",
       "\\item 0\n",
       "\\item 0\n",
       "\\item 0\n",
       "\\item 0\n",
       "\\end{enumerate*}\n"
      ],
      "text/markdown": [
       "1. 0\n",
       "2. 0\n",
       "3. 0\n",
       "4. 0\n",
       "5. 0\n",
       "6. 0\n",
       "\n",
       "\n"
      ],
      "text/plain": [
       "[1] 0 0 0 0 0 0"
      ]
     },
     "metadata": {},
     "output_type": "display_data"
    }
   ],
   "source": [
    "tail(hours)"
   ]
  },
  {
   "cell_type": "markdown",
   "metadata": {},
   "source": [
    "데이터의 일부를 살펴보기 위해 head()와 tail()을 실행했다. 각각 처음 5개, 뒤의 5개라는 말이다. 보여주는 개수를 정해줄 수도 있다."
   ]
  },
  {
   "cell_type": "code",
   "execution_count": 11,
   "metadata": {},
   "outputs": [
    {
     "data": {
      "text/html": [
       "<table>\n",
       "<thead><tr><th scope=col>participation</th><th scope=col>hours</th><th scope=col>youngkids</th><th scope=col>oldkids</th><th scope=col>age</th><th scope=col>education</th><th scope=col>wage</th><th scope=col>repwage</th><th scope=col>hhours</th><th scope=col>hage</th><th scope=col>...</th><th scope=col>hwage</th><th scope=col>fincome</th><th scope=col>tax</th><th scope=col>meducation</th><th scope=col>feducation</th><th scope=col>unemp</th><th scope=col>city</th><th scope=col>experience</th><th scope=col>college</th><th scope=col>hcollege</th></tr></thead>\n",
       "<tbody>\n",
       "\t<tr><td>yes   </td><td>1610  </td><td>1     </td><td>0     </td><td>32    </td><td>12    </td><td>3.3540</td><td>2.65  </td><td>2708  </td><td>34    </td><td>...   </td><td>4.0288</td><td>16310 </td><td>0.7215</td><td>12    </td><td>7     </td><td> 5    </td><td>no    </td><td>14    </td><td>no    </td><td>no    </td></tr>\n",
       "\t<tr><td>yes   </td><td>1656  </td><td>0     </td><td>2     </td><td>30    </td><td>12    </td><td>1.3889</td><td>2.65  </td><td>2310  </td><td>30    </td><td>...   </td><td>8.4416</td><td>21800 </td><td>0.6615</td><td> 7    </td><td>7     </td><td>11    </td><td>yes   </td><td> 5    </td><td>no    </td><td>no    </td></tr>\n",
       "</tbody>\n",
       "</table>\n"
      ],
      "text/latex": [
       "\\begin{tabular}{r|lllllllllllllllllllll}\n",
       " participation & hours & youngkids & oldkids & age & education & wage & repwage & hhours & hage & ... & hwage & fincome & tax & meducation & feducation & unemp & city & experience & college & hcollege\\\\\n",
       "\\hline\n",
       "\t yes    & 1610   & 1      & 0      & 32     & 12     & 3.3540 & 2.65   & 2708   & 34     & ...    & 4.0288 & 16310  & 0.7215 & 12     & 7      &  5     & no     & 14     & no     & no    \\\\\n",
       "\t yes    & 1656   & 0      & 2      & 30     & 12     & 1.3889 & 2.65   & 2310   & 30     & ...    & 8.4416 & 21800  & 0.6615 &  7     & 7      & 11     & yes    &  5     & no     & no    \\\\\n",
       "\\end{tabular}\n"
      ],
      "text/markdown": [
       "\n",
       "| participation | hours | youngkids | oldkids | age | education | wage | repwage | hhours | hage | ... | hwage | fincome | tax | meducation | feducation | unemp | city | experience | college | hcollege |\n",
       "|---|---|---|---|---|---|---|---|---|---|---|---|---|---|---|---|---|---|---|---|---|\n",
       "| yes    | 1610   | 1      | 0      | 32     | 12     | 3.3540 | 2.65   | 2708   | 34     | ...    | 4.0288 | 16310  | 0.7215 | 12     | 7      |  5     | no     | 14     | no     | no     |\n",
       "| yes    | 1656   | 0      | 2      | 30     | 12     | 1.3889 | 2.65   | 2310   | 30     | ...    | 8.4416 | 21800  | 0.6615 |  7     | 7      | 11     | yes    |  5     | no     | no     |\n",
       "\n"
      ],
      "text/plain": [
       "  participation hours youngkids oldkids age education wage   repwage hhours\n",
       "1 yes           1610  1         0       32  12        3.3540 2.65    2708  \n",
       "2 yes           1656  0         2       30  12        1.3889 2.65    2310  \n",
       "  hage ... hwage  fincome tax    meducation feducation unemp city experience\n",
       "1 34   ... 4.0288 16310   0.7215 12         7           5    no   14        \n",
       "2 30   ... 8.4416 21800   0.6615  7         7          11    yes   5        \n",
       "  college hcollege\n",
       "1 no      no      \n",
       "2 no      no      "
      ]
     },
     "metadata": {},
     "output_type": "display_data"
    }
   ],
   "source": [
    "head(PSID1976, n=2)"
   ]
  },
  {
   "cell_type": "markdown",
   "metadata": {},
   "source": [
    "### 데이터 변환 - log 임금\n",
    "PSID1976의 임금 데이터는 명목임금으로 log값으로 변환되지 않았다. 우리가 추정하려는 식의 임금은 log(임금)이기 때문에 이를 변환해서 사용해야 한다. tidyverse의 mutate()함수를 써서 logwage 변수를 추가하자."
   ]
  },
  {
   "cell_type": "code",
   "execution_count": 12,
   "metadata": {},
   "outputs": [],
   "source": [
    "PSID1976<-PSID1976%>%mutate(logwage=log(wage))"
   ]
  },
  {
   "cell_type": "code",
   "execution_count": 13,
   "metadata": {},
   "outputs": [
    {
     "data": {
      "text/html": [
       "<ol class=list-inline>\n",
       "\t<li>'participation'</li>\n",
       "\t<li>'hours'</li>\n",
       "\t<li>'youngkids'</li>\n",
       "\t<li>'oldkids'</li>\n",
       "\t<li>'age'</li>\n",
       "\t<li>'education'</li>\n",
       "\t<li>'wage'</li>\n",
       "\t<li>'repwage'</li>\n",
       "\t<li>'hhours'</li>\n",
       "\t<li>'hage'</li>\n",
       "\t<li>'heducation'</li>\n",
       "\t<li>'hwage'</li>\n",
       "\t<li>'fincome'</li>\n",
       "\t<li>'tax'</li>\n",
       "\t<li>'meducation'</li>\n",
       "\t<li>'feducation'</li>\n",
       "\t<li>'unemp'</li>\n",
       "\t<li>'city'</li>\n",
       "\t<li>'experience'</li>\n",
       "\t<li>'college'</li>\n",
       "\t<li>'hcollege'</li>\n",
       "\t<li>'logwage'</li>\n",
       "</ol>\n"
      ],
      "text/latex": [
       "\\begin{enumerate*}\n",
       "\\item 'participation'\n",
       "\\item 'hours'\n",
       "\\item 'youngkids'\n",
       "\\item 'oldkids'\n",
       "\\item 'age'\n",
       "\\item 'education'\n",
       "\\item 'wage'\n",
       "\\item 'repwage'\n",
       "\\item 'hhours'\n",
       "\\item 'hage'\n",
       "\\item 'heducation'\n",
       "\\item 'hwage'\n",
       "\\item 'fincome'\n",
       "\\item 'tax'\n",
       "\\item 'meducation'\n",
       "\\item 'feducation'\n",
       "\\item 'unemp'\n",
       "\\item 'city'\n",
       "\\item 'experience'\n",
       "\\item 'college'\n",
       "\\item 'hcollege'\n",
       "\\item 'logwage'\n",
       "\\end{enumerate*}\n"
      ],
      "text/markdown": [
       "1. 'participation'\n",
       "2. 'hours'\n",
       "3. 'youngkids'\n",
       "4. 'oldkids'\n",
       "5. 'age'\n",
       "6. 'education'\n",
       "7. 'wage'\n",
       "8. 'repwage'\n",
       "9. 'hhours'\n",
       "10. 'hage'\n",
       "11. 'heducation'\n",
       "12. 'hwage'\n",
       "13. 'fincome'\n",
       "14. 'tax'\n",
       "15. 'meducation'\n",
       "16. 'feducation'\n",
       "17. 'unemp'\n",
       "18. 'city'\n",
       "19. 'experience'\n",
       "20. 'college'\n",
       "21. 'hcollege'\n",
       "22. 'logwage'\n",
       "\n",
       "\n"
      ],
      "text/plain": [
       " [1] \"participation\" \"hours\"         \"youngkids\"     \"oldkids\"      \n",
       " [5] \"age\"           \"education\"     \"wage\"          \"repwage\"      \n",
       " [9] \"hhours\"        \"hage\"          \"heducation\"    \"hwage\"        \n",
       "[13] \"fincome\"       \"tax\"           \"meducation\"    \"feducation\"   \n",
       "[17] \"unemp\"         \"city\"          \"experience\"    \"college\"      \n",
       "[21] \"hcollege\"      \"logwage\"      "
      ]
     },
     "metadata": {},
     "output_type": "display_data"
    }
   ],
   "source": [
    "names(PSID1976)"
   ]
  },
  {
   "cell_type": "markdown",
   "metadata": {},
   "source": [
    "변수의 이름을 출력하는 함수 names()를 써서 확인해보니 logwage가 새로 생성되었다. "
   ]
  },
  {
   "cell_type": "markdown",
   "metadata": {},
   "source": [
    "### 무한대 처리\n",
    "임금이 없으면 0인데, log(0)을 취하면 -무한대가 된다(-Inf). 이 경우에는 계산이 불가능하기 때문에 계산에서 이 부분을 제외시켜야 한다. 가장 간단한 방법은 해당 부분을 결측치(NA)로 바꾸면 된다."
   ]
  },
  {
   "cell_type": "code",
   "execution_count": 44,
   "metadata": {
    "scrolled": true
   },
   "outputs": [
    {
     "data": {
      "text/html": [
       "<ol class=list-inline>\n",
       "\t<li>&lt;NA&gt;</li>\n",
       "\t<li>&lt;NA&gt;</li>\n",
       "\t<li>&lt;NA&gt;</li>\n",
       "\t<li>&lt;NA&gt;</li>\n",
       "\t<li>&lt;NA&gt;</li>\n",
       "\t<li>&lt;NA&gt;</li>\n",
       "</ol>\n"
      ],
      "text/latex": [
       "\\begin{enumerate*}\n",
       "\\item <NA>\n",
       "\\item <NA>\n",
       "\\item <NA>\n",
       "\\item <NA>\n",
       "\\item <NA>\n",
       "\\item <NA>\n",
       "\\end{enumerate*}\n"
      ],
      "text/markdown": [
       "1. &lt;NA&gt;\n",
       "2. &lt;NA&gt;\n",
       "3. &lt;NA&gt;\n",
       "4. &lt;NA&gt;\n",
       "5. &lt;NA&gt;\n",
       "6. &lt;NA&gt;\n",
       "\n",
       "\n"
      ],
      "text/plain": [
       "[1] NA NA NA NA NA NA"
      ]
     },
     "metadata": {},
     "output_type": "display_data"
    }
   ],
   "source": [
    "tail(PSID1976$logwage)"
   ]
  },
  {
   "cell_type": "markdown",
   "metadata": {},
   "source": [
    "잠깐, 결측치를 확인하는 함수는 is.na()이고 여기에 결측치면 TRUE, 그렇지 않으면 FALSE를 할당한다."
   ]
  },
  {
   "cell_type": "code",
   "execution_count": 28,
   "metadata": {},
   "outputs": [
    {
     "data": {
      "text/html": [
       "<ol class=list-inline>\n",
       "\t<li>TRUE</li>\n",
       "\t<li>FALSE</li>\n",
       "\t<li>FALSE</li>\n",
       "\t<li>TRUE</li>\n",
       "\t<li>FALSE</li>\n",
       "\t<li>FALSE</li>\n",
       "</ol>\n"
      ],
      "text/latex": [
       "\\begin{enumerate*}\n",
       "\\item TRUE\n",
       "\\item FALSE\n",
       "\\item FALSE\n",
       "\\item TRUE\n",
       "\\item FALSE\n",
       "\\item FALSE\n",
       "\\end{enumerate*}\n"
      ],
      "text/markdown": [
       "1. TRUE\n",
       "2. FALSE\n",
       "3. FALSE\n",
       "4. TRUE\n",
       "5. FALSE\n",
       "6. FALSE\n",
       "\n",
       "\n"
      ],
      "text/plain": [
       "[1]  TRUE FALSE FALSE  TRUE FALSE FALSE"
      ]
     },
     "metadata": {},
     "output_type": "display_data"
    }
   ],
   "source": [
    "is.na(c(NA,1,2,NA,3,4))"
   ]
  },
  {
   "cell_type": "markdown",
   "metadata": {},
   "source": [
    "벡터를 결측치로 처리하면 TRUE나 FALSE로 값을 할당하면 된다."
   ]
  },
  {
   "cell_type": "code",
   "execution_count": 34,
   "metadata": {},
   "outputs": [
    {
     "data": {
      "text/html": [
       "<ol class=list-inline>\n",
       "\t<li>&lt;NA&gt;</li>\n",
       "\t<li>1</li>\n",
       "\t<li>2</li>\n",
       "\t<li>&lt;NA&gt;</li>\n",
       "\t<li>3</li>\n",
       "\t<li>4</li>\n",
       "</ol>\n"
      ],
      "text/latex": [
       "\\begin{enumerate*}\n",
       "\\item <NA>\n",
       "\\item 1\n",
       "\\item 2\n",
       "\\item <NA>\n",
       "\\item 3\n",
       "\\item 4\n",
       "\\end{enumerate*}\n"
      ],
      "text/markdown": [
       "1. &lt;NA&gt;\n",
       "2. 1\n",
       "3. 2\n",
       "4. &lt;NA&gt;\n",
       "5. 3\n",
       "6. 4\n",
       "\n",
       "\n"
      ],
      "text/plain": [
       "[1] NA  1  2 NA  3  4"
      ]
     },
     "metadata": {},
     "output_type": "display_data"
    },
    {
     "data": {
      "text/html": [
       "<ol class=list-inline>\n",
       "\t<li>&lt;NA&gt;</li>\n",
       "\t<li>&lt;NA&gt;</li>\n",
       "\t<li>&lt;NA&gt;</li>\n",
       "\t<li>&lt;NA&gt;</li>\n",
       "\t<li>&lt;NA&gt;</li>\n",
       "\t<li>&lt;NA&gt;</li>\n",
       "</ol>\n"
      ],
      "text/latex": [
       "\\begin{enumerate*}\n",
       "\\item <NA>\n",
       "\\item <NA>\n",
       "\\item <NA>\n",
       "\\item <NA>\n",
       "\\item <NA>\n",
       "\\item <NA>\n",
       "\\end{enumerate*}\n"
      ],
      "text/markdown": [
       "1. &lt;NA&gt;\n",
       "2. &lt;NA&gt;\n",
       "3. &lt;NA&gt;\n",
       "4. &lt;NA&gt;\n",
       "5. &lt;NA&gt;\n",
       "6. &lt;NA&gt;\n",
       "\n",
       "\n"
      ],
      "text/plain": [
       "[1] NA NA NA NA NA NA"
      ]
     },
     "metadata": {},
     "output_type": "display_data"
    }
   ],
   "source": [
    "test<-c(NA,1,2,NA,3,4)\n",
    "test\n",
    "is.na(test)<-TRUE\n",
    "test\n",
    "rm(test)"
   ]
  },
  {
   "cell_type": "markdown",
   "metadata": {},
   "source": [
    "벡터 test는 잠시 썼던 것이라서 메모리에서 깔끔하게 지웠다. 이때 rm() 함수를 썼다. Remove라는 뜻이다."
   ]
  },
  {
   "cell_type": "markdown",
   "metadata": {},
   "source": [
    "무한대를 확인하는 함수는 is.infinite()이다. 함수를 개별 벡터에 적용하여 스칼라 값을 구하는 손쉬운 방법은 간단적용함수(simple apply = sapply())를 사용하는 것이다. 방법은 sapply(데이터,함수이름)이다. 아래의 코드를 살펴보자."
   ]
  },
  {
   "cell_type": "code",
   "execution_count": 35,
   "metadata": {},
   "outputs": [],
   "source": [
    "is.na(PSID1976)<-sapply(PSID1976,is.infinite)"
   ]
  },
  {
   "cell_type": "code",
   "execution_count": 45,
   "metadata": {},
   "outputs": [
    {
     "data": {
      "text/html": [
       "<ol class=list-inline>\n",
       "\t<li>&lt;NA&gt;</li>\n",
       "\t<li>&lt;NA&gt;</li>\n",
       "\t<li>&lt;NA&gt;</li>\n",
       "\t<li>&lt;NA&gt;</li>\n",
       "\t<li>&lt;NA&gt;</li>\n",
       "\t<li>&lt;NA&gt;</li>\n",
       "</ol>\n"
      ],
      "text/latex": [
       "\\begin{enumerate*}\n",
       "\\item <NA>\n",
       "\\item <NA>\n",
       "\\item <NA>\n",
       "\\item <NA>\n",
       "\\item <NA>\n",
       "\\item <NA>\n",
       "\\end{enumerate*}\n"
      ],
      "text/markdown": [
       "1. &lt;NA&gt;\n",
       "2. &lt;NA&gt;\n",
       "3. &lt;NA&gt;\n",
       "4. &lt;NA&gt;\n",
       "5. &lt;NA&gt;\n",
       "6. &lt;NA&gt;\n",
       "\n",
       "\n"
      ],
      "text/plain": [
       "[1] NA NA NA NA NA NA"
      ]
     },
     "metadata": {},
     "output_type": "display_data"
    }
   ],
   "source": [
    "tail(PSID1976$logwage)"
   ]
  },
  {
   "cell_type": "markdown",
   "metadata": {},
   "source": [
    "무한대가 모두 결측값(NA)로 바뀌었다."
   ]
  },
  {
   "cell_type": "markdown",
   "metadata": {},
   "source": [
    "### 로그 임금의 효과\n",
    "회귀분석에서 Y쪽 변수는 가능한 정규분포를 따라줘야 한다. 특히 데이터의 수가 적다면(1000개 정도도 작은 것) 종모양의 대칭분포에 가까운가를 눈으로 확인하면 좋다. 그래프를 그려서 확인해보자.\n",
    "\n",
    "우리는 ggplot() 그래프 도구를 사용할 예정이다. 팔레트를 놓기 위해 ggplot(데이터,aes()) 형태로 사용한다. aes()는 그래프의 데이터 요소를 반영하는 함수다. 분포를 볼 때 적당한 것이 히스토그램이다. 히스토그램 위젯은 geom_histogram()이다. 이 위젯을 팔레트 위에 더해주는(+) 과정을 거쳐서 그래프를 그려보기로 한다. 히스토그램으로 데이터를 처리하기 위해 geom_histogram()의 데이터 요소(aes)에 밀도함수 계산을 추가하자. 함수를 추가하기 위해 ..density..라는 코드를 사용했다. \n",
    "\n",
    "이외에 투명도(alpha), 채움(fill), 그리고 색상(col)을 두었다. aes 안에 있지 않고 밖에 있다는 점을 눈여겨 보자. 위젯 자체의 속성이고 데이터와는 무관하기 때문이다.\n",
    "\n",
    "히스토그램을 따라서 정규분포 선을 그어서 비교해보자. 정규분포를 계산하는 확률밀도함수는 dnorm()이다. Density of Normal distribution의 약자다. 색상(color)는 red로 하고 dnorm에 필요한 평균(mean)과 표준편차(sd)를 넘겨주기 위해 args에 리스트(list)를 제출한다.\n",
    "\n",
    "이외에 labs() 함수를 사용하여 그래프의 x, y 축 이름과 타이틀을 정해주자.\n",
    "\n",
    "mean()은 평균을 구하는 함수, sd()는 표준편차를 구하는 함수다. na.rm=TRUE라고 하면 결측값을 제외하라는(NA should be removed) 뜻이다.\n",
    "\n",
    "출력은 print(그래프)로 한다. 이때 귀찮은 메시지를 보기 싫으니 suppressWarnings(suppressMessages())안에 넣어주자."
   ]
  },
  {
   "cell_type": "code",
   "execution_count": 43,
   "metadata": {},
   "outputs": [
    {
     "data": {
      "image/png": "[encoded data removed]",
      "text/plain": [
       "plot without title"
      ]
     },
     "metadata": {},
     "output_type": "display_data"
    }
   ],
   "source": [
    "fig1<-ggplot(PSID1976,aes(x=wage))+\n",
    "    geom_histogram(aes(y=..density..),alpha=0.5,fill='black',col='grey')+\n",
    "    stat_function(fun=dnorm,color='red',args=list(mean=mean(wage,na.rm=TRUE),sd=sd(wage,na.rm=TRUE)))+\n",
    "    labs(title=\"통상임금의 정규본포성 확인\",x='통상임금',y='누적도수')\n",
    "suppressWarnings(suppressMessages(print(fig1)))"
   ]
  },
  {
   "cell_type": "code",
   "execution_count": null,
   "metadata": {},
   "outputs": [],
   "source": []
  }
 ],
 "metadata": {
  "kernelspec": {
   "display_name": "R",
   "language": "R",
   "name": "ir"
  },
  "language_info": {
   "codemirror_mode": "r",
   "file_extension": ".r",
   "mimetype": "text/x-r-source",
   "name": "R",
   "pygments_lexer": "r",
   "version": "3.6.1"
  }
 },
 "nbformat": 4,
 "nbformat_minor": 4
}
